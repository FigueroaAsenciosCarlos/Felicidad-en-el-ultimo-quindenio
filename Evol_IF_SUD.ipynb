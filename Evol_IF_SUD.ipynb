{
 "cells": [
  {
   "cell_type": "markdown",
   "id": "5eb40c54",
   "metadata": {},
   "source": [
    "# ¿Que tan felices fuimos los peruanos en el último quindenio?"
   ]
  },
  {
   "cell_type": "markdown",
   "id": "5d220b3b",
   "metadata": {},
   "source": [
    "## TABLA DE CONTENIDO:\n",
    "\n",
    "1. [Introducción](#introducción)\n",
    "2. [Importar librerias](#paragraph1) \n",
    "3. [Configuraciones generales](#paragraph2) \n",
    "4. [Qué hace a un país feliz?](#paragraph3)\n",
    "    4.1 [Importando datos](#subparagraph1)  \n",
    "    4.2 [Dataframe de inicio](#subparagraph2)\n",
    "    4.3 [Dataframe para América latina y El Caribe](#subparagraph3) \n",
    "    4.4 [Dataframe para Sudamérica](#subparagraph4)\n",
    "    4.5 [Dataframe para el Perú](#subparagraph5)\n",
    "5. [Bonus: Trabajando con Formato Ancho - Mapa de Calor del Indice de Felicidad](#paragraph4)\n",
    "6. [Principales hallazgos](#paragraph5)"
   ]
  },
  {
   "cell_type": "markdown",
   "id": "c0c4d519",
   "metadata": {},
   "source": [
    "## 1. Introducción"
   ]
  },
  {
   "cell_type": "markdown",
   "id": "823bcbb4",
   "metadata": {},
   "source": [
    "Este trabajo es la continuación de una entrega anterior [\"Perú: Felicidad y Covid\"](https://github.com/FigueroaAsenciosCarlos/Felicidad-y-Covid-en-el-Peru),basado en cifras de 2021. Uno de los principales resultados obtenidos es que en el último año la felicidad en Sudamerica, y lo propio en el Perú, medido por el Indice de Felicidad (World Happiness Report Index), está asociada a la vacunación de la población en primer lugar y luego a los ingresos, vía PBI percapita. Variables con menor correlación fueron la libertad de tomar decisiones de vida y las percepciones de corrupción. El apoyo social y la generosidad, por su parte, tienen una correlación muy baja con la felicidad, contrario a lo que podía esperarse.\n",
    "Lo que haremos ahora es revisar la evolución del Indice de Felicidad en Sudamerica y en el Perú para el periodo 2006 - 2021, nos interesa conocer el comportamiento del Indice de Felicidad y de sus principales variables asociadas en un periodo largo de tiempo, de tal forma que podamos establecer si los datos recientes se asocian a la pandemia o es algo que ya tenía una tendencia.\n",
    "El punto de partida con respecto a los datos utilizados es el trabajo de [emresengul](https://www.kaggle.com/emresengul/plotly-beginner-friendly-eda-happiness-report/notebook), a partir del cual (dataframe = df) haremos las trasformaciones necesarias para obtener la información requerida.\n",
    "\n",
    "<font color = red>Nota</font>: Hay dos gráficos interactivos que probablemente no se puedan visualizar directamente desde el repositorio, se puede hacer desde un nuevo notebook pegando el código correspondiente, sin embargo, presentamos también las opciones estáticas. Sigo averiguando como publicar gráficos de plotly.  "
   ]
  },
  {
   "cell_type": "markdown",
   "id": "539b47f6",
   "metadata": {},
   "source": [
    "## 2. Importar librerias"
   ]
  },
  {
   "cell_type": "code",
   "execution_count": 2,
   "id": "a581fce0",
   "metadata": {},
   "outputs": [],
   "source": [
    "import pandas as pd\n",
    "import numpy as np\n",
    "import matplotlib.pyplot as plt \n",
    "import seaborn as sns \n",
    "import matplotlib as mpl"
   ]
  },
  {
   "cell_type": "code",
   "execution_count": 3,
   "id": "708f5d70",
   "metadata": {},
   "outputs": [],
   "source": [
    "import plotly \n",
    "import plotly.express as px\n",
    "import plotly.graph_objs as go\n",
    "import plotly.offline as py\n",
    "from plotly.offline import iplot\n",
    "from plotly.subplots import make_subplots\n",
    "import plotly.figure_factory as ff"
   ]
  },
  {
   "cell_type": "markdown",
   "id": "25df4bf8",
   "metadata": {},
   "source": [
    "## 3. Configuraciones generales"
   ]
  },
  {
   "cell_type": "code",
   "execution_count": 4,
   "id": "375d5f65",
   "metadata": {},
   "outputs": [],
   "source": [
    "#%load_ext autoreload\n",
    "#%autoreload 2\n",
    "%matplotlib inline\n",
    "%config IPCompleter.greedy = True\n",
    "\n",
    "pd.options.display.max_columns = None\n",
    "pd.options.display.max_rows = 200\n",
    "\n",
    "sns.set_palette(\"bright\")\n",
    "sns.set(style=\"darkgrid\")\n",
    "sns.set(rc={'figure.figsize':(30,30)})"
   ]
  },
  {
   "cell_type": "markdown",
   "id": "85e24e4c",
   "metadata": {},
   "source": [
    "## 4. Qué hace a un pais feliz?"
   ]
  },
  {
   "cell_type": "markdown",
   "id": "dfcbc387",
   "metadata": {},
   "source": [
    "### ***4.1 Importando los datos***"
   ]
  },
  {
   "cell_type": "code",
   "execution_count": 65,
   "id": "84e981c6",
   "metadata": {},
   "outputs": [],
   "source": [
    "df = pd.read_csv(\"lacwhanual.csv\")\n",
    "pd.set_option('display.max_columns', None)"
   ]
  },
  {
   "cell_type": "markdown",
   "id": "6f4a72d3",
   "metadata": {},
   "source": [
    "### ***4.2 Dataframe de inicio*** "
   ]
  },
  {
   "cell_type": "markdown",
   "id": "58be416a",
   "metadata": {},
   "source": [
    "El dataframe df es nuestro punto de partida. Lo utilizamos debido al excelente trabajo de limpieza y concatenación realizado por emresengul con las bases de datos originales, lo cual es un considerable ahorro de tiempo.  "
   ]
  },
  {
   "cell_type": "code",
   "execution_count": 67,
   "id": "db5b7325",
   "metadata": {},
   "outputs": [
    {
     "data": {
      "text/html": [
       "<style  type=\"text/css\" >\n",
       "#T_16f10_row0_col1,#T_16f10_row0_col2,#T_16f10_row0_col3,#T_16f10_row0_col4,#T_16f10_row0_col5,#T_16f10_row2_col6,#T_16f10_row2_col7,#T_16f10_row2_col8{\n",
       "            background-color:  #fff7fb;\n",
       "            color:  #000000;\n",
       "        }#T_16f10_row0_col6,#T_16f10_row0_col8,#T_16f10_row1_col4,#T_16f10_row1_col7,#T_16f10_row2_col1,#T_16f10_row2_col2,#T_16f10_row2_col3,#T_16f10_row2_col5{\n",
       "            background-color:  #023858;\n",
       "            color:  #f1f1f1;\n",
       "        }#T_16f10_row0_col7{\n",
       "            background-color:  #2081b9;\n",
       "            color:  #000000;\n",
       "        }#T_16f10_row1_col1,#T_16f10_row1_col5{\n",
       "            background-color:  #73a9cf;\n",
       "            color:  #000000;\n",
       "        }#T_16f10_row1_col2{\n",
       "            background-color:  #2a88bc;\n",
       "            color:  #000000;\n",
       "        }#T_16f10_row1_col3{\n",
       "            background-color:  #3b92c1;\n",
       "            color:  #000000;\n",
       "        }#T_16f10_row1_col6{\n",
       "            background-color:  #2484ba;\n",
       "            color:  #000000;\n",
       "        }#T_16f10_row1_col8{\n",
       "            background-color:  #04649d;\n",
       "            color:  #f1f1f1;\n",
       "        }#T_16f10_row2_col4{\n",
       "            background-color:  #045a8d;\n",
       "            color:  #f1f1f1;\n",
       "        }</style><table id=\"T_16f10_\" ><thead>    <tr>        <th class=\"blank level0\" ></th>        <th class=\"col_heading level0 col0\" >Country name</th>        <th class=\"col_heading level0 col1\" >year</th>        <th class=\"col_heading level0 col2\" >Life Ladder</th>        <th class=\"col_heading level0 col3\" >Log GDP per capita</th>        <th class=\"col_heading level0 col4\" >Social support</th>        <th class=\"col_heading level0 col5\" >Healthy life expectancy at birth</th>        <th class=\"col_heading level0 col6\" >Freedom to make life choices</th>        <th class=\"col_heading level0 col7\" >Generosity</th>        <th class=\"col_heading level0 col8\" >Perceptions of corruption</th>        <th class=\"col_heading level0 col9\" >Regional indicator</th>    </tr></thead><tbody>\n",
       "                <tr>\n",
       "                        <th id=\"T_16f10_level0_row0\" class=\"row_heading level0 row0\" >0</th>\n",
       "                        <td id=\"T_16f10_row0_col0\" class=\"data row0 col0\" >Afghanistan</td>\n",
       "                        <td id=\"T_16f10_row0_col1\" class=\"data row0 col1\" >2008</td>\n",
       "                        <td id=\"T_16f10_row0_col2\" class=\"data row0 col2\" >3.724000</td>\n",
       "                        <td id=\"T_16f10_row0_col3\" class=\"data row0 col3\" >7.370000</td>\n",
       "                        <td id=\"T_16f10_row0_col4\" class=\"data row0 col4\" >0.451000</td>\n",
       "                        <td id=\"T_16f10_row0_col5\" class=\"data row0 col5\" >50.800000</td>\n",
       "                        <td id=\"T_16f10_row0_col6\" class=\"data row0 col6\" >0.718000</td>\n",
       "                        <td id=\"T_16f10_row0_col7\" class=\"data row0 col7\" >0.168000</td>\n",
       "                        <td id=\"T_16f10_row0_col8\" class=\"data row0 col8\" >0.882000</td>\n",
       "                        <td id=\"T_16f10_row0_col9\" class=\"data row0 col9\" >South Asia</td>\n",
       "            </tr>\n",
       "            <tr>\n",
       "                        <th id=\"T_16f10_level0_row1\" class=\"row_heading level0 row1\" >1</th>\n",
       "                        <td id=\"T_16f10_row1_col0\" class=\"data row1 col0\" >Afghanistan</td>\n",
       "                        <td id=\"T_16f10_row1_col1\" class=\"data row1 col1\" >2009</td>\n",
       "                        <td id=\"T_16f10_row1_col2\" class=\"data row1 col2\" >4.402000</td>\n",
       "                        <td id=\"T_16f10_row1_col3\" class=\"data row1 col3\" >7.540000</td>\n",
       "                        <td id=\"T_16f10_row1_col4\" class=\"data row1 col4\" >0.552000</td>\n",
       "                        <td id=\"T_16f10_row1_col5\" class=\"data row1 col5\" >51.200000</td>\n",
       "                        <td id=\"T_16f10_row1_col6\" class=\"data row1 col6\" >0.679000</td>\n",
       "                        <td id=\"T_16f10_row1_col7\" class=\"data row1 col7\" >0.190000</td>\n",
       "                        <td id=\"T_16f10_row1_col8\" class=\"data row1 col8\" >0.850000</td>\n",
       "                        <td id=\"T_16f10_row1_col9\" class=\"data row1 col9\" >South Asia</td>\n",
       "            </tr>\n",
       "            <tr>\n",
       "                        <th id=\"T_16f10_level0_row2\" class=\"row_heading level0 row2\" >2</th>\n",
       "                        <td id=\"T_16f10_row2_col0\" class=\"data row2 col0\" >Afghanistan</td>\n",
       "                        <td id=\"T_16f10_row2_col1\" class=\"data row2 col1\" >2010</td>\n",
       "                        <td id=\"T_16f10_row2_col2\" class=\"data row2 col2\" >4.758000</td>\n",
       "                        <td id=\"T_16f10_row2_col3\" class=\"data row2 col3\" >7.647000</td>\n",
       "                        <td id=\"T_16f10_row2_col4\" class=\"data row2 col4\" >0.539000</td>\n",
       "                        <td id=\"T_16f10_row2_col5\" class=\"data row2 col5\" >51.600000</td>\n",
       "                        <td id=\"T_16f10_row2_col6\" class=\"data row2 col6\" >0.600000</td>\n",
       "                        <td id=\"T_16f10_row2_col7\" class=\"data row2 col7\" >0.121000</td>\n",
       "                        <td id=\"T_16f10_row2_col8\" class=\"data row2 col8\" >0.707000</td>\n",
       "                        <td id=\"T_16f10_row2_col9\" class=\"data row2 col9\" >South Asia</td>\n",
       "            </tr>\n",
       "    </tbody></table>"
      ],
      "text/plain": [
       "<pandas.io.formats.style.Styler at 0x206fea78eb0>"
      ]
     },
     "execution_count": 67,
     "metadata": {},
     "output_type": "execute_result"
    }
   ],
   "source": [
    "df.head(3).style.background_gradient()"
   ]
  },
  {
   "cell_type": "markdown",
   "id": "83c525f4",
   "metadata": {},
   "source": [
    "<div class =\" alert alert-danger \"> Hay 161 paises en el dataframe de partida </div>"
   ]
  },
  {
   "cell_type": "code",
   "execution_count": 71,
   "id": "5e1ef90b",
   "metadata": {},
   "outputs": [],
   "source": [
    "y = df['Country name'].value_counts(sort=['year'])"
   ]
  },
  {
   "cell_type": "code",
   "execution_count": 73,
   "id": "5283d745",
   "metadata": {},
   "outputs": [
    {
     "data": {
      "text/plain": [
       "(161,)"
      ]
     },
     "execution_count": 73,
     "metadata": {},
     "output_type": "execute_result"
    }
   ],
   "source": [
    "y.shape"
   ]
  },
  {
   "cell_type": "markdown",
   "id": "470edb4d",
   "metadata": {},
   "source": [
    "### ***4.3 Dataframe de América Latina y el Caribe***"
   ]
  },
  {
   "cell_type": "markdown",
   "id": "ba6a435b",
   "metadata": {},
   "source": [
    "LAC es nuestra dataframe para America Latina y El Caribe."
   ]
  },
  {
   "cell_type": "code",
   "execution_count": 74,
   "id": "fac59703",
   "metadata": {
    "scrolled": false
   },
   "outputs": [
    {
     "data": {
      "text/html": [
       "<style  type=\"text/css\" >\n",
       "#T_97567_row0_col1,#T_97567_row0_col3,#T_97567_row0_col5,#T_97567_row0_col7,#T_97567_row0_col8,#T_97567_row1_col4,#T_97567_row1_col6,#T_97567_row2_col2{\n",
       "            background-color:  #fff7fb;\n",
       "            color:  #000000;\n",
       "        }#T_97567_row0_col2,#T_97567_row0_col4,#T_97567_row0_col6,#T_97567_row1_col8,#T_97567_row2_col1,#T_97567_row2_col3,#T_97567_row2_col5,#T_97567_row2_col7{\n",
       "            background-color:  #023858;\n",
       "            color:  #f1f1f1;\n",
       "        }#T_97567_row1_col1,#T_97567_row1_col5{\n",
       "            background-color:  #73a9cf;\n",
       "            color:  #000000;\n",
       "        }#T_97567_row1_col2{\n",
       "            background-color:  #b9c6e0;\n",
       "            color:  #000000;\n",
       "        }#T_97567_row1_col3{\n",
       "            background-color:  #1278b4;\n",
       "            color:  #f1f1f1;\n",
       "        }#T_97567_row1_col7{\n",
       "            background-color:  #308cbe;\n",
       "            color:  #000000;\n",
       "        }#T_97567_row2_col4{\n",
       "            background-color:  #9ebad9;\n",
       "            color:  #000000;\n",
       "        }#T_97567_row2_col6{\n",
       "            background-color:  #bbc7e0;\n",
       "            color:  #000000;\n",
       "        }#T_97567_row2_col8{\n",
       "            background-color:  #89b1d4;\n",
       "            color:  #000000;\n",
       "        }</style><table id=\"T_97567_\" ><thead>    <tr>        <th class=\"blank level0\" ></th>        <th class=\"col_heading level0 col0\" >Country name</th>        <th class=\"col_heading level0 col1\" >year</th>        <th class=\"col_heading level0 col2\" >Life Ladder</th>        <th class=\"col_heading level0 col3\" >Log GDP per capita</th>        <th class=\"col_heading level0 col4\" >Social support</th>        <th class=\"col_heading level0 col5\" >Healthy life expectancy at birth</th>        <th class=\"col_heading level0 col6\" >Freedom to make life choices</th>        <th class=\"col_heading level0 col7\" >Generosity</th>        <th class=\"col_heading level0 col8\" >Perceptions of corruption</th>        <th class=\"col_heading level0 col9\" >Regional indicator</th>    </tr></thead><tbody>\n",
       "                <tr>\n",
       "                        <th id=\"T_97567_level0_row0\" class=\"row_heading level0 row0\" >0</th>\n",
       "                        <td id=\"T_97567_row0_col0\" class=\"data row0 col0\" >Argentina</td>\n",
       "                        <td id=\"T_97567_row0_col1\" class=\"data row0 col1\" >2006</td>\n",
       "                        <td id=\"T_97567_row0_col2\" class=\"data row0 col2\" >6.313000</td>\n",
       "                        <td id=\"T_97567_row0_col3\" class=\"data row0 col3\" >9.942000</td>\n",
       "                        <td id=\"T_97567_row0_col4\" class=\"data row0 col4\" >0.938000</td>\n",
       "                        <td id=\"T_97567_row0_col5\" class=\"data row0 col5\" >66.820000</td>\n",
       "                        <td id=\"T_97567_row0_col6\" class=\"data row0 col6\" >0.733000</td>\n",
       "                        <td id=\"T_97567_row0_col7\" class=\"data row0 col7\" >-0.157000</td>\n",
       "                        <td id=\"T_97567_row0_col8\" class=\"data row0 col8\" >0.852000</td>\n",
       "                        <td id=\"T_97567_row0_col9\" class=\"data row0 col9\" >Latin America and Caribbean</td>\n",
       "            </tr>\n",
       "            <tr>\n",
       "                        <th id=\"T_97567_level0_row1\" class=\"row_heading level0 row1\" >1</th>\n",
       "                        <td id=\"T_97567_row1_col0\" class=\"data row1 col0\" >Argentina</td>\n",
       "                        <td id=\"T_97567_row1_col1\" class=\"data row1 col1\" >2007</td>\n",
       "                        <td id=\"T_97567_row1_col2\" class=\"data row1 col2\" >6.073000</td>\n",
       "                        <td id=\"T_97567_row1_col3\" class=\"data row1 col3\" >10.018000</td>\n",
       "                        <td id=\"T_97567_row1_col4\" class=\"data row1 col4\" >0.862000</td>\n",
       "                        <td id=\"T_97567_row1_col5\" class=\"data row1 col5\" >66.940000</td>\n",
       "                        <td id=\"T_97567_row1_col6\" class=\"data row1 col6\" >0.653000</td>\n",
       "                        <td id=\"T_97567_row1_col7\" class=\"data row1 col7\" >-0.141000</td>\n",
       "                        <td id=\"T_97567_row1_col8\" class=\"data row1 col8\" >0.881000</td>\n",
       "                        <td id=\"T_97567_row1_col9\" class=\"data row1 col9\" >Latin America and Caribbean</td>\n",
       "            </tr>\n",
       "            <tr>\n",
       "                        <th id=\"T_97567_level0_row2\" class=\"row_heading level0 row2\" >2</th>\n",
       "                        <td id=\"T_97567_row2_col0\" class=\"data row2 col0\" >Argentina</td>\n",
       "                        <td id=\"T_97567_row2_col1\" class=\"data row2 col1\" >2008</td>\n",
       "                        <td id=\"T_97567_row2_col2\" class=\"data row2 col2\" >5.961000</td>\n",
       "                        <td id=\"T_97567_row2_col3\" class=\"data row2 col3\" >10.048000</td>\n",
       "                        <td id=\"T_97567_row2_col4\" class=\"data row2 col4\" >0.892000</td>\n",
       "                        <td id=\"T_97567_row2_col5\" class=\"data row2 col5\" >67.060000</td>\n",
       "                        <td id=\"T_97567_row2_col6\" class=\"data row2 col6\" >0.678000</td>\n",
       "                        <td id=\"T_97567_row2_col7\" class=\"data row2 col7\" >-0.132000</td>\n",
       "                        <td id=\"T_97567_row2_col8\" class=\"data row2 col8\" >0.865000</td>\n",
       "                        <td id=\"T_97567_row2_col9\" class=\"data row2 col9\" >Latin America and Caribbean</td>\n",
       "            </tr>\n",
       "    </tbody></table>"
      ],
      "text/plain": [
       "<pandas.io.formats.style.Styler at 0x206fe58e520>"
      ]
     },
     "execution_count": 74,
     "metadata": {},
     "output_type": "execute_result"
    }
   ],
   "source": [
    "LAC = df[df[\"Regional indicator\"] == \"Latin America and Caribbean\"].reset_index(drop = True)\n",
    "LAC.head(3).style.background_gradient()"
   ]
  },
  {
   "cell_type": "code",
   "execution_count": 51,
   "id": "529f964c",
   "metadata": {},
   "outputs": [
    {
     "data": {
      "text/plain": [
       "(299, 10)"
      ]
     },
     "execution_count": 51,
     "metadata": {},
     "output_type": "execute_result"
    }
   ],
   "source": [
    "LAC.shape"
   ]
  },
  {
   "cell_type": "markdown",
   "id": "24addc7b",
   "metadata": {},
   "source": [
    "<div class = \"alert alert-success\"> Hay 20 paises en America Latina y El Caribe </div>"
   ]
  },
  {
   "cell_type": "code",
   "execution_count": 77,
   "id": "8788a615",
   "metadata": {},
   "outputs": [
    {
     "data": {
      "text/plain": [
       "(20,)"
      ]
     },
     "execution_count": 77,
     "metadata": {},
     "output_type": "execute_result"
    }
   ],
   "source": [
    "y = LAC['Country name'].value_counts(sort=['year'])\n",
    "y.shape"
   ]
  },
  {
   "cell_type": "code",
   "execution_count": 79,
   "id": "68f32436",
   "metadata": {},
   "outputs": [],
   "source": [
    "LAC = LAC.sort_values(by=\"Life Ladder\")"
   ]
  },
  {
   "cell_type": "markdown",
   "id": "596d9dbd",
   "metadata": {},
   "source": [
    "### ***4.4 Dataframe para Sudamerica***"
   ]
  },
  {
   "cell_type": "markdown",
   "id": "73b31fd6",
   "metadata": {},
   "source": [
    "Se deben eliminar los registros de los paises de Centroamerica y El Caribe a partir de los indices de los registros de cada país', lo cual es útil considerando que es una base de datos de formato largo."
   ]
  },
  {
   "cell_type": "code",
   "execution_count": 81,
   "id": "e2408a31",
   "metadata": {},
   "outputs": [
    {
     "data": {
      "text/plain": [
       "(157, 10)"
      ]
     },
     "execution_count": 81,
     "metadata": {},
     "output_type": "execute_result"
    }
   ],
   "source": [
    "c = ['Panama', 'Costa Rica', 'Mexico', 'Guatemala', 'Jamaica',\n",
    "     'Dominican Republic', 'Honduras', 'Nicaragua', 'Haiti', 'El Salvador']\n",
    "for i in c:\n",
    "    LAC = LAC.drop(LAC.loc[LAC['Country name'] == i].index)\n",
    "LAC.shape"
   ]
  },
  {
   "cell_type": "markdown",
   "id": "6e52526c",
   "metadata": {},
   "source": [
    "<div class =\" alert alert-danger \"> Se constata que son 10 los paises de Sudametica </div> "
   ]
  },
  {
   "cell_type": "code",
   "execution_count": 83,
   "id": "3807b95c",
   "metadata": {},
   "outputs": [
    {
     "data": {
      "text/plain": [
       "(10,)"
      ]
     },
     "execution_count": 83,
     "metadata": {},
     "output_type": "execute_result"
    }
   ],
   "source": [
    "z = LAC['Country name'].value_counts(sort=['year'])\n",
    "z.shape"
   ]
  },
  {
   "cell_type": "code",
   "execution_count": 56,
   "id": "a853e307",
   "metadata": {},
   "outputs": [
    {
     "data": {
      "text/html": [
       "<style  type=\"text/css\" >\n",
       "#T_9c2d8_row0_col1{\n",
       "            background-color:  #2685bb;\n",
       "            color:  #000000;\n",
       "        }#T_9c2d8_row0_col2,#T_9c2d8_row0_col6,#T_9c2d8_row1_col4,#T_9c2d8_row1_col8,#T_9c2d8_row2_col1,#T_9c2d8_row2_col5,#T_9c2d8_row3_col1,#T_9c2d8_row3_col3,#T_9c2d8_row4_col7{\n",
       "            background-color:  #fff7fb;\n",
       "            color:  #000000;\n",
       "        }#T_9c2d8_row0_col3{\n",
       "            background-color:  #f8f1f8;\n",
       "            color:  #000000;\n",
       "        }#T_9c2d8_row0_col4,#T_9c2d8_row1_col3,#T_9c2d8_row1_col5,#T_9c2d8_row2_col6,#T_9c2d8_row2_col7,#T_9c2d8_row3_col8,#T_9c2d8_row4_col1,#T_9c2d8_row4_col2{\n",
       "            background-color:  #023858;\n",
       "            color:  #f1f1f1;\n",
       "        }#T_9c2d8_row0_col5{\n",
       "            background-color:  #056fae;\n",
       "            color:  #f1f1f1;\n",
       "        }#T_9c2d8_row0_col7{\n",
       "            background-color:  #f6eff7;\n",
       "            color:  #000000;\n",
       "        }#T_9c2d8_row0_col8,#T_9c2d8_row4_col5{\n",
       "            background-color:  #034871;\n",
       "            color:  #f1f1f1;\n",
       "        }#T_9c2d8_row1_col1{\n",
       "            background-color:  #034a74;\n",
       "            color:  #f1f1f1;\n",
       "        }#T_9c2d8_row1_col2{\n",
       "            background-color:  #358fc0;\n",
       "            color:  #000000;\n",
       "        }#T_9c2d8_row1_col6{\n",
       "            background-color:  #2786bb;\n",
       "            color:  #000000;\n",
       "        }#T_9c2d8_row1_col7{\n",
       "            background-color:  #fdf5fa;\n",
       "            color:  #000000;\n",
       "        }#T_9c2d8_row2_col2{\n",
       "            background-color:  #05659f;\n",
       "            color:  #f1f1f1;\n",
       "        }#T_9c2d8_row2_col3{\n",
       "            background-color:  #d8d7e9;\n",
       "            color:  #000000;\n",
       "        }#T_9c2d8_row2_col4{\n",
       "            background-color:  #034b76;\n",
       "            color:  #f1f1f1;\n",
       "        }#T_9c2d8_row2_col8{\n",
       "            background-color:  #acc0dd;\n",
       "            color:  #000000;\n",
       "        }#T_9c2d8_row3_col2{\n",
       "            background-color:  #045280;\n",
       "            color:  #f1f1f1;\n",
       "        }#T_9c2d8_row3_col4{\n",
       "            background-color:  #1077b4;\n",
       "            color:  #f1f1f1;\n",
       "        }#T_9c2d8_row3_col5{\n",
       "            background-color:  #67a4cc;\n",
       "            color:  #000000;\n",
       "        }#T_9c2d8_row3_col6{\n",
       "            background-color:  #045382;\n",
       "            color:  #f1f1f1;\n",
       "        }#T_9c2d8_row3_col7{\n",
       "            background-color:  #96b6d7;\n",
       "            color:  #000000;\n",
       "        }#T_9c2d8_row4_col3{\n",
       "            background-color:  #e0dded;\n",
       "            color:  #000000;\n",
       "        }#T_9c2d8_row4_col4{\n",
       "            background-color:  #4e9ac6;\n",
       "            color:  #000000;\n",
       "        }#T_9c2d8_row4_col6{\n",
       "            background-color:  #2383ba;\n",
       "            color:  #000000;\n",
       "        }#T_9c2d8_row4_col8{\n",
       "            background-color:  #dedcec;\n",
       "            color:  #000000;\n",
       "        }</style><table id=\"T_9c2d8_\" ><thead>    <tr>        <th class=\"blank level0\" ></th>        <th class=\"col_heading level0 col0\" >Country name</th>        <th class=\"col_heading level0 col1\" >year</th>        <th class=\"col_heading level0 col2\" >Life Ladder</th>        <th class=\"col_heading level0 col3\" >Log GDP per capita</th>        <th class=\"col_heading level0 col4\" >Social support</th>        <th class=\"col_heading level0 col5\" >Healthy life expectancy at birth</th>        <th class=\"col_heading level0 col6\" >Freedom to make life choices</th>        <th class=\"col_heading level0 col7\" >Generosity</th>        <th class=\"col_heading level0 col8\" >Perceptions of corruption</th>        <th class=\"col_heading level0 col9\" >Regional indicator</th>    </tr></thead><tbody>\n",
       "                <tr>\n",
       "                        <th id=\"T_9c2d8_level0_row0\" class=\"row_heading level0 row0\" >274</th>\n",
       "                        <td id=\"T_9c2d8_row0_col0\" class=\"data row0 col0\" >Venezuela</td>\n",
       "                        <td id=\"T_9c2d8_row0_col1\" class=\"data row0 col1\" >2016</td>\n",
       "                        <td id=\"T_9c2d8_row0_col2\" class=\"data row0 col2\" >4.041000</td>\n",
       "                        <td id=\"T_9c2d8_row0_col3\" class=\"data row0 col3\" >9.010000</td>\n",
       "                        <td id=\"T_9c2d8_row0_col4\" class=\"data row0 col4\" >0.902000</td>\n",
       "                        <td id=\"T_9c2d8_row0_col5\" class=\"data row0 col5\" >66.100000</td>\n",
       "                        <td id=\"T_9c2d8_row0_col6\" class=\"data row0 col6\" >0.458000</td>\n",
       "                        <td id=\"T_9c2d8_row0_col7\" class=\"data row0 col7\" >-0.155000</td>\n",
       "                        <td id=\"T_9c2d8_row0_col8\" class=\"data row0 col8\" >0.890000</td>\n",
       "                        <td id=\"T_9c2d8_row0_col9\" class=\"data row0 col9\" >Latin America and Caribbean</td>\n",
       "            </tr>\n",
       "            <tr>\n",
       "                        <th id=\"T_9c2d8_level0_row1\" class=\"row_heading level0 row1\" >278</th>\n",
       "                        <td id=\"T_9c2d8_row1_col0\" class=\"data row1 col0\" >Venezuela</td>\n",
       "                        <td id=\"T_9c2d8_row1_col1\" class=\"data row1 col1\" >2020</td>\n",
       "                        <td id=\"T_9c2d8_row1_col2\" class=\"data row1 col2\" >4.574000</td>\n",
       "                        <td id=\"T_9c2d8_row1_col3\" class=\"data row1 col3\" >9.448769</td>\n",
       "                        <td id=\"T_9c2d8_row1_col4\" class=\"data row1 col4\" >0.805000</td>\n",
       "                        <td id=\"T_9c2d8_row1_col5\" class=\"data row1 col5\" >66.900000</td>\n",
       "                        <td id=\"T_9c2d8_row1_col6\" class=\"data row1 col6\" >0.612000</td>\n",
       "                        <td id=\"T_9c2d8_row1_col7\" class=\"data row1 col7\" >-0.164583</td>\n",
       "                        <td id=\"T_9c2d8_row1_col8\" class=\"data row1 col8\" >0.811000</td>\n",
       "                        <td id=\"T_9c2d8_row1_col9\" class=\"data row1 col9\" >Latin America and Caribbean</td>\n",
       "            </tr>\n",
       "            <tr>\n",
       "                        <th id=\"T_9c2d8_level0_row2\" class=\"row_heading level0 row2\" >222</th>\n",
       "                        <td id=\"T_9c2d8_row2_col0\" class=\"data row2 col0\" >Paraguay</td>\n",
       "                        <td id=\"T_9c2d8_row2_col1\" class=\"data row2 col1\" >2006</td>\n",
       "                        <td id=\"T_9c2d8_row2_col2\" class=\"data row2 col2\" >4.730000</td>\n",
       "                        <td id=\"T_9c2d8_row2_col3\" class=\"data row2 col3\" >9.088000</td>\n",
       "                        <td id=\"T_9c2d8_row2_col4\" class=\"data row2 col4\" >0.895000</td>\n",
       "                        <td id=\"T_9c2d8_row2_col5\" class=\"data row2 col5\" >63.620000</td>\n",
       "                        <td id=\"T_9c2d8_row2_col6\" class=\"data row2 col6\" >0.691000</td>\n",
       "                        <td id=\"T_9c2d8_row2_col7\" class=\"data row2 col7\" >0.066000</td>\n",
       "                        <td id=\"T_9c2d8_row2_col8\" class=\"data row2 col8\" >0.841000</td>\n",
       "                        <td id=\"T_9c2d8_row2_col9\" class=\"data row2 col9\" >Latin America and Caribbean</td>\n",
       "            </tr>\n",
       "            <tr>\n",
       "                        <th id=\"T_9c2d8_level0_row3\" class=\"row_heading level0 row3\" >235</th>\n",
       "                        <td id=\"T_9c2d8_row3_col0\" class=\"data row3 col0\" >Peru</td>\n",
       "                        <td id=\"T_9c2d8_row3_col1\" class=\"data row3 col1\" >2006</td>\n",
       "                        <td id=\"T_9c2d8_row3_col2\" class=\"data row3 col2\" >4.811000</td>\n",
       "                        <td id=\"T_9c2d8_row3_col3\" class=\"data row3 col3\" >8.989000</td>\n",
       "                        <td id=\"T_9c2d8_row3_col4\" class=\"data row3 col4\" >0.875000</td>\n",
       "                        <td id=\"T_9c2d8_row3_col5\" class=\"data row3 col5\" >65.340000</td>\n",
       "                        <td id=\"T_9c2d8_row3_col6\" class=\"data row3 col6\" >0.668000</td>\n",
       "                        <td id=\"T_9c2d8_row3_col7\" class=\"data row3 col7\" >-0.071000</td>\n",
       "                        <td id=\"T_9c2d8_row3_col8\" class=\"data row3 col8\" >0.895000</td>\n",
       "                        <td id=\"T_9c2d8_row3_col9\" class=\"data row3 col9\" >Latin America and Caribbean</td>\n",
       "            </tr>\n",
       "            <tr>\n",
       "                        <th id=\"T_9c2d8_level0_row4\" class=\"row_heading level0 row4\" >297</th>\n",
       "                        <td id=\"T_9c2d8_row4_col0\" class=\"data row4 col0\" >Venezuela</td>\n",
       "                        <td id=\"T_9c2d8_row4_col1\" class=\"data row4 col1\" >2021</td>\n",
       "                        <td id=\"T_9c2d8_row4_col2\" class=\"data row4 col2\" >4.892000</td>\n",
       "                        <td id=\"T_9c2d8_row4_col3\" class=\"data row4 col3\" >9.073000</td>\n",
       "                        <td id=\"T_9c2d8_row4_col4\" class=\"data row4 col4\" >0.861000</td>\n",
       "                        <td id=\"T_9c2d8_row4_col5\" class=\"data row4 col5\" >66.700000</td>\n",
       "                        <td id=\"T_9c2d8_row4_col6\" class=\"data row4 col6\" >0.615000</td>\n",
       "                        <td id=\"T_9c2d8_row4_col7\" class=\"data row4 col7\" >-0.169000</td>\n",
       "                        <td id=\"T_9c2d8_row4_col8\" class=\"data row4 col8\" >0.827000</td>\n",
       "                        <td id=\"T_9c2d8_row4_col9\" class=\"data row4 col9\" >Latin America and Caribbean</td>\n",
       "            </tr>\n",
       "    </tbody></table>"
      ],
      "text/plain": [
       "<pandas.io.formats.style.Styler at 0x206fd8bbfa0>"
      ]
     },
     "execution_count": 56,
     "metadata": {},
     "output_type": "execute_result"
    }
   ],
   "source": [
    "LAC.head().style.background_gradient()"
   ]
  },
  {
   "cell_type": "markdown",
   "id": "ec3931f7",
   "metadata": {},
   "source": [
    "#### Gráficos de interés"
   ]
  },
  {
   "cell_type": "code",
   "execution_count": 120,
   "id": "293a1af3",
   "metadata": {
    "hide_input": false,
    "scrolled": true
   },
   "outputs": [
    {
     "data": {
      "application/vnd.plotly.v1+json": {
       "config": {
        "plotlyServerURL": "https://plot.ly"
       },
       "data": [
        {
         "line": {
          "color": "#add8e6"
         },
         "marker": {
          "color": "black",
          "size": 3
         },
         "mode": "markers+text+lines",
         "name": "Argentina",
         "type": "scatter",
         "x": [
          2006,
          2007,
          2008,
          2009,
          2010,
          2011,
          2012,
          2013,
          2014,
          2015,
          2016,
          2017,
          2018,
          2019,
          2020,
          2021
         ],
         "y": [
          6.313,
          6.073,
          5.961,
          6.424,
          6.441,
          6.776,
          6.468,
          6.582,
          6.671,
          6.697,
          6.427,
          6.039,
          5.793,
          6.086,
          5.901,
          5.929
         ],
         "yaxis": "y"
        },
        {
         "line": {
          "color": "#f08080"
         },
         "marker": {
          "color": "black",
          "size": 3
         },
         "mode": "markers+text+lines",
         "name": "Bolivia",
         "type": "scatter",
         "x": [
          2006,
          2007,
          2008,
          2009,
          2010,
          2011,
          2012,
          2013,
          2014,
          2015,
          2016,
          2017,
          2018,
          2019,
          2020,
          2021
         ],
         "y": [
          5.374,
          5.628,
          5.298,
          6.086,
          5.781,
          5.779,
          6.019,
          5.767,
          5.865,
          5.834,
          5.77,
          5.651,
          5.916,
          5.674,
          5.559,
          5.716
         ],
         "yaxis": "y"
        },
        {
         "line": {
          "color": "#e0ffff"
         },
         "marker": {
          "color": "black",
          "size": 3
         },
         "mode": "markers+text+lines",
         "name": "Brazil",
         "type": "scatter",
         "x": [
          2005,
          2007,
          2008,
          2009,
          2010,
          2011,
          2012,
          2013,
          2014,
          2015,
          2016,
          2017,
          2018,
          2019,
          2020,
          2021
         ],
         "y": [
          6.637,
          6.321,
          6.691,
          7.001,
          6.837,
          7.038,
          6.66,
          7.14,
          6.981,
          6.547,
          6.375,
          6.333,
          6.191,
          6.451,
          6.11,
          6.33
         ],
         "yaxis": "y"
        },
        {
         "line": {
          "color": "#fafad2"
         },
         "marker": {
          "color": "black",
          "size": 3
         },
         "mode": "markers+text+lines",
         "name": "Chile",
         "type": "scatter",
         "x": [
          2006,
          2007,
          2008,
          2009,
          2010,
          2011,
          2012,
          2013,
          2014,
          2015,
          2016,
          2017,
          2018,
          2019,
          2020,
          2021
         ],
         "y": [
          6.063,
          5.698,
          5.789,
          6.494,
          6.636,
          6.526,
          6.599,
          6.74,
          6.844,
          6.533,
          6.579,
          6.32,
          6.436,
          5.942,
          6.151,
          6.172
         ],
         "yaxis": "y"
        },
        {
         "line": {
          "color": "#d3d3d3"
         },
         "marker": {
          "color": "black",
          "size": 3
         },
         "mode": "markers+text+lines",
         "name": "Colombia",
         "type": "scatter",
         "x": [
          2006,
          2007,
          2008,
          2009,
          2010,
          2011,
          2012,
          2013,
          2014,
          2015,
          2016,
          2017,
          2018,
          2019,
          2020,
          2021
         ],
         "y": [
          6.025,
          6.138,
          6.168,
          6.272,
          6.408,
          6.464,
          6.375,
          6.607,
          6.449,
          6.388,
          6.234,
          6.157,
          5.984,
          6.35,
          5.709,
          6.012
         ],
         "yaxis": "y"
        },
        {
         "line": {
          "color": "#90ee90"
         },
         "marker": {
          "color": "black",
          "size": 3
         },
         "mode": "markers+text+lines",
         "name": "Ecuador",
         "type": "scatter",
         "x": [
          2006,
          2007,
          2008,
          2009,
          2010,
          2011,
          2012,
          2013,
          2014,
          2015,
          2016,
          2017,
          2018,
          2019,
          2020,
          2021
         ],
         "y": [
          5.024,
          4.996,
          5.297,
          6.022,
          5.838,
          5.795,
          5.961,
          6.019,
          5.946,
          5.964,
          6.115,
          5.84,
          6.128,
          5.809,
          5.354,
          5.764
         ],
         "yaxis": "y"
        },
        {
         "line": {
          "color": "#ffb6c1"
         },
         "marker": {
          "color": "black",
          "size": 3
         },
         "mode": "markers+text+lines",
         "name": "Paraguay",
         "type": "scatter",
         "x": [
          2006,
          2007,
          2008,
          2009,
          2010,
          2011,
          2012,
          2013,
          2014,
          2015,
          2016,
          2017,
          2019,
          2021
         ],
         "y": [
          4.73,
          5.272,
          5.57,
          5.576,
          5.841,
          5.677,
          5.82,
          5.936,
          5.119,
          5.56,
          5.801,
          5.713,
          5.653,
          5.653
         ],
         "yaxis": "y"
        },
        {
         "line": {
          "color": "#ffa07a"
         },
         "marker": {
          "color": "black",
          "size": 3
         },
         "mode": "markers+text+lines",
         "name": "Peru",
         "type": "scatter",
         "x": [
          2006,
          2007,
          2008,
          2009,
          2010,
          2011,
          2012,
          2013,
          2014,
          2015,
          2016,
          2017,
          2018,
          2019,
          2021
         ],
         "y": [
          4.811,
          5.214,
          5.129,
          5.519,
          5.613,
          5.892,
          5.825,
          5.783,
          5.866,
          5.577,
          5.701,
          5.711,
          5.68,
          5.999,
          5.84
         ],
         "yaxis": "y"
        },
        {
         "line": {
          "color": "#20b2aa"
         },
         "marker": {
          "color": "black",
          "size": 3
         },
         "mode": "markers+text+lines",
         "name": "Uruguay",
         "type": "scatter",
         "x": [
          2006,
          2007,
          2008,
          2009,
          2010,
          2011,
          2012,
          2013,
          2014,
          2015,
          2016,
          2017,
          2018,
          2019,
          2020,
          2021
         ],
         "y": [
          5.786,
          5.694,
          5.664,
          6.296,
          6.062,
          6.554,
          6.45,
          6.444,
          6.561,
          6.628,
          6.171,
          6.336,
          6.372,
          6.6,
          6.31,
          6.431
         ],
         "yaxis": "y"
        },
        {
         "line": {
          "color": "#87cefa"
         },
         "marker": {
          "color": "black",
          "size": 3
         },
         "mode": "markers+text+lines",
         "name": "Venezuela",
         "type": "scatter",
         "x": [
          2005,
          2006,
          2008,
          2009,
          2010,
          2011,
          2012,
          2013,
          2014,
          2015,
          2016,
          2017,
          2018,
          2019,
          2020,
          2021
         ],
         "y": [
          7.17,
          6.525,
          6.258,
          7.189,
          7.478,
          6.58,
          7.067,
          6.553,
          6.136,
          5.569,
          4.041,
          5.071,
          5.006,
          5.081,
          4.574,
          4.892
         ],
         "yaxis": "y"
        }
       ],
       "layout": {
        "font": {
         "color": "White",
         "family": "Oswald', sans-serif",
         "size": 14
        },
        "template": {
         "data": {
          "bar": [
           {
            "error_x": {
             "color": "#f2f5fa"
            },
            "error_y": {
             "color": "#f2f5fa"
            },
            "marker": {
             "line": {
              "color": "rgb(17,17,17)",
              "width": 0.5
             },
             "pattern": {
              "fillmode": "overlay",
              "size": 10,
              "solidity": 0.2
             }
            },
            "type": "bar"
           }
          ],
          "barpolar": [
           {
            "marker": {
             "line": {
              "color": "rgb(17,17,17)",
              "width": 0.5
             },
             "pattern": {
              "fillmode": "overlay",
              "size": 10,
              "solidity": 0.2
             }
            },
            "type": "barpolar"
           }
          ],
          "carpet": [
           {
            "aaxis": {
             "endlinecolor": "#A2B1C6",
             "gridcolor": "#506784",
             "linecolor": "#506784",
             "minorgridcolor": "#506784",
             "startlinecolor": "#A2B1C6"
            },
            "baxis": {
             "endlinecolor": "#A2B1C6",
             "gridcolor": "#506784",
             "linecolor": "#506784",
             "minorgridcolor": "#506784",
             "startlinecolor": "#A2B1C6"
            },
            "type": "carpet"
           }
          ],
          "choropleth": [
           {
            "colorbar": {
             "outlinewidth": 0,
             "ticks": ""
            },
            "type": "choropleth"
           }
          ],
          "contour": [
           {
            "colorbar": {
             "outlinewidth": 0,
             "ticks": ""
            },
            "colorscale": [
             [
              0,
              "#0d0887"
             ],
             [
              0.1111111111111111,
              "#46039f"
             ],
             [
              0.2222222222222222,
              "#7201a8"
             ],
             [
              0.3333333333333333,
              "#9c179e"
             ],
             [
              0.4444444444444444,
              "#bd3786"
             ],
             [
              0.5555555555555556,
              "#d8576b"
             ],
             [
              0.6666666666666666,
              "#ed7953"
             ],
             [
              0.7777777777777778,
              "#fb9f3a"
             ],
             [
              0.8888888888888888,
              "#fdca26"
             ],
             [
              1,
              "#f0f921"
             ]
            ],
            "type": "contour"
           }
          ],
          "contourcarpet": [
           {
            "colorbar": {
             "outlinewidth": 0,
             "ticks": ""
            },
            "type": "contourcarpet"
           }
          ],
          "heatmap": [
           {
            "colorbar": {
             "outlinewidth": 0,
             "ticks": ""
            },
            "colorscale": [
             [
              0,
              "#0d0887"
             ],
             [
              0.1111111111111111,
              "#46039f"
             ],
             [
              0.2222222222222222,
              "#7201a8"
             ],
             [
              0.3333333333333333,
              "#9c179e"
             ],
             [
              0.4444444444444444,
              "#bd3786"
             ],
             [
              0.5555555555555556,
              "#d8576b"
             ],
             [
              0.6666666666666666,
              "#ed7953"
             ],
             [
              0.7777777777777778,
              "#fb9f3a"
             ],
             [
              0.8888888888888888,
              "#fdca26"
             ],
             [
              1,
              "#f0f921"
             ]
            ],
            "type": "heatmap"
           }
          ],
          "heatmapgl": [
           {
            "colorbar": {
             "outlinewidth": 0,
             "ticks": ""
            },
            "colorscale": [
             [
              0,
              "#0d0887"
             ],
             [
              0.1111111111111111,
              "#46039f"
             ],
             [
              0.2222222222222222,
              "#7201a8"
             ],
             [
              0.3333333333333333,
              "#9c179e"
             ],
             [
              0.4444444444444444,
              "#bd3786"
             ],
             [
              0.5555555555555556,
              "#d8576b"
             ],
             [
              0.6666666666666666,
              "#ed7953"
             ],
             [
              0.7777777777777778,
              "#fb9f3a"
             ],
             [
              0.8888888888888888,
              "#fdca26"
             ],
             [
              1,
              "#f0f921"
             ]
            ],
            "type": "heatmapgl"
           }
          ],
          "histogram": [
           {
            "marker": {
             "pattern": {
              "fillmode": "overlay",
              "size": 10,
              "solidity": 0.2
             }
            },
            "type": "histogram"
           }
          ],
          "histogram2d": [
           {
            "colorbar": {
             "outlinewidth": 0,
             "ticks": ""
            },
            "colorscale": [
             [
              0,
              "#0d0887"
             ],
             [
              0.1111111111111111,
              "#46039f"
             ],
             [
              0.2222222222222222,
              "#7201a8"
             ],
             [
              0.3333333333333333,
              "#9c179e"
             ],
             [
              0.4444444444444444,
              "#bd3786"
             ],
             [
              0.5555555555555556,
              "#d8576b"
             ],
             [
              0.6666666666666666,
              "#ed7953"
             ],
             [
              0.7777777777777778,
              "#fb9f3a"
             ],
             [
              0.8888888888888888,
              "#fdca26"
             ],
             [
              1,
              "#f0f921"
             ]
            ],
            "type": "histogram2d"
           }
          ],
          "histogram2dcontour": [
           {
            "colorbar": {
             "outlinewidth": 0,
             "ticks": ""
            },
            "colorscale": [
             [
              0,
              "#0d0887"
             ],
             [
              0.1111111111111111,
              "#46039f"
             ],
             [
              0.2222222222222222,
              "#7201a8"
             ],
             [
              0.3333333333333333,
              "#9c179e"
             ],
             [
              0.4444444444444444,
              "#bd3786"
             ],
             [
              0.5555555555555556,
              "#d8576b"
             ],
             [
              0.6666666666666666,
              "#ed7953"
             ],
             [
              0.7777777777777778,
              "#fb9f3a"
             ],
             [
              0.8888888888888888,
              "#fdca26"
             ],
             [
              1,
              "#f0f921"
             ]
            ],
            "type": "histogram2dcontour"
           }
          ],
          "mesh3d": [
           {
            "colorbar": {
             "outlinewidth": 0,
             "ticks": ""
            },
            "type": "mesh3d"
           }
          ],
          "parcoords": [
           {
            "line": {
             "colorbar": {
              "outlinewidth": 0,
              "ticks": ""
             }
            },
            "type": "parcoords"
           }
          ],
          "pie": [
           {
            "automargin": true,
            "type": "pie"
           }
          ],
          "scatter": [
           {
            "marker": {
             "line": {
              "color": "#283442"
             }
            },
            "type": "scatter"
           }
          ],
          "scatter3d": [
           {
            "line": {
             "colorbar": {
              "outlinewidth": 0,
              "ticks": ""
             }
            },
            "marker": {
             "colorbar": {
              "outlinewidth": 0,
              "ticks": ""
             }
            },
            "type": "scatter3d"
           }
          ],
          "scattercarpet": [
           {
            "marker": {
             "colorbar": {
              "outlinewidth": 0,
              "ticks": ""
             }
            },
            "type": "scattercarpet"
           }
          ],
          "scattergeo": [
           {
            "marker": {
             "colorbar": {
              "outlinewidth": 0,
              "ticks": ""
             }
            },
            "type": "scattergeo"
           }
          ],
          "scattergl": [
           {
            "marker": {
             "line": {
              "color": "#283442"
             }
            },
            "type": "scattergl"
           }
          ],
          "scattermapbox": [
           {
            "marker": {
             "colorbar": {
              "outlinewidth": 0,
              "ticks": ""
             }
            },
            "type": "scattermapbox"
           }
          ],
          "scatterpolar": [
           {
            "marker": {
             "colorbar": {
              "outlinewidth": 0,
              "ticks": ""
             }
            },
            "type": "scatterpolar"
           }
          ],
          "scatterpolargl": [
           {
            "marker": {
             "colorbar": {
              "outlinewidth": 0,
              "ticks": ""
             }
            },
            "type": "scatterpolargl"
           }
          ],
          "scatterternary": [
           {
            "marker": {
             "colorbar": {
              "outlinewidth": 0,
              "ticks": ""
             }
            },
            "type": "scatterternary"
           }
          ],
          "surface": [
           {
            "colorbar": {
             "outlinewidth": 0,
             "ticks": ""
            },
            "colorscale": [
             [
              0,
              "#0d0887"
             ],
             [
              0.1111111111111111,
              "#46039f"
             ],
             [
              0.2222222222222222,
              "#7201a8"
             ],
             [
              0.3333333333333333,
              "#9c179e"
             ],
             [
              0.4444444444444444,
              "#bd3786"
             ],
             [
              0.5555555555555556,
              "#d8576b"
             ],
             [
              0.6666666666666666,
              "#ed7953"
             ],
             [
              0.7777777777777778,
              "#fb9f3a"
             ],
             [
              0.8888888888888888,
              "#fdca26"
             ],
             [
              1,
              "#f0f921"
             ]
            ],
            "type": "surface"
           }
          ],
          "table": [
           {
            "cells": {
             "fill": {
              "color": "#506784"
             },
             "line": {
              "color": "rgb(17,17,17)"
             }
            },
            "header": {
             "fill": {
              "color": "#2a3f5f"
             },
             "line": {
              "color": "rgb(17,17,17)"
             }
            },
            "type": "table"
           }
          ]
         },
         "layout": {
          "annotationdefaults": {
           "arrowcolor": "#f2f5fa",
           "arrowhead": 0,
           "arrowwidth": 1
          },
          "autotypenumbers": "strict",
          "coloraxis": {
           "colorbar": {
            "outlinewidth": 0,
            "ticks": ""
           }
          },
          "colorscale": {
           "diverging": [
            [
             0,
             "#8e0152"
            ],
            [
             0.1,
             "#c51b7d"
            ],
            [
             0.2,
             "#de77ae"
            ],
            [
             0.3,
             "#f1b6da"
            ],
            [
             0.4,
             "#fde0ef"
            ],
            [
             0.5,
             "#f7f7f7"
            ],
            [
             0.6,
             "#e6f5d0"
            ],
            [
             0.7,
             "#b8e186"
            ],
            [
             0.8,
             "#7fbc41"
            ],
            [
             0.9,
             "#4d9221"
            ],
            [
             1,
             "#276419"
            ]
           ],
           "sequential": [
            [
             0,
             "#0d0887"
            ],
            [
             0.1111111111111111,
             "#46039f"
            ],
            [
             0.2222222222222222,
             "#7201a8"
            ],
            [
             0.3333333333333333,
             "#9c179e"
            ],
            [
             0.4444444444444444,
             "#bd3786"
            ],
            [
             0.5555555555555556,
             "#d8576b"
            ],
            [
             0.6666666666666666,
             "#ed7953"
            ],
            [
             0.7777777777777778,
             "#fb9f3a"
            ],
            [
             0.8888888888888888,
             "#fdca26"
            ],
            [
             1,
             "#f0f921"
            ]
           ],
           "sequentialminus": [
            [
             0,
             "#0d0887"
            ],
            [
             0.1111111111111111,
             "#46039f"
            ],
            [
             0.2222222222222222,
             "#7201a8"
            ],
            [
             0.3333333333333333,
             "#9c179e"
            ],
            [
             0.4444444444444444,
             "#bd3786"
            ],
            [
             0.5555555555555556,
             "#d8576b"
            ],
            [
             0.6666666666666666,
             "#ed7953"
            ],
            [
             0.7777777777777778,
             "#fb9f3a"
            ],
            [
             0.8888888888888888,
             "#fdca26"
            ],
            [
             1,
             "#f0f921"
            ]
           ]
          },
          "colorway": [
           "#636efa",
           "#EF553B",
           "#00cc96",
           "#ab63fa",
           "#FFA15A",
           "#19d3f3",
           "#FF6692",
           "#B6E880",
           "#FF97FF",
           "#FECB52"
          ],
          "font": {
           "color": "#f2f5fa"
          },
          "geo": {
           "bgcolor": "rgb(17,17,17)",
           "lakecolor": "rgb(17,17,17)",
           "landcolor": "rgb(17,17,17)",
           "showlakes": true,
           "showland": true,
           "subunitcolor": "#506784"
          },
          "hoverlabel": {
           "align": "left"
          },
          "hovermode": "closest",
          "mapbox": {
           "style": "dark"
          },
          "paper_bgcolor": "rgb(17,17,17)",
          "plot_bgcolor": "rgb(17,17,17)",
          "polar": {
           "angularaxis": {
            "gridcolor": "#506784",
            "linecolor": "#506784",
            "ticks": ""
           },
           "bgcolor": "rgb(17,17,17)",
           "radialaxis": {
            "gridcolor": "#506784",
            "linecolor": "#506784",
            "ticks": ""
           }
          },
          "scene": {
           "xaxis": {
            "backgroundcolor": "rgb(17,17,17)",
            "gridcolor": "#506784",
            "gridwidth": 2,
            "linecolor": "#506784",
            "showbackground": true,
            "ticks": "",
            "zerolinecolor": "#C8D4E3"
           },
           "yaxis": {
            "backgroundcolor": "rgb(17,17,17)",
            "gridcolor": "#506784",
            "gridwidth": 2,
            "linecolor": "#506784",
            "showbackground": true,
            "ticks": "",
            "zerolinecolor": "#C8D4E3"
           },
           "zaxis": {
            "backgroundcolor": "rgb(17,17,17)",
            "gridcolor": "#506784",
            "gridwidth": 2,
            "linecolor": "#506784",
            "showbackground": true,
            "ticks": "",
            "zerolinecolor": "#C8D4E3"
           }
          },
          "shapedefaults": {
           "line": {
            "color": "#f2f5fa"
           }
          },
          "sliderdefaults": {
           "bgcolor": "#C8D4E3",
           "bordercolor": "rgb(17,17,17)",
           "borderwidth": 1,
           "tickwidth": 0
          },
          "ternary": {
           "aaxis": {
            "gridcolor": "#506784",
            "linecolor": "#506784",
            "ticks": ""
           },
           "baxis": {
            "gridcolor": "#506784",
            "linecolor": "#506784",
            "ticks": ""
           },
           "bgcolor": "rgb(17,17,17)",
           "caxis": {
            "gridcolor": "#506784",
            "linecolor": "#506784",
            "ticks": ""
           }
          },
          "title": {
           "x": 0.05
          },
          "updatemenudefaults": {
           "bgcolor": "#506784",
           "borderwidth": 0
          },
          "xaxis": {
           "automargin": true,
           "gridcolor": "#283442",
           "linecolor": "#506784",
           "ticks": "",
           "title": {
            "standoff": 15
           },
           "zerolinecolor": "#283442",
           "zerolinewidth": 2
          },
          "yaxis": {
           "automargin": true,
           "gridcolor": "#283442",
           "linecolor": "#506784",
           "ticks": "",
           "title": {
            "standoff": 15
           },
           "zerolinecolor": "#283442",
           "zerolinewidth": 2
          }
         }
        },
        "title": {
         "text": "Indice de Felicidad Tendencia en Sudamerica 2006-2021 "
        },
        "xaxis": {
         "showgrid": true,
         "title": {
          "text": "Año"
         }
        },
        "yaxis": {
         "showgrid": true,
         "title": {
          "text": "Indice de Felicidad"
         }
        }
       }
      },
      "text/html": [
       "<div>                            <div id=\"ab395d8c-e436-40dc-a29c-2edb629c8905\" class=\"plotly-graph-div\" style=\"height:525px; width:100%;\"></div>            <script type=\"text/javascript\">                require([\"plotly\"], function(Plotly) {                    window.PLOTLYENV=window.PLOTLYENV || {};                                    if (document.getElementById(\"ab395d8c-e436-40dc-a29c-2edb629c8905\")) {                    Plotly.newPlot(                        \"ab395d8c-e436-40dc-a29c-2edb629c8905\",                        [{\"line\":{\"color\":\"#add8e6\"},\"marker\":{\"color\":\"black\",\"size\":3},\"mode\":\"markers+text+lines\",\"name\":\"Argentina\",\"x\":[2006,2007,2008,2009,2010,2011,2012,2013,2014,2015,2016,2017,2018,2019,2020,2021],\"y\":[6.313,6.073,5.961,6.424,6.441,6.776,6.468,6.582,6.671,6.697,6.427,6.039,5.793,6.086,5.901,5.929],\"yaxis\":\"y\",\"type\":\"scatter\"},{\"line\":{\"color\":\"#f08080\"},\"marker\":{\"color\":\"black\",\"size\":3},\"mode\":\"markers+text+lines\",\"name\":\"Bolivia\",\"x\":[2006,2007,2008,2009,2010,2011,2012,2013,2014,2015,2016,2017,2018,2019,2020,2021],\"y\":[5.374,5.628,5.298,6.086,5.781,5.779,6.019,5.767,5.865,5.834,5.77,5.651,5.916,5.674,5.559,5.716],\"yaxis\":\"y\",\"type\":\"scatter\"},{\"line\":{\"color\":\"#e0ffff\"},\"marker\":{\"color\":\"black\",\"size\":3},\"mode\":\"markers+text+lines\",\"name\":\"Brazil\",\"x\":[2005,2007,2008,2009,2010,2011,2012,2013,2014,2015,2016,2017,2018,2019,2020,2021],\"y\":[6.637,6.321,6.691,7.001,6.837,7.038,6.66,7.14,6.981,6.547,6.375,6.333,6.191,6.451,6.11,6.33],\"yaxis\":\"y\",\"type\":\"scatter\"},{\"line\":{\"color\":\"#fafad2\"},\"marker\":{\"color\":\"black\",\"size\":3},\"mode\":\"markers+text+lines\",\"name\":\"Chile\",\"x\":[2006,2007,2008,2009,2010,2011,2012,2013,2014,2015,2016,2017,2018,2019,2020,2021],\"y\":[6.063,5.698,5.789,6.494,6.636,6.526,6.599,6.74,6.844,6.533,6.579,6.32,6.436,5.942,6.151,6.172],\"yaxis\":\"y\",\"type\":\"scatter\"},{\"line\":{\"color\":\"#d3d3d3\"},\"marker\":{\"color\":\"black\",\"size\":3},\"mode\":\"markers+text+lines\",\"name\":\"Colombia\",\"x\":[2006,2007,2008,2009,2010,2011,2012,2013,2014,2015,2016,2017,2018,2019,2020,2021],\"y\":[6.025,6.138,6.168,6.272,6.408,6.464,6.375,6.607,6.449,6.388,6.234,6.157,5.984,6.35,5.709,6.012],\"yaxis\":\"y\",\"type\":\"scatter\"},{\"line\":{\"color\":\"#90ee90\"},\"marker\":{\"color\":\"black\",\"size\":3},\"mode\":\"markers+text+lines\",\"name\":\"Ecuador\",\"x\":[2006,2007,2008,2009,2010,2011,2012,2013,2014,2015,2016,2017,2018,2019,2020,2021],\"y\":[5.024,4.996,5.297,6.022,5.838,5.795,5.961,6.019,5.946,5.964,6.115,5.84,6.128,5.809,5.354,5.764],\"yaxis\":\"y\",\"type\":\"scatter\"},{\"line\":{\"color\":\"#ffb6c1\"},\"marker\":{\"color\":\"black\",\"size\":3},\"mode\":\"markers+text+lines\",\"name\":\"Paraguay\",\"x\":[2006,2007,2008,2009,2010,2011,2012,2013,2014,2015,2016,2017,2019,2021],\"y\":[4.73,5.272,5.57,5.576,5.841,5.677,5.82,5.936,5.119,5.56,5.801,5.713,5.653,5.653],\"yaxis\":\"y\",\"type\":\"scatter\"},{\"line\":{\"color\":\"#ffa07a\"},\"marker\":{\"color\":\"black\",\"size\":3},\"mode\":\"markers+text+lines\",\"name\":\"Peru\",\"x\":[2006,2007,2008,2009,2010,2011,2012,2013,2014,2015,2016,2017,2018,2019,2021],\"y\":[4.811,5.214,5.129,5.519,5.613,5.892,5.825,5.783,5.866,5.577,5.701,5.711,5.68,5.999,5.84],\"yaxis\":\"y\",\"type\":\"scatter\"},{\"line\":{\"color\":\"#20b2aa\"},\"marker\":{\"color\":\"black\",\"size\":3},\"mode\":\"markers+text+lines\",\"name\":\"Uruguay\",\"x\":[2006,2007,2008,2009,2010,2011,2012,2013,2014,2015,2016,2017,2018,2019,2020,2021],\"y\":[5.786,5.694,5.664,6.296,6.062,6.554,6.45,6.444,6.561,6.628,6.171,6.336,6.372,6.6,6.31,6.431],\"yaxis\":\"y\",\"type\":\"scatter\"},{\"line\":{\"color\":\"#87cefa\"},\"marker\":{\"color\":\"black\",\"size\":3},\"mode\":\"markers+text+lines\",\"name\":\"Venezuela\",\"x\":[2005,2006,2008,2009,2010,2011,2012,2013,2014,2015,2016,2017,2018,2019,2020,2021],\"y\":[7.17,6.525,6.258,7.189,7.478,6.58,7.067,6.553,6.136,5.569,4.041,5.071,5.006,5.081,4.574,4.892],\"yaxis\":\"y\",\"type\":\"scatter\"}],                        {\"template\":{\"data\":{\"barpolar\":[{\"marker\":{\"line\":{\"color\":\"rgb(17,17,17)\",\"width\":0.5},\"pattern\":{\"fillmode\":\"overlay\",\"size\":10,\"solidity\":0.2}},\"type\":\"barpolar\"}],\"bar\":[{\"error_x\":{\"color\":\"#f2f5fa\"},\"error_y\":{\"color\":\"#f2f5fa\"},\"marker\":{\"line\":{\"color\":\"rgb(17,17,17)\",\"width\":0.5},\"pattern\":{\"fillmode\":\"overlay\",\"size\":10,\"solidity\":0.2}},\"type\":\"bar\"}],\"carpet\":[{\"aaxis\":{\"endlinecolor\":\"#A2B1C6\",\"gridcolor\":\"#506784\",\"linecolor\":\"#506784\",\"minorgridcolor\":\"#506784\",\"startlinecolor\":\"#A2B1C6\"},\"baxis\":{\"endlinecolor\":\"#A2B1C6\",\"gridcolor\":\"#506784\",\"linecolor\":\"#506784\",\"minorgridcolor\":\"#506784\",\"startlinecolor\":\"#A2B1C6\"},\"type\":\"carpet\"}],\"choropleth\":[{\"colorbar\":{\"outlinewidth\":0,\"ticks\":\"\"},\"type\":\"choropleth\"}],\"contourcarpet\":[{\"colorbar\":{\"outlinewidth\":0,\"ticks\":\"\"},\"type\":\"contourcarpet\"}],\"contour\":[{\"colorbar\":{\"outlinewidth\":0,\"ticks\":\"\"},\"colorscale\":[[0.0,\"#0d0887\"],[0.1111111111111111,\"#46039f\"],[0.2222222222222222,\"#7201a8\"],[0.3333333333333333,\"#9c179e\"],[0.4444444444444444,\"#bd3786\"],[0.5555555555555556,\"#d8576b\"],[0.6666666666666666,\"#ed7953\"],[0.7777777777777778,\"#fb9f3a\"],[0.8888888888888888,\"#fdca26\"],[1.0,\"#f0f921\"]],\"type\":\"contour\"}],\"heatmapgl\":[{\"colorbar\":{\"outlinewidth\":0,\"ticks\":\"\"},\"colorscale\":[[0.0,\"#0d0887\"],[0.1111111111111111,\"#46039f\"],[0.2222222222222222,\"#7201a8\"],[0.3333333333333333,\"#9c179e\"],[0.4444444444444444,\"#bd3786\"],[0.5555555555555556,\"#d8576b\"],[0.6666666666666666,\"#ed7953\"],[0.7777777777777778,\"#fb9f3a\"],[0.8888888888888888,\"#fdca26\"],[1.0,\"#f0f921\"]],\"type\":\"heatmapgl\"}],\"heatmap\":[{\"colorbar\":{\"outlinewidth\":0,\"ticks\":\"\"},\"colorscale\":[[0.0,\"#0d0887\"],[0.1111111111111111,\"#46039f\"],[0.2222222222222222,\"#7201a8\"],[0.3333333333333333,\"#9c179e\"],[0.4444444444444444,\"#bd3786\"],[0.5555555555555556,\"#d8576b\"],[0.6666666666666666,\"#ed7953\"],[0.7777777777777778,\"#fb9f3a\"],[0.8888888888888888,\"#fdca26\"],[1.0,\"#f0f921\"]],\"type\":\"heatmap\"}],\"histogram2dcontour\":[{\"colorbar\":{\"outlinewidth\":0,\"ticks\":\"\"},\"colorscale\":[[0.0,\"#0d0887\"],[0.1111111111111111,\"#46039f\"],[0.2222222222222222,\"#7201a8\"],[0.3333333333333333,\"#9c179e\"],[0.4444444444444444,\"#bd3786\"],[0.5555555555555556,\"#d8576b\"],[0.6666666666666666,\"#ed7953\"],[0.7777777777777778,\"#fb9f3a\"],[0.8888888888888888,\"#fdca26\"],[1.0,\"#f0f921\"]],\"type\":\"histogram2dcontour\"}],\"histogram2d\":[{\"colorbar\":{\"outlinewidth\":0,\"ticks\":\"\"},\"colorscale\":[[0.0,\"#0d0887\"],[0.1111111111111111,\"#46039f\"],[0.2222222222222222,\"#7201a8\"],[0.3333333333333333,\"#9c179e\"],[0.4444444444444444,\"#bd3786\"],[0.5555555555555556,\"#d8576b\"],[0.6666666666666666,\"#ed7953\"],[0.7777777777777778,\"#fb9f3a\"],[0.8888888888888888,\"#fdca26\"],[1.0,\"#f0f921\"]],\"type\":\"histogram2d\"}],\"histogram\":[{\"marker\":{\"pattern\":{\"fillmode\":\"overlay\",\"size\":10,\"solidity\":0.2}},\"type\":\"histogram\"}],\"mesh3d\":[{\"colorbar\":{\"outlinewidth\":0,\"ticks\":\"\"},\"type\":\"mesh3d\"}],\"parcoords\":[{\"line\":{\"colorbar\":{\"outlinewidth\":0,\"ticks\":\"\"}},\"type\":\"parcoords\"}],\"pie\":[{\"automargin\":true,\"type\":\"pie\"}],\"scatter3d\":[{\"line\":{\"colorbar\":{\"outlinewidth\":0,\"ticks\":\"\"}},\"marker\":{\"colorbar\":{\"outlinewidth\":0,\"ticks\":\"\"}},\"type\":\"scatter3d\"}],\"scattercarpet\":[{\"marker\":{\"colorbar\":{\"outlinewidth\":0,\"ticks\":\"\"}},\"type\":\"scattercarpet\"}],\"scattergeo\":[{\"marker\":{\"colorbar\":{\"outlinewidth\":0,\"ticks\":\"\"}},\"type\":\"scattergeo\"}],\"scattergl\":[{\"marker\":{\"line\":{\"color\":\"#283442\"}},\"type\":\"scattergl\"}],\"scattermapbox\":[{\"marker\":{\"colorbar\":{\"outlinewidth\":0,\"ticks\":\"\"}},\"type\":\"scattermapbox\"}],\"scatterpolargl\":[{\"marker\":{\"colorbar\":{\"outlinewidth\":0,\"ticks\":\"\"}},\"type\":\"scatterpolargl\"}],\"scatterpolar\":[{\"marker\":{\"colorbar\":{\"outlinewidth\":0,\"ticks\":\"\"}},\"type\":\"scatterpolar\"}],\"scatter\":[{\"marker\":{\"line\":{\"color\":\"#283442\"}},\"type\":\"scatter\"}],\"scatterternary\":[{\"marker\":{\"colorbar\":{\"outlinewidth\":0,\"ticks\":\"\"}},\"type\":\"scatterternary\"}],\"surface\":[{\"colorbar\":{\"outlinewidth\":0,\"ticks\":\"\"},\"colorscale\":[[0.0,\"#0d0887\"],[0.1111111111111111,\"#46039f\"],[0.2222222222222222,\"#7201a8\"],[0.3333333333333333,\"#9c179e\"],[0.4444444444444444,\"#bd3786\"],[0.5555555555555556,\"#d8576b\"],[0.6666666666666666,\"#ed7953\"],[0.7777777777777778,\"#fb9f3a\"],[0.8888888888888888,\"#fdca26\"],[1.0,\"#f0f921\"]],\"type\":\"surface\"}],\"table\":[{\"cells\":{\"fill\":{\"color\":\"#506784\"},\"line\":{\"color\":\"rgb(17,17,17)\"}},\"header\":{\"fill\":{\"color\":\"#2a3f5f\"},\"line\":{\"color\":\"rgb(17,17,17)\"}},\"type\":\"table\"}]},\"layout\":{\"annotationdefaults\":{\"arrowcolor\":\"#f2f5fa\",\"arrowhead\":0,\"arrowwidth\":1},\"autotypenumbers\":\"strict\",\"coloraxis\":{\"colorbar\":{\"outlinewidth\":0,\"ticks\":\"\"}},\"colorscale\":{\"diverging\":[[0,\"#8e0152\"],[0.1,\"#c51b7d\"],[0.2,\"#de77ae\"],[0.3,\"#f1b6da\"],[0.4,\"#fde0ef\"],[0.5,\"#f7f7f7\"],[0.6,\"#e6f5d0\"],[0.7,\"#b8e186\"],[0.8,\"#7fbc41\"],[0.9,\"#4d9221\"],[1,\"#276419\"]],\"sequential\":[[0.0,\"#0d0887\"],[0.1111111111111111,\"#46039f\"],[0.2222222222222222,\"#7201a8\"],[0.3333333333333333,\"#9c179e\"],[0.4444444444444444,\"#bd3786\"],[0.5555555555555556,\"#d8576b\"],[0.6666666666666666,\"#ed7953\"],[0.7777777777777778,\"#fb9f3a\"],[0.8888888888888888,\"#fdca26\"],[1.0,\"#f0f921\"]],\"sequentialminus\":[[0.0,\"#0d0887\"],[0.1111111111111111,\"#46039f\"],[0.2222222222222222,\"#7201a8\"],[0.3333333333333333,\"#9c179e\"],[0.4444444444444444,\"#bd3786\"],[0.5555555555555556,\"#d8576b\"],[0.6666666666666666,\"#ed7953\"],[0.7777777777777778,\"#fb9f3a\"],[0.8888888888888888,\"#fdca26\"],[1.0,\"#f0f921\"]]},\"colorway\":[\"#636efa\",\"#EF553B\",\"#00cc96\",\"#ab63fa\",\"#FFA15A\",\"#19d3f3\",\"#FF6692\",\"#B6E880\",\"#FF97FF\",\"#FECB52\"],\"font\":{\"color\":\"#f2f5fa\"},\"geo\":{\"bgcolor\":\"rgb(17,17,17)\",\"lakecolor\":\"rgb(17,17,17)\",\"landcolor\":\"rgb(17,17,17)\",\"showlakes\":true,\"showland\":true,\"subunitcolor\":\"#506784\"},\"hoverlabel\":{\"align\":\"left\"},\"hovermode\":\"closest\",\"mapbox\":{\"style\":\"dark\"},\"paper_bgcolor\":\"rgb(17,17,17)\",\"plot_bgcolor\":\"rgb(17,17,17)\",\"polar\":{\"angularaxis\":{\"gridcolor\":\"#506784\",\"linecolor\":\"#506784\",\"ticks\":\"\"},\"bgcolor\":\"rgb(17,17,17)\",\"radialaxis\":{\"gridcolor\":\"#506784\",\"linecolor\":\"#506784\",\"ticks\":\"\"}},\"scene\":{\"xaxis\":{\"backgroundcolor\":\"rgb(17,17,17)\",\"gridcolor\":\"#506784\",\"gridwidth\":2,\"linecolor\":\"#506784\",\"showbackground\":true,\"ticks\":\"\",\"zerolinecolor\":\"#C8D4E3\"},\"yaxis\":{\"backgroundcolor\":\"rgb(17,17,17)\",\"gridcolor\":\"#506784\",\"gridwidth\":2,\"linecolor\":\"#506784\",\"showbackground\":true,\"ticks\":\"\",\"zerolinecolor\":\"#C8D4E3\"},\"zaxis\":{\"backgroundcolor\":\"rgb(17,17,17)\",\"gridcolor\":\"#506784\",\"gridwidth\":2,\"linecolor\":\"#506784\",\"showbackground\":true,\"ticks\":\"\",\"zerolinecolor\":\"#C8D4E3\"}},\"shapedefaults\":{\"line\":{\"color\":\"#f2f5fa\"}},\"sliderdefaults\":{\"bgcolor\":\"#C8D4E3\",\"bordercolor\":\"rgb(17,17,17)\",\"borderwidth\":1,\"tickwidth\":0},\"ternary\":{\"aaxis\":{\"gridcolor\":\"#506784\",\"linecolor\":\"#506784\",\"ticks\":\"\"},\"baxis\":{\"gridcolor\":\"#506784\",\"linecolor\":\"#506784\",\"ticks\":\"\"},\"bgcolor\":\"rgb(17,17,17)\",\"caxis\":{\"gridcolor\":\"#506784\",\"linecolor\":\"#506784\",\"ticks\":\"\"}},\"title\":{\"x\":0.05},\"updatemenudefaults\":{\"bgcolor\":\"#506784\",\"borderwidth\":0},\"xaxis\":{\"automargin\":true,\"gridcolor\":\"#283442\",\"linecolor\":\"#506784\",\"ticks\":\"\",\"title\":{\"standoff\":15},\"zerolinecolor\":\"#283442\",\"zerolinewidth\":2},\"yaxis\":{\"automargin\":true,\"gridcolor\":\"#283442\",\"linecolor\":\"#506784\",\"ticks\":\"\",\"title\":{\"standoff\":15},\"zerolinecolor\":\"#283442\",\"zerolinewidth\":2}}},\"font\":{\"size\":14,\"color\":\"White\",\"family\":\"Oswald', sans-serif\"},\"xaxis\":{\"title\":{\"text\":\"A\\u00f1o\"},\"showgrid\":true},\"yaxis\":{\"title\":{\"text\":\"Indice de Felicidad\"},\"showgrid\":true},\"title\":{\"text\":\"Indice de Felicidad Tendencia en Sudamerica 2006-2021 \"}},                        {\"responsive\": true}                    ).then(function(){\n",
       "                            \n",
       "var gd = document.getElementById('ab395d8c-e436-40dc-a29c-2edb629c8905');\n",
       "var x = new MutationObserver(function (mutations, observer) {{\n",
       "        var display = window.getComputedStyle(gd).display;\n",
       "        if (!display || display === 'none') {{\n",
       "            console.log([gd, 'removed!']);\n",
       "            Plotly.purge(gd);\n",
       "            observer.disconnect();\n",
       "        }}\n",
       "}});\n",
       "\n",
       "// Listen for the removal of the full notebook cells\n",
       "var notebookContainer = gd.closest('#notebook-container');\n",
       "if (notebookContainer) {{\n",
       "    x.observe(notebookContainer, {childList: true});\n",
       "}}\n",
       "\n",
       "// Listen for the clearing of the current output cell\n",
       "var outputEl = gd.closest('.output');\n",
       "if (outputEl) {{\n",
       "    x.observe(outputEl, {childList: true});\n",
       "}}\n",
       "\n",
       "                        })                };                });            </script>        </div>"
      ]
     },
     "metadata": {},
     "output_type": "display_data"
    }
   ],
   "source": [
    "LAC = LAC.sort_values([\"Country name\", \"year\"])\n",
    "\n",
    "css3_colors = ['#add8e6', '#f08080', '#e0ffff', '#fafad2',\n",
    "               '#d3d3d3', '#90ee90', '#ffb6c1', '#ffa07a', '#20b2aa', '#87cefa']\n",
    "css3_dict = {}\n",
    "i = 0\n",
    "for name in LAC[\"Country name\"].unique():\n",
    "    css3_dict[name] = css3_colors[i]\n",
    "    i += 1\n",
    "\n",
    "\n",
    "fig = go.Figure()\n",
    "for name in LAC['Country name'].unique():\n",
    "    fig.add_trace(go.Scatter(\n",
    "        x=LAC[LAC['Country name'] == name]['year'],\n",
    "        y=LAC[LAC['Country name'] == name]['Life Ladder'],\n",
    "        name=name,\n",
    "        mode='markers+text+lines',\n",
    "        marker_color='black',\n",
    "        line=dict(color=css3_dict[name]),\n",
    "        marker_size=3,\n",
    "        yaxis='y1'))\n",
    "\n",
    "fig.update_layout(\n",
    "    title=\"Indice de Felicidad Tendencia en Sudamerica 2006-2021 \",\n",
    "    xaxis_title=\"Año\",\n",
    "    yaxis_title='Indice de Felicidad',\n",
    "    template='plotly_dark',\n",
    "    font=dict(\n",
    "        size=14,\n",
    "        color=\"White\",\n",
    "        family=\"Oswald', sans-serif\"\n",
    "    ),\n",
    "    xaxis=dict(showgrid=True),\n",
    "    yaxis=dict(showgrid=True)\n",
    ")\n",
    "fig.show()"
   ]
  },
  {
   "cell_type": "code",
   "execution_count": 14,
   "id": "2859547c",
   "metadata": {},
   "outputs": [
    {
     "data": {
      "image/png": "[encoded data removed]",
      "text/plain": [
       "<Figure size 1440x576 with 1 Axes>"
      ]
     },
     "metadata": {},
     "output_type": "display_data"
    }
   ],
   "source": [
    "sns.set_style('darkgrid')\n",
    "\n",
    "LAC = LAC.sort_values([\"Country name\", \"year\"])\n",
    "\n",
    "css3_colors = ['#add8e6', '#f08080', '#e0ffff', '#fafad2',\n",
    "               '#d3d3d3', '#90ee90', '#ffb6c1', '#ffa07a', '#20b2aa', '#87cefa']\n",
    "css3_dict = {}\n",
    "i = 0\n",
    "for name in LAC[\"Country name\"].unique():\n",
    "    css3_dict[name] = css3_colors[i]\n",
    "    i += 1\n",
    "\n",
    "\n",
    "fig, ax = plt.subplots()\n",
    "for name in LAC['Country name'].unique():\n",
    "    ax.plot(\n",
    "        LAC[LAC['Country name'] == name]['year'],\n",
    "        LAC[LAC['Country name'] == name]['Life Ladder']),\n",
    "\n",
    "ax.figure.set_size_inches(20, 8)\n",
    "ax.set_xlabel('Año', size=15)  # Add an x-label to the axes.\n",
    "ax.set_ylabel('Indice de Felicidad', size=15)  # Add a y-label to the axes.\n",
    "# Add a title and legend to the axes.\n",
    "ax.set_title(\"Indice de Felicidad Tendencia en Sudamerica 2006-2021\", size=20)\n",
    "ax.legend(css3_dict);"
   ]
  },
  {
   "cell_type": "markdown",
   "id": "ce82743f",
   "metadata": {},
   "source": [
    "Tal como puede observarse en los gráficos previos (mejor aun en el dinámico), todos los paises excepto Chile tuvieron una caida en el Indice de Felicidad en el primer año de pandemia (de 2019 al 2020). Para el segundo año todos los paises excepto Perú mejoraron su score de felicidad (véase el trabajo previo para una mayor explicación al respecto; el link está en la Introducción).\n",
    "Otro dato interesante, es que al inicio del quindenio (2006) había una gran dispersión en los score de felicidad entre los países, fluctuaban en un rango entre 4.73 y 6.53, lo que se fue reduciendo y concentrando en el tiempo, es así que el 2021 el rango va de 6.43 a 5.65, sin considerar a Venezuela que, a pesar de su mejora en el último año está en 4.89 muy por debajo del 7.17 que tuvo el 2005 y algo mejor al 4.04 del 2016, su peor año."
   ]
  },
  {
   "cell_type": "code",
   "execution_count": 15,
   "id": "4092e5d5",
   "metadata": {},
   "outputs": [
    {
     "data": {
      "application/vnd.plotly.v1+json": {
       "config": {
        "plotlyServerURL": "https://plot.ly"
       },
       "data": [
        {
         "line": {
          "color": "red",
          "dash": "dash"
         },
         "marker": {
          "color": "red",
          "size": 10
         },
         "mode": "markers+text",
         "name": "Happines Score",
         "textposition": "top center",
         "type": "scatter",
         "x": [
          "Paraguay",
          "Peru",
          "Bolivia",
          "Ecuador",
          "Venezuela",
          "Colombia",
          "Uruguay",
          "Argentina",
          "Chile",
          "Brazil"
         ],
         "y": [
          5.565785714285715,
          5.610666666666666,
          5.732312499999999,
          5.741999999999999,
          5.949374999999999,
          6.233749999999999,
          6.2724375,
          6.2863125,
          6.345125,
          6.602687499999999
         ]
        }
       ],
       "layout": {
        "font": {
         "color": "White",
         "family": "Oswald', sans-serif",
         "size": 12
        },
        "template": {
         "data": {
          "bar": [
           {
            "error_x": {
             "color": "#f2f5fa"
            },
            "error_y": {
             "color": "#f2f5fa"
            },
            "marker": {
             "line": {
              "color": "rgb(17,17,17)",
              "width": 0.5
             },
             "pattern": {
              "fillmode": "overlay",
              "size": 10,
              "solidity": 0.2
             }
            },
            "type": "bar"
           }
          ],
          "barpolar": [
           {
            "marker": {
             "line": {
              "color": "rgb(17,17,17)",
              "width": 0.5
             },
             "pattern": {
              "fillmode": "overlay",
              "size": 10,
              "solidity": 0.2
             }
            },
            "type": "barpolar"
           }
          ],
          "carpet": [
           {
            "aaxis": {
             "endlinecolor": "#A2B1C6",
             "gridcolor": "#506784",
             "linecolor": "#506784",
             "minorgridcolor": "#506784",
             "startlinecolor": "#A2B1C6"
            },
            "baxis": {
             "endlinecolor": "#A2B1C6",
             "gridcolor": "#506784",
             "linecolor": "#506784",
             "minorgridcolor": "#506784",
             "startlinecolor": "#A2B1C6"
            },
            "type": "carpet"
           }
          ],
          "choropleth": [
           {
            "colorbar": {
             "outlinewidth": 0,
             "ticks": ""
            },
            "type": "choropleth"
           }
          ],
          "contour": [
           {
            "colorbar": {
             "outlinewidth": 0,
             "ticks": ""
            },
            "colorscale": [
             [
              0,
              "#0d0887"
             ],
             [
              0.1111111111111111,
              "#46039f"
             ],
             [
              0.2222222222222222,
              "#7201a8"
             ],
             [
              0.3333333333333333,
              "#9c179e"
             ],
             [
              0.4444444444444444,
              "#bd3786"
             ],
             [
              0.5555555555555556,
              "#d8576b"
             ],
             [
              0.6666666666666666,
              "#ed7953"
             ],
             [
              0.7777777777777778,
              "#fb9f3a"
             ],
             [
              0.8888888888888888,
              "#fdca26"
             ],
             [
              1,
              "#f0f921"
             ]
            ],
            "type": "contour"
           }
          ],
          "contourcarpet": [
           {
            "colorbar": {
             "outlinewidth": 0,
             "ticks": ""
            },
            "type": "contourcarpet"
           }
          ],
          "heatmap": [
           {
            "colorbar": {
             "outlinewidth": 0,
             "ticks": ""
            },
            "colorscale": [
             [
              0,
              "#0d0887"
             ],
             [
              0.1111111111111111,
              "#46039f"
             ],
             [
              0.2222222222222222,
              "#7201a8"
             ],
             [
              0.3333333333333333,
              "#9c179e"
             ],
             [
              0.4444444444444444,
              "#bd3786"
             ],
             [
              0.5555555555555556,
              "#d8576b"
             ],
             [
              0.6666666666666666,
              "#ed7953"
             ],
             [
              0.7777777777777778,
              "#fb9f3a"
             ],
             [
              0.8888888888888888,
              "#fdca26"
             ],
             [
              1,
              "#f0f921"
             ]
            ],
            "type": "heatmap"
           }
          ],
          "heatmapgl": [
           {
            "colorbar": {
             "outlinewidth": 0,
             "ticks": ""
            },
            "colorscale": [
             [
              0,
              "#0d0887"
             ],
             [
              0.1111111111111111,
              "#46039f"
             ],
             [
              0.2222222222222222,
              "#7201a8"
             ],
             [
              0.3333333333333333,
              "#9c179e"
             ],
             [
              0.4444444444444444,
              "#bd3786"
             ],
             [
              0.5555555555555556,
              "#d8576b"
             ],
             [
              0.6666666666666666,
              "#ed7953"
             ],
             [
              0.7777777777777778,
              "#fb9f3a"
             ],
             [
              0.8888888888888888,
              "#fdca26"
             ],
             [
              1,
              "#f0f921"
             ]
            ],
            "type": "heatmapgl"
           }
          ],
          "histogram": [
           {
            "marker": {
             "pattern": {
              "fillmode": "overlay",
              "size": 10,
              "solidity": 0.2
             }
            },
            "type": "histogram"
           }
          ],
          "histogram2d": [
           {
            "colorbar": {
             "outlinewidth": 0,
             "ticks": ""
            },
            "colorscale": [
             [
              0,
              "#0d0887"
             ],
             [
              0.1111111111111111,
              "#46039f"
             ],
             [
              0.2222222222222222,
              "#7201a8"
             ],
             [
              0.3333333333333333,
              "#9c179e"
             ],
             [
              0.4444444444444444,
              "#bd3786"
             ],
             [
              0.5555555555555556,
              "#d8576b"
             ],
             [
              0.6666666666666666,
              "#ed7953"
             ],
             [
              0.7777777777777778,
              "#fb9f3a"
             ],
             [
              0.8888888888888888,
              "#fdca26"
             ],
             [
              1,
              "#f0f921"
             ]
            ],
            "type": "histogram2d"
           }
          ],
          "histogram2dcontour": [
           {
            "colorbar": {
             "outlinewidth": 0,
             "ticks": ""
            },
            "colorscale": [
             [
              0,
              "#0d0887"
             ],
             [
              0.1111111111111111,
              "#46039f"
             ],
             [
              0.2222222222222222,
              "#7201a8"
             ],
             [
              0.3333333333333333,
              "#9c179e"
             ],
             [
              0.4444444444444444,
              "#bd3786"
             ],
             [
              0.5555555555555556,
              "#d8576b"
             ],
             [
              0.6666666666666666,
              "#ed7953"
             ],
             [
              0.7777777777777778,
              "#fb9f3a"
             ],
             [
              0.8888888888888888,
              "#fdca26"
             ],
             [
              1,
              "#f0f921"
             ]
            ],
            "type": "histogram2dcontour"
           }
          ],
          "mesh3d": [
           {
            "colorbar": {
             "outlinewidth": 0,
             "ticks": ""
            },
            "type": "mesh3d"
           }
          ],
          "parcoords": [
           {
            "line": {
             "colorbar": {
              "outlinewidth": 0,
              "ticks": ""
             }
            },
            "type": "parcoords"
           }
          ],
          "pie": [
           {
            "automargin": true,
            "type": "pie"
           }
          ],
          "scatter": [
           {
            "marker": {
             "line": {
              "color": "#283442"
             }
            },
            "type": "scatter"
           }
          ],
          "scatter3d": [
           {
            "line": {
             "colorbar": {
              "outlinewidth": 0,
              "ticks": ""
             }
            },
            "marker": {
             "colorbar": {
              "outlinewidth": 0,
              "ticks": ""
             }
            },
            "type": "scatter3d"
           }
          ],
          "scattercarpet": [
           {
            "marker": {
             "colorbar": {
              "outlinewidth": 0,
              "ticks": ""
             }
            },
            "type": "scattercarpet"
           }
          ],
          "scattergeo": [
           {
            "marker": {
             "colorbar": {
              "outlinewidth": 0,
              "ticks": ""
             }
            },
            "type": "scattergeo"
           }
          ],
          "scattergl": [
           {
            "marker": {
             "line": {
              "color": "#283442"
             }
            },
            "type": "scattergl"
           }
          ],
          "scattermapbox": [
           {
            "marker": {
             "colorbar": {
              "outlinewidth": 0,
              "ticks": ""
             }
            },
            "type": "scattermapbox"
           }
          ],
          "scatterpolar": [
           {
            "marker": {
             "colorbar": {
              "outlinewidth": 0,
              "ticks": ""
             }
            },
            "type": "scatterpolar"
           }
          ],
          "scatterpolargl": [
           {
            "marker": {
             "colorbar": {
              "outlinewidth": 0,
              "ticks": ""
             }
            },
            "type": "scatterpolargl"
           }
          ],
          "scatterternary": [
           {
            "marker": {
             "colorbar": {
              "outlinewidth": 0,
              "ticks": ""
             }
            },
            "type": "scatterternary"
           }
          ],
          "surface": [
           {
            "colorbar": {
             "outlinewidth": 0,
             "ticks": ""
            },
            "colorscale": [
             [
              0,
              "#0d0887"
             ],
             [
              0.1111111111111111,
              "#46039f"
             ],
             [
              0.2222222222222222,
              "#7201a8"
             ],
             [
              0.3333333333333333,
              "#9c179e"
             ],
             [
              0.4444444444444444,
              "#bd3786"
             ],
             [
              0.5555555555555556,
              "#d8576b"
             ],
             [
              0.6666666666666666,
              "#ed7953"
             ],
             [
              0.7777777777777778,
              "#fb9f3a"
             ],
             [
              0.8888888888888888,
              "#fdca26"
             ],
             [
              1,
              "#f0f921"
             ]
            ],
            "type": "surface"
           }
          ],
          "table": [
           {
            "cells": {
             "fill": {
              "color": "#506784"
             },
             "line": {
              "color": "rgb(17,17,17)"
             }
            },
            "header": {
             "fill": {
              "color": "#2a3f5f"
             },
             "line": {
              "color": "rgb(17,17,17)"
             }
            },
            "type": "table"
           }
          ]
         },
         "layout": {
          "annotationdefaults": {
           "arrowcolor": "#f2f5fa",
           "arrowhead": 0,
           "arrowwidth": 1
          },
          "autotypenumbers": "strict",
          "coloraxis": {
           "colorbar": {
            "outlinewidth": 0,
            "ticks": ""
           }
          },
          "colorscale": {
           "diverging": [
            [
             0,
             "#8e0152"
            ],
            [
             0.1,
             "#c51b7d"
            ],
            [
             0.2,
             "#de77ae"
            ],
            [
             0.3,
             "#f1b6da"
            ],
            [
             0.4,
             "#fde0ef"
            ],
            [
             0.5,
             "#f7f7f7"
            ],
            [
             0.6,
             "#e6f5d0"
            ],
            [
             0.7,
             "#b8e186"
            ],
            [
             0.8,
             "#7fbc41"
            ],
            [
             0.9,
             "#4d9221"
            ],
            [
             1,
             "#276419"
            ]
           ],
           "sequential": [
            [
             0,
             "#0d0887"
            ],
            [
             0.1111111111111111,
             "#46039f"
            ],
            [
             0.2222222222222222,
             "#7201a8"
            ],
            [
             0.3333333333333333,
             "#9c179e"
            ],
            [
             0.4444444444444444,
             "#bd3786"
            ],
            [
             0.5555555555555556,
             "#d8576b"
            ],
            [
             0.6666666666666666,
             "#ed7953"
            ],
            [
             0.7777777777777778,
             "#fb9f3a"
            ],
            [
             0.8888888888888888,
             "#fdca26"
            ],
            [
             1,
             "#f0f921"
            ]
           ],
           "sequentialminus": [
            [
             0,
             "#0d0887"
            ],
            [
             0.1111111111111111,
             "#46039f"
            ],
            [
             0.2222222222222222,
             "#7201a8"
            ],
            [
             0.3333333333333333,
             "#9c179e"
            ],
            [
             0.4444444444444444,
             "#bd3786"
            ],
            [
             0.5555555555555556,
             "#d8576b"
            ],
            [
             0.6666666666666666,
             "#ed7953"
            ],
            [
             0.7777777777777778,
             "#fb9f3a"
            ],
            [
             0.8888888888888888,
             "#fdca26"
            ],
            [
             1,
             "#f0f921"
            ]
           ]
          },
          "colorway": [
           "#636efa",
           "#EF553B",
           "#00cc96",
           "#ab63fa",
           "#FFA15A",
           "#19d3f3",
           "#FF6692",
           "#B6E880",
           "#FF97FF",
           "#FECB52"
          ],
          "font": {
           "color": "#f2f5fa"
          },
          "geo": {
           "bgcolor": "rgb(17,17,17)",
           "lakecolor": "rgb(17,17,17)",
           "landcolor": "rgb(17,17,17)",
           "showlakes": true,
           "showland": true,
           "subunitcolor": "#506784"
          },
          "hoverlabel": {
           "align": "left"
          },
          "hovermode": "closest",
          "mapbox": {
           "style": "dark"
          },
          "paper_bgcolor": "rgb(17,17,17)",
          "plot_bgcolor": "rgb(17,17,17)",
          "polar": {
           "angularaxis": {
            "gridcolor": "#506784",
            "linecolor": "#506784",
            "ticks": ""
           },
           "bgcolor": "rgb(17,17,17)",
           "radialaxis": {
            "gridcolor": "#506784",
            "linecolor": "#506784",
            "ticks": ""
           }
          },
          "scene": {
           "xaxis": {
            "backgroundcolor": "rgb(17,17,17)",
            "gridcolor": "#506784",
            "gridwidth": 2,
            "linecolor": "#506784",
            "showbackground": true,
            "ticks": "",
            "zerolinecolor": "#C8D4E3"
           },
           "yaxis": {
            "backgroundcolor": "rgb(17,17,17)",
            "gridcolor": "#506784",
            "gridwidth": 2,
            "linecolor": "#506784",
            "showbackground": true,
            "ticks": "",
            "zerolinecolor": "#C8D4E3"
           },
           "zaxis": {
            "backgroundcolor": "rgb(17,17,17)",
            "gridcolor": "#506784",
            "gridwidth": 2,
            "linecolor": "#506784",
            "showbackground": true,
            "ticks": "",
            "zerolinecolor": "#C8D4E3"
           }
          },
          "shapedefaults": {
           "line": {
            "color": "#f2f5fa"
           }
          },
          "sliderdefaults": {
           "bgcolor": "#C8D4E3",
           "bordercolor": "rgb(17,17,17)",
           "borderwidth": 1,
           "tickwidth": 0
          },
          "ternary": {
           "aaxis": {
            "gridcolor": "#506784",
            "linecolor": "#506784",
            "ticks": ""
           },
           "baxis": {
            "gridcolor": "#506784",
            "linecolor": "#506784",
            "ticks": ""
           },
           "bgcolor": "rgb(17,17,17)",
           "caxis": {
            "gridcolor": "#506784",
            "linecolor": "#506784",
            "ticks": ""
           }
          },
          "title": {
           "x": 0.05
          },
          "updatemenudefaults": {
           "bgcolor": "#506784",
           "borderwidth": 0
          },
          "xaxis": {
           "automargin": true,
           "gridcolor": "#283442",
           "linecolor": "#506784",
           "ticks": "",
           "title": {
            "standoff": 15
           },
           "zerolinecolor": "#283442",
           "zerolinewidth": 2
          },
          "yaxis": {
           "automargin": true,
           "gridcolor": "#283442",
           "linecolor": "#506784",
           "ticks": "",
           "title": {
            "standoff": 15
           },
           "zerolinecolor": "#283442",
           "zerolinewidth": 2
          }
         }
        },
        "title": {
         "text": "<b>Sudamerica: Indice de Felicidad - Media anual 2006-2021</b>"
        },
        "xaxis": {
         "showgrid": true,
         "title": {
          "text": "<b>País</b>"
         }
        },
        "yaxis": {
         "showgrid": true,
         "title": {
          "text": "<b>Indice de Felicidad</b>"
         }
        },
        "yaxis2": {
         "overlaying": "y",
         "showgrid": true,
         "side": "right",
         "title": {
          "text": "<b>Indice de Felicidad</b>"
         }
        }
       }
      },
      "text/html": [
       "<div>                            <div id=\"e69dd26c-545f-408b-a821-f7495a1972b7\" class=\"plotly-graph-div\" style=\"height:525px; width:100%;\"></div>            <script type=\"text/javascript\">                require([\"plotly\"], function(Plotly) {                    window.PLOTLYENV=window.PLOTLYENV || {};                                    if (document.getElementById(\"e69dd26c-545f-408b-a821-f7495a1972b7\")) {                    Plotly.newPlot(                        \"e69dd26c-545f-408b-a821-f7495a1972b7\",                        [{\"line\":{\"color\":\"red\",\"dash\":\"dash\"},\"marker\":{\"color\":\"red\",\"size\":10},\"mode\":\"markers+text\",\"name\":\"Happines Score\",\"textposition\":\"top center\",\"x\":[\"Paraguay\",\"Peru\",\"Bolivia\",\"Ecuador\",\"Venezuela\",\"Colombia\",\"Uruguay\",\"Argentina\",\"Chile\",\"Brazil\"],\"y\":[5.565785714285715,5.610666666666666,5.732312499999999,5.741999999999999,5.949374999999999,6.233749999999999,6.2724375,6.2863125,6.345125,6.602687499999999],\"type\":\"scatter\"}],                        {\"template\":{\"data\":{\"barpolar\":[{\"marker\":{\"line\":{\"color\":\"rgb(17,17,17)\",\"width\":0.5},\"pattern\":{\"fillmode\":\"overlay\",\"size\":10,\"solidity\":0.2}},\"type\":\"barpolar\"}],\"bar\":[{\"error_x\":{\"color\":\"#f2f5fa\"},\"error_y\":{\"color\":\"#f2f5fa\"},\"marker\":{\"line\":{\"color\":\"rgb(17,17,17)\",\"width\":0.5},\"pattern\":{\"fillmode\":\"overlay\",\"size\":10,\"solidity\":0.2}},\"type\":\"bar\"}],\"carpet\":[{\"aaxis\":{\"endlinecolor\":\"#A2B1C6\",\"gridcolor\":\"#506784\",\"linecolor\":\"#506784\",\"minorgridcolor\":\"#506784\",\"startlinecolor\":\"#A2B1C6\"},\"baxis\":{\"endlinecolor\":\"#A2B1C6\",\"gridcolor\":\"#506784\",\"linecolor\":\"#506784\",\"minorgridcolor\":\"#506784\",\"startlinecolor\":\"#A2B1C6\"},\"type\":\"carpet\"}],\"choropleth\":[{\"colorbar\":{\"outlinewidth\":0,\"ticks\":\"\"},\"type\":\"choropleth\"}],\"contourcarpet\":[{\"colorbar\":{\"outlinewidth\":0,\"ticks\":\"\"},\"type\":\"contourcarpet\"}],\"contour\":[{\"colorbar\":{\"outlinewidth\":0,\"ticks\":\"\"},\"colorscale\":[[0.0,\"#0d0887\"],[0.1111111111111111,\"#46039f\"],[0.2222222222222222,\"#7201a8\"],[0.3333333333333333,\"#9c179e\"],[0.4444444444444444,\"#bd3786\"],[0.5555555555555556,\"#d8576b\"],[0.6666666666666666,\"#ed7953\"],[0.7777777777777778,\"#fb9f3a\"],[0.8888888888888888,\"#fdca26\"],[1.0,\"#f0f921\"]],\"type\":\"contour\"}],\"heatmapgl\":[{\"colorbar\":{\"outlinewidth\":0,\"ticks\":\"\"},\"colorscale\":[[0.0,\"#0d0887\"],[0.1111111111111111,\"#46039f\"],[0.2222222222222222,\"#7201a8\"],[0.3333333333333333,\"#9c179e\"],[0.4444444444444444,\"#bd3786\"],[0.5555555555555556,\"#d8576b\"],[0.6666666666666666,\"#ed7953\"],[0.7777777777777778,\"#fb9f3a\"],[0.8888888888888888,\"#fdca26\"],[1.0,\"#f0f921\"]],\"type\":\"heatmapgl\"}],\"heatmap\":[{\"colorbar\":{\"outlinewidth\":0,\"ticks\":\"\"},\"colorscale\":[[0.0,\"#0d0887\"],[0.1111111111111111,\"#46039f\"],[0.2222222222222222,\"#7201a8\"],[0.3333333333333333,\"#9c179e\"],[0.4444444444444444,\"#bd3786\"],[0.5555555555555556,\"#d8576b\"],[0.6666666666666666,\"#ed7953\"],[0.7777777777777778,\"#fb9f3a\"],[0.8888888888888888,\"#fdca26\"],[1.0,\"#f0f921\"]],\"type\":\"heatmap\"}],\"histogram2dcontour\":[{\"colorbar\":{\"outlinewidth\":0,\"ticks\":\"\"},\"colorscale\":[[0.0,\"#0d0887\"],[0.1111111111111111,\"#46039f\"],[0.2222222222222222,\"#7201a8\"],[0.3333333333333333,\"#9c179e\"],[0.4444444444444444,\"#bd3786\"],[0.5555555555555556,\"#d8576b\"],[0.6666666666666666,\"#ed7953\"],[0.7777777777777778,\"#fb9f3a\"],[0.8888888888888888,\"#fdca26\"],[1.0,\"#f0f921\"]],\"type\":\"histogram2dcontour\"}],\"histogram2d\":[{\"colorbar\":{\"outlinewidth\":0,\"ticks\":\"\"},\"colorscale\":[[0.0,\"#0d0887\"],[0.1111111111111111,\"#46039f\"],[0.2222222222222222,\"#7201a8\"],[0.3333333333333333,\"#9c179e\"],[0.4444444444444444,\"#bd3786\"],[0.5555555555555556,\"#d8576b\"],[0.6666666666666666,\"#ed7953\"],[0.7777777777777778,\"#fb9f3a\"],[0.8888888888888888,\"#fdca26\"],[1.0,\"#f0f921\"]],\"type\":\"histogram2d\"}],\"histogram\":[{\"marker\":{\"pattern\":{\"fillmode\":\"overlay\",\"size\":10,\"solidity\":0.2}},\"type\":\"histogram\"}],\"mesh3d\":[{\"colorbar\":{\"outlinewidth\":0,\"ticks\":\"\"},\"type\":\"mesh3d\"}],\"parcoords\":[{\"line\":{\"colorbar\":{\"outlinewidth\":0,\"ticks\":\"\"}},\"type\":\"parcoords\"}],\"pie\":[{\"automargin\":true,\"type\":\"pie\"}],\"scatter3d\":[{\"line\":{\"colorbar\":{\"outlinewidth\":0,\"ticks\":\"\"}},\"marker\":{\"colorbar\":{\"outlinewidth\":0,\"ticks\":\"\"}},\"type\":\"scatter3d\"}],\"scattercarpet\":[{\"marker\":{\"colorbar\":{\"outlinewidth\":0,\"ticks\":\"\"}},\"type\":\"scattercarpet\"}],\"scattergeo\":[{\"marker\":{\"colorbar\":{\"outlinewidth\":0,\"ticks\":\"\"}},\"type\":\"scattergeo\"}],\"scattergl\":[{\"marker\":{\"line\":{\"color\":\"#283442\"}},\"type\":\"scattergl\"}],\"scattermapbox\":[{\"marker\":{\"colorbar\":{\"outlinewidth\":0,\"ticks\":\"\"}},\"type\":\"scattermapbox\"}],\"scatterpolargl\":[{\"marker\":{\"colorbar\":{\"outlinewidth\":0,\"ticks\":\"\"}},\"type\":\"scatterpolargl\"}],\"scatterpolar\":[{\"marker\":{\"colorbar\":{\"outlinewidth\":0,\"ticks\":\"\"}},\"type\":\"scatterpolar\"}],\"scatter\":[{\"marker\":{\"line\":{\"color\":\"#283442\"}},\"type\":\"scatter\"}],\"scatterternary\":[{\"marker\":{\"colorbar\":{\"outlinewidth\":0,\"ticks\":\"\"}},\"type\":\"scatterternary\"}],\"surface\":[{\"colorbar\":{\"outlinewidth\":0,\"ticks\":\"\"},\"colorscale\":[[0.0,\"#0d0887\"],[0.1111111111111111,\"#46039f\"],[0.2222222222222222,\"#7201a8\"],[0.3333333333333333,\"#9c179e\"],[0.4444444444444444,\"#bd3786\"],[0.5555555555555556,\"#d8576b\"],[0.6666666666666666,\"#ed7953\"],[0.7777777777777778,\"#fb9f3a\"],[0.8888888888888888,\"#fdca26\"],[1.0,\"#f0f921\"]],\"type\":\"surface\"}],\"table\":[{\"cells\":{\"fill\":{\"color\":\"#506784\"},\"line\":{\"color\":\"rgb(17,17,17)\"}},\"header\":{\"fill\":{\"color\":\"#2a3f5f\"},\"line\":{\"color\":\"rgb(17,17,17)\"}},\"type\":\"table\"}]},\"layout\":{\"annotationdefaults\":{\"arrowcolor\":\"#f2f5fa\",\"arrowhead\":0,\"arrowwidth\":1},\"autotypenumbers\":\"strict\",\"coloraxis\":{\"colorbar\":{\"outlinewidth\":0,\"ticks\":\"\"}},\"colorscale\":{\"diverging\":[[0,\"#8e0152\"],[0.1,\"#c51b7d\"],[0.2,\"#de77ae\"],[0.3,\"#f1b6da\"],[0.4,\"#fde0ef\"],[0.5,\"#f7f7f7\"],[0.6,\"#e6f5d0\"],[0.7,\"#b8e186\"],[0.8,\"#7fbc41\"],[0.9,\"#4d9221\"],[1,\"#276419\"]],\"sequential\":[[0.0,\"#0d0887\"],[0.1111111111111111,\"#46039f\"],[0.2222222222222222,\"#7201a8\"],[0.3333333333333333,\"#9c179e\"],[0.4444444444444444,\"#bd3786\"],[0.5555555555555556,\"#d8576b\"],[0.6666666666666666,\"#ed7953\"],[0.7777777777777778,\"#fb9f3a\"],[0.8888888888888888,\"#fdca26\"],[1.0,\"#f0f921\"]],\"sequentialminus\":[[0.0,\"#0d0887\"],[0.1111111111111111,\"#46039f\"],[0.2222222222222222,\"#7201a8\"],[0.3333333333333333,\"#9c179e\"],[0.4444444444444444,\"#bd3786\"],[0.5555555555555556,\"#d8576b\"],[0.6666666666666666,\"#ed7953\"],[0.7777777777777778,\"#fb9f3a\"],[0.8888888888888888,\"#fdca26\"],[1.0,\"#f0f921\"]]},\"colorway\":[\"#636efa\",\"#EF553B\",\"#00cc96\",\"#ab63fa\",\"#FFA15A\",\"#19d3f3\",\"#FF6692\",\"#B6E880\",\"#FF97FF\",\"#FECB52\"],\"font\":{\"color\":\"#f2f5fa\"},\"geo\":{\"bgcolor\":\"rgb(17,17,17)\",\"lakecolor\":\"rgb(17,17,17)\",\"landcolor\":\"rgb(17,17,17)\",\"showlakes\":true,\"showland\":true,\"subunitcolor\":\"#506784\"},\"hoverlabel\":{\"align\":\"left\"},\"hovermode\":\"closest\",\"mapbox\":{\"style\":\"dark\"},\"paper_bgcolor\":\"rgb(17,17,17)\",\"plot_bgcolor\":\"rgb(17,17,17)\",\"polar\":{\"angularaxis\":{\"gridcolor\":\"#506784\",\"linecolor\":\"#506784\",\"ticks\":\"\"},\"bgcolor\":\"rgb(17,17,17)\",\"radialaxis\":{\"gridcolor\":\"#506784\",\"linecolor\":\"#506784\",\"ticks\":\"\"}},\"scene\":{\"xaxis\":{\"backgroundcolor\":\"rgb(17,17,17)\",\"gridcolor\":\"#506784\",\"gridwidth\":2,\"linecolor\":\"#506784\",\"showbackground\":true,\"ticks\":\"\",\"zerolinecolor\":\"#C8D4E3\"},\"yaxis\":{\"backgroundcolor\":\"rgb(17,17,17)\",\"gridcolor\":\"#506784\",\"gridwidth\":2,\"linecolor\":\"#506784\",\"showbackground\":true,\"ticks\":\"\",\"zerolinecolor\":\"#C8D4E3\"},\"zaxis\":{\"backgroundcolor\":\"rgb(17,17,17)\",\"gridcolor\":\"#506784\",\"gridwidth\":2,\"linecolor\":\"#506784\",\"showbackground\":true,\"ticks\":\"\",\"zerolinecolor\":\"#C8D4E3\"}},\"shapedefaults\":{\"line\":{\"color\":\"#f2f5fa\"}},\"sliderdefaults\":{\"bgcolor\":\"#C8D4E3\",\"bordercolor\":\"rgb(17,17,17)\",\"borderwidth\":1,\"tickwidth\":0},\"ternary\":{\"aaxis\":{\"gridcolor\":\"#506784\",\"linecolor\":\"#506784\",\"ticks\":\"\"},\"baxis\":{\"gridcolor\":\"#506784\",\"linecolor\":\"#506784\",\"ticks\":\"\"},\"bgcolor\":\"rgb(17,17,17)\",\"caxis\":{\"gridcolor\":\"#506784\",\"linecolor\":\"#506784\",\"ticks\":\"\"}},\"title\":{\"x\":0.05},\"updatemenudefaults\":{\"bgcolor\":\"#506784\",\"borderwidth\":0},\"xaxis\":{\"automargin\":true,\"gridcolor\":\"#283442\",\"linecolor\":\"#506784\",\"ticks\":\"\",\"title\":{\"standoff\":15},\"zerolinecolor\":\"#283442\",\"zerolinewidth\":2},\"yaxis\":{\"automargin\":true,\"gridcolor\":\"#283442\",\"linecolor\":\"#506784\",\"ticks\":\"\",\"title\":{\"standoff\":15},\"zerolinecolor\":\"#283442\",\"zerolinewidth\":2}}},\"font\":{\"size\":12,\"color\":\"White\",\"family\":\"Oswald', sans-serif\"},\"xaxis\":{\"title\":{\"text\":\"<b>Pa\\u00eds</b>\"},\"showgrid\":true},\"yaxis\":{\"title\":{\"text\":\"<b>Indice de Felicidad</b>\"},\"showgrid\":true},\"yaxis2\":{\"showgrid\":true,\"overlaying\":\"y\",\"side\":\"right\",\"title\":{\"text\":\"<b>Indice de Felicidad</b>\"}},\"title\":{\"text\":\"<b>Sudamerica: Indice de Felicidad - Media anual 2006-2021</b>\"}},                        {\"responsive\": true}                    ).then(function(){\n",
       "                            \n",
       "var gd = document.getElementById('e69dd26c-545f-408b-a821-f7495a1972b7');\n",
       "var x = new MutationObserver(function (mutations, observer) {{\n",
       "        var display = window.getComputedStyle(gd).display;\n",
       "        if (!display || display === 'none') {{\n",
       "            console.log([gd, 'removed!']);\n",
       "            Plotly.purge(gd);\n",
       "            observer.disconnect();\n",
       "        }}\n",
       "}});\n",
       "\n",
       "// Listen for the removal of the full notebook cells\n",
       "var notebookContainer = gd.closest('#notebook-container');\n",
       "if (notebookContainer) {{\n",
       "    x.observe(notebookContainer, {childList: true});\n",
       "}}\n",
       "\n",
       "// Listen for the clearing of the current output cell\n",
       "var outputEl = gd.closest('.output');\n",
       "if (outputEl) {{\n",
       "    x.observe(outputEl, {childList: true});\n",
       "}}\n",
       "\n",
       "                        })                };                });            </script>        </div>"
      ]
     },
     "metadata": {},
     "output_type": "display_data"
    }
   ],
   "source": [
    "fig = go.Figure()\n",
    "fig.add_trace(go.Scatter(\n",
    "    x=LAC.groupby(\"Country name\").mean().sort_values(by=\"Life Ladder\").index,\n",
    "    y=LAC.groupby(\"Country name\").mean().sort_values(\n",
    "        by=\"Life Ladder\")[\"Life Ladder\"],\n",
    "    name='Happines Score',\n",
    "    mode='markers+text',\n",
    "    marker_color='red',\n",
    "    marker_size=10,\n",
    "    textposition='top center',\n",
    "    line=dict(color='red', dash='dash'),\n",
    "))\n",
    "fig.update_layout(\n",
    "    title=\"<b>Sudamerica: Indice de Felicidad - Media anual 2006-2021</b>\",\n",
    "    xaxis_title=\"<b>País</b>\",\n",
    "    yaxis_title=\"<b>Indice de Felicidad</b>\",\n",
    "    template='plotly_dark',\n",
    "    font=dict(\n",
    "        size=12,\n",
    "        color=\"White\",\n",
    "        family=\"Oswald', sans-serif\",\n",
    "    ),\n",
    "    xaxis=dict(showgrid=True),\n",
    "    yaxis=dict(showgrid=True),\n",
    "    yaxis2=dict(showgrid=True, overlaying='y', side='right',\n",
    "                title='<b>Indice de Felicidad</b>'),\n",
    ")\n",
    "\n",
    "fig.show()"
   ]
  },
  {
   "cell_type": "code",
   "execution_count": 17,
   "id": "e231b2ed",
   "metadata": {},
   "outputs": [
    {
     "data": {
      "image/png": "[encoded data removed]",
      "text/plain": [
       "<Figure size 1440x576 with 1 Axes>"
      ]
     },
     "metadata": {},
     "output_type": "display_data"
    }
   ],
   "source": [
    "sns.set_style('darkgrid')\n",
    "# plt.style.use(\"seaborn-dark\")\n",
    "ax = sns.relplot(x=LAC.groupby(\"Country name\").mean().sort_values(by=\"Life Ladder\").index, y=LAC.groupby(\"Country name\").mean().sort_values(\n",
    "    by=\"Life Ladder\")[\"Life Ladder\"], marker=\"o\")\n",
    "ax.figure.set_size_inches(20, 8)\n",
    "plt.title('Sudamerica: Indice de Felicidad - Media anual 2006-2021',\n",
    "          fontsize=20, fontweight='bold', pad=15)"
   ]
  },
  {
   "cell_type": "markdown",
   "id": "733d4e51",
   "metadata": {},
   "source": [
    "La media anual del Indice de Felicidad del quindenio pone las cosas claras para cada país. Es así como Brasil es largamente el país más feliz de Sudamerica. El Perú por el contrario, junto a Paraguay, está en la cola. Venezuela lidera el segundo pelotón debido a sus mejores años iniciales, pero cae estrepitosamente entre 2012 y 2016."
   ]
  },
  {
   "cell_type": "code",
   "execution_count": 18,
   "id": "f16ac948",
   "metadata": {},
   "outputs": [
    {
     "data": {
      "image/png": "[encoded data removed]",
      "text/plain": [
       "<Figure size 1440x576 with 1 Axes>"
      ]
     },
     "metadata": {},
     "output_type": "display_data"
    }
   ],
   "source": [
    "plt.figure(figsize=(20, 8))\n",
    "\n",
    "sns.set_style('darkgrid')\n",
    "boxplot = sns.boxplot(x='Life Ladder', y='Country name', data=LAC)\n",
    "boxplot.set(xlabel='', ylabel='')\n",
    "plt.title('Sudamerica: Distribución de la variable \"Indice de Felicidad\" según paises 2006-2021', fontsize=25)\n",
    "plt.xticks(rotation=60, fontsize=17)\n",
    "plt.yticks(fontsize=17)\n",
    "plt.show()"
   ]
  },
  {
   "cell_type": "markdown",
   "id": "184fbeaa",
   "metadata": {},
   "source": [
    "La distribución de los datos anuales del Indice de Felicidad en cada país es un buen termómetro de cuan estable o inestable son esas cifras. Lo que puede deberse a cuan sensibles a otras variables lo son, o a la fluctuación de las variables asociadas. Lo cierto es que Venezuela es nuevamente el caso extremo, el score de Felicidad es muy fluctuante (tamaño de la barra), seguido por Chile, Brasil y Argentina, curiósamente los tres países con mayor felicidad promedio en el periodo. Paises como Paraguay, Perú y Bolivia tienen mas bien cifras de felicidad con menos fluctuación, siendo al mismo tiempo los paises con menor score del quindenio. Podría decirse entonces que los mayores score promedio en la felicidad se da en aquellos paises con mayores variaciones del Indice (excepto Venezuela), en donde además su valor mínimo es mayor que la mediana de Perú y Paraguay."
   ]
  },
  {
   "cell_type": "markdown",
   "id": "10324515",
   "metadata": {},
   "source": [
    "### ***4.5 Dataframe para Perú***"
   ]
  },
  {
   "cell_type": "code",
   "execution_count": 85,
   "id": "4e03b0a3",
   "metadata": {},
   "outputs": [],
   "source": [
    "peru = LAC[LAC[\"Country name\"] == \"Peru\"].reset_index(drop=True)"
   ]
  },
  {
   "cell_type": "code",
   "execution_count": 118,
   "id": "93206ee4",
   "metadata": {},
   "outputs": [
    {
     "data": {
      "text/html": [
       "<style  type=\"text/css\" >\n",
       "#T_14507_row0_col1,#T_14507_row0_col2,#T_14507_row0_col3,#T_14507_row0_col5,#T_14507_row1_col4,#T_14507_row1_col6,#T_14507_row2_col6,#T_14507_row3_col6,#T_14507_row5_col4,#T_14507_row5_col8,#T_14507_row12_col7{\n",
       "            background-color:  #fff7fb;\n",
       "            color:  #000000;\n",
       "        }#T_14507_row0_col4,#T_14507_row1_col8,#T_14507_row4_col7,#T_14507_row10_col6,#T_14507_row12_col6,#T_14507_row13_col2,#T_14507_row13_col3,#T_14507_row13_col5,#T_14507_row14_col1{\n",
       "            background-color:  #023858;\n",
       "            color:  #f1f1f1;\n",
       "        }#T_14507_row0_col6,#T_14507_row1_col3,#T_14507_row2_col5{\n",
       "            background-color:  #e5e1ef;\n",
       "            color:  #000000;\n",
       "        }#T_14507_row0_col7,#T_14507_row5_col2{\n",
       "            background-color:  #03517e;\n",
       "            color:  #f1f1f1;\n",
       "        }#T_14507_row0_col8,#T_14507_row11_col8{\n",
       "            background-color:  #2786bb;\n",
       "            color:  #000000;\n",
       "        }#T_14507_row1_col1,#T_14507_row6_col4{\n",
       "            background-color:  #f5eef6;\n",
       "            color:  #000000;\n",
       "        }#T_14507_row1_col2,#T_14507_row6_col6,#T_14507_row7_col6{\n",
       "            background-color:  #b3c3de;\n",
       "            color:  #000000;\n",
       "        }#T_14507_row1_col5{\n",
       "            background-color:  #f3edf5;\n",
       "            color:  #000000;\n",
       "        }#T_14507_row1_col7{\n",
       "            background-color:  #045f95;\n",
       "            color:  #f1f1f1;\n",
       "        }#T_14507_row2_col1{\n",
       "            background-color:  #eae6f1;\n",
       "            color:  #000000;\n",
       "        }#T_14507_row2_col2,#T_14507_row4_col1{\n",
       "            background-color:  #cacee5;\n",
       "            color:  #000000;\n",
       "        }#T_14507_row2_col3{\n",
       "            background-color:  #b8c6e0;\n",
       "            color:  #000000;\n",
       "        }#T_14507_row2_col4{\n",
       "            background-color:  #e0deed;\n",
       "            color:  #000000;\n",
       "        }#T_14507_row2_col7{\n",
       "            background-color:  #034871;\n",
       "            color:  #f1f1f1;\n",
       "        }#T_14507_row2_col8,#T_14507_row4_col2{\n",
       "            background-color:  #2383ba;\n",
       "            color:  #000000;\n",
       "        }#T_14507_row3_col1{\n",
       "            background-color:  #dbdaeb;\n",
       "            color:  #000000;\n",
       "        }#T_14507_row3_col2,#T_14507_row5_col3{\n",
       "            background-color:  #4496c3;\n",
       "            color:  #000000;\n",
       "        }#T_14507_row3_col3{\n",
       "            background-color:  #b5c4df;\n",
       "            color:  #000000;\n",
       "        }#T_14507_row3_col4{\n",
       "            background-color:  #abbfdc;\n",
       "            color:  #000000;\n",
       "        }#T_14507_row3_col5{\n",
       "            background-color:  #d3d4e7;\n",
       "            color:  #000000;\n",
       "        }#T_14507_row3_col7,#T_14507_row6_col7{\n",
       "            background-color:  #046097;\n",
       "            color:  #f1f1f1;\n",
       "        }#T_14507_row3_col8{\n",
       "            background-color:  #69a5cc;\n",
       "            color:  #000000;\n",
       "        }#T_14507_row4_col3{\n",
       "            background-color:  #7bacd1;\n",
       "            color:  #000000;\n",
       "        }#T_14507_row4_col4{\n",
       "            background-color:  #80aed2;\n",
       "            color:  #000000;\n",
       "        }#T_14507_row4_col5{\n",
       "            background-color:  #bbc7e0;\n",
       "            color:  #000000;\n",
       "        }#T_14507_row4_col6{\n",
       "            background-color:  #3991c1;\n",
       "            color:  #000000;\n",
       "        }#T_14507_row4_col8,#T_14507_row8_col1{\n",
       "            background-color:  #63a2cb;\n",
       "            color:  #000000;\n",
       "        }#T_14507_row5_col1{\n",
       "            background-color:  #b4c4df;\n",
       "            color:  #000000;\n",
       "        }#T_14507_row5_col5,#T_14507_row10_col7{\n",
       "            background-color:  #a7bddb;\n",
       "            color:  #000000;\n",
       "        }#T_14507_row5_col6,#T_14507_row6_col3,#T_14507_row10_col5{\n",
       "            background-color:  #167bb6;\n",
       "            color:  #000000;\n",
       "        }#T_14507_row5_col7,#T_14507_row7_col1,#T_14507_row13_col8{\n",
       "            background-color:  #81aed2;\n",
       "            color:  #000000;\n",
       "        }#T_14507_row6_col1,#T_14507_row6_col8{\n",
       "            background-color:  #9cb9d9;\n",
       "            color:  #000000;\n",
       "        }#T_14507_row6_col2,#T_14507_row9_col6{\n",
       "            background-color:  #045e93;\n",
       "            color:  #f1f1f1;\n",
       "        }#T_14507_row6_col5,#T_14507_row7_col8{\n",
       "            background-color:  #8fb4d6;\n",
       "            color:  #000000;\n",
       "        }#T_14507_row7_col2{\n",
       "            background-color:  #04649d;\n",
       "            color:  #f1f1f1;\n",
       "        }#T_14507_row7_col3{\n",
       "            background-color:  #0566a0;\n",
       "            color:  #f1f1f1;\n",
       "        }#T_14507_row7_col4{\n",
       "            background-color:  #b0c2de;\n",
       "            color:  #000000;\n",
       "        }#T_14507_row7_col5{\n",
       "            background-color:  #78abd0;\n",
       "            color:  #000000;\n",
       "        }#T_14507_row7_col7{\n",
       "            background-color:  #03466e;\n",
       "            color:  #f1f1f1;\n",
       "        }#T_14507_row8_col2{\n",
       "            background-color:  #045687;\n",
       "            color:  #f1f1f1;\n",
       "        }#T_14507_row8_col3{\n",
       "            background-color:  #046198;\n",
       "            color:  #f1f1f1;\n",
       "        }#T_14507_row8_col4{\n",
       "            background-color:  #65a3cb;\n",
       "            color:  #000000;\n",
       "        }#T_14507_row8_col5{\n",
       "            background-color:  #5c9fc9;\n",
       "            color:  #000000;\n",
       "        }#T_14507_row8_col6{\n",
       "            background-color:  #8eb3d5;\n",
       "            color:  #000000;\n",
       "        }#T_14507_row8_col7{\n",
       "            background-color:  #acc0dd;\n",
       "            color:  #000000;\n",
       "        }#T_14507_row8_col8{\n",
       "            background-color:  #71a8ce;\n",
       "            color:  #000000;\n",
       "        }#T_14507_row9_col1{\n",
       "            background-color:  #4295c3;\n",
       "            color:  #000000;\n",
       "        }#T_14507_row9_col2{\n",
       "            background-color:  #2d8abd;\n",
       "            color:  #000000;\n",
       "        }#T_14507_row9_col3{\n",
       "            background-color:  #045a8d;\n",
       "            color:  #f1f1f1;\n",
       "        }#T_14507_row9_col4{\n",
       "            background-color:  #adc1dd;\n",
       "            color:  #000000;\n",
       "        }#T_14507_row9_col5{\n",
       "            background-color:  #3f93c2;\n",
       "            color:  #000000;\n",
       "        }#T_14507_row9_col7{\n",
       "            background-color:  #0771b1;\n",
       "            color:  #f1f1f1;\n",
       "        }#T_14507_row9_col8{\n",
       "            background-color:  #569dc8;\n",
       "            color:  #000000;\n",
       "        }#T_14507_row10_col1{\n",
       "            background-color:  #2685bb;\n",
       "            color:  #000000;\n",
       "        }#T_14507_row10_col2,#T_14507_row12_col4{\n",
       "            background-color:  #0570b0;\n",
       "            color:  #f1f1f1;\n",
       "        }#T_14507_row10_col3{\n",
       "            background-color:  #034b76;\n",
       "            color:  #f1f1f1;\n",
       "        }#T_14507_row10_col4{\n",
       "            background-color:  #9ebad9;\n",
       "            color:  #000000;\n",
       "        }#T_14507_row10_col8{\n",
       "            background-color:  #9fbad9;\n",
       "            color:  #000000;\n",
       "        }#T_14507_row11_col1,#T_14507_row12_col2{\n",
       "            background-color:  #0c74b2;\n",
       "            color:  #f1f1f1;\n",
       "        }#T_14507_row11_col2{\n",
       "            background-color:  #056fae;\n",
       "            color:  #f1f1f1;\n",
       "        }#T_14507_row11_col3{\n",
       "            background-color:  #03476f;\n",
       "            color:  #f1f1f1;\n",
       "        }#T_14507_row11_col4{\n",
       "            background-color:  #3790c0;\n",
       "            color:  #000000;\n",
       "        }#T_14507_row11_col5{\n",
       "            background-color:  #0567a1;\n",
       "            color:  #f1f1f1;\n",
       "        }#T_14507_row11_col6{\n",
       "            background-color:  #023b5d;\n",
       "            color:  #f1f1f1;\n",
       "        }#T_14507_row11_col7,#T_14507_row14_col7{\n",
       "            background-color:  #dad9ea;\n",
       "            color:  #000000;\n",
       "        }#T_14507_row12_col1{\n",
       "            background-color:  #0567a2;\n",
       "            color:  #f1f1f1;\n",
       "        }#T_14507_row12_col3{\n",
       "            background-color:  #023a5b;\n",
       "            color:  #f1f1f1;\n",
       "        }#T_14507_row12_col5{\n",
       "            background-color:  #045382;\n",
       "            color:  #f1f1f1;\n",
       "        }#T_14507_row12_col8{\n",
       "            background-color:  #056dab;\n",
       "            color:  #f1f1f1;\n",
       "        }#T_14507_row13_col1,#T_14507_row14_col2{\n",
       "            background-color:  #045b8f;\n",
       "            color:  #f1f1f1;\n",
       "        }#T_14507_row13_col4{\n",
       "            background-color:  #89b1d4;\n",
       "            color:  #000000;\n",
       "        }#T_14507_row13_col6{\n",
       "            background-color:  #034d79;\n",
       "            color:  #f1f1f1;\n",
       "        }#T_14507_row13_col7{\n",
       "            background-color:  #99b8d8;\n",
       "            color:  #000000;\n",
       "        }#T_14507_row14_col3{\n",
       "            background-color:  #02395a;\n",
       "            color:  #f1f1f1;\n",
       "        }#T_14507_row14_col4{\n",
       "            background-color:  #308cbe;\n",
       "            color:  #000000;\n",
       "        }#T_14507_row14_col5{\n",
       "            background-color:  #03456c;\n",
       "            color:  #f1f1f1;\n",
       "        }#T_14507_row14_col6{\n",
       "            background-color:  #034369;\n",
       "            color:  #f1f1f1;\n",
       "        }#T_14507_row14_col8{\n",
       "            background-color:  #358fc0;\n",
       "            color:  #000000;\n",
       "        }</style><table id=\"T_14507_\" ><thead>    <tr>        <th class=\"blank level0\" ></th>        <th class=\"col_heading level0 col0\" >Country name</th>        <th class=\"col_heading level0 col1\" >year</th>        <th class=\"col_heading level0 col2\" >Life Ladder</th>        <th class=\"col_heading level0 col3\" >Log GDP per capita</th>        <th class=\"col_heading level0 col4\" >Social support</th>        <th class=\"col_heading level0 col5\" >Healthy life expectancy at birth</th>        <th class=\"col_heading level0 col6\" >Freedom to make life choices</th>        <th class=\"col_heading level0 col7\" >Generosity</th>        <th class=\"col_heading level0 col8\" >Perceptions of corruption</th>        <th class=\"col_heading level0 col9\" >Regional indicator</th>    </tr></thead><tbody>\n",
       "                <tr>\n",
       "                        <th id=\"T_14507_level0_row0\" class=\"row_heading level0 row0\" >0</th>\n",
       "                        <td id=\"T_14507_row0_col0\" class=\"data row0 col0\" >Peru</td>\n",
       "                        <td id=\"T_14507_row0_col1\" class=\"data row0 col1\" >2006</td>\n",
       "                        <td id=\"T_14507_row0_col2\" class=\"data row0 col2\" >4.811000</td>\n",
       "                        <td id=\"T_14507_row0_col3\" class=\"data row0 col3\" >8.989000</td>\n",
       "                        <td id=\"T_14507_row0_col4\" class=\"data row0 col4\" >0.875000</td>\n",
       "                        <td id=\"T_14507_row0_col5\" class=\"data row0 col5\" >65.340000</td>\n",
       "                        <td id=\"T_14507_row0_col6\" class=\"data row0 col6\" >0.668000</td>\n",
       "                        <td id=\"T_14507_row0_col7\" class=\"data row0 col7\" >-0.071000</td>\n",
       "                        <td id=\"T_14507_row0_col8\" class=\"data row0 col8\" >0.895000</td>\n",
       "                        <td id=\"T_14507_row0_col9\" class=\"data row0 col9\" >Latin America and Caribbean</td>\n",
       "            </tr>\n",
       "            <tr>\n",
       "                        <th id=\"T_14507_level0_row1\" class=\"row_heading level0 row1\" >1</th>\n",
       "                        <td id=\"T_14507_row1_col0\" class=\"data row1 col0\" >Peru</td>\n",
       "                        <td id=\"T_14507_row1_col1\" class=\"data row1 col1\" >2007</td>\n",
       "                        <td id=\"T_14507_row1_col2\" class=\"data row1 col2\" >5.214000</td>\n",
       "                        <td id=\"T_14507_row1_col3\" class=\"data row1 col3\" >9.063000</td>\n",
       "                        <td id=\"T_14507_row1_col4\" class=\"data row1 col4\" >0.756000</td>\n",
       "                        <td id=\"T_14507_row1_col5\" class=\"data row1 col5\" >65.580000</td>\n",
       "                        <td id=\"T_14507_row1_col6\" class=\"data row1 col6\" >0.638000</td>\n",
       "                        <td id=\"T_14507_row1_col7\" class=\"data row1 col7\" >-0.078000</td>\n",
       "                        <td id=\"T_14507_row1_col8\" class=\"data row1 col8\" >0.931000</td>\n",
       "                        <td id=\"T_14507_row1_col9\" class=\"data row1 col9\" >Latin America and Caribbean</td>\n",
       "            </tr>\n",
       "            <tr>\n",
       "                        <th id=\"T_14507_level0_row2\" class=\"row_heading level0 row2\" >2</th>\n",
       "                        <td id=\"T_14507_row2_col0\" class=\"data row2 col0\" >Peru</td>\n",
       "                        <td id=\"T_14507_row2_col1\" class=\"data row2 col1\" >2008</td>\n",
       "                        <td id=\"T_14507_row2_col2\" class=\"data row2 col2\" >5.129000</td>\n",
       "                        <td id=\"T_14507_row2_col3\" class=\"data row2 col3\" >9.142000</td>\n",
       "                        <td id=\"T_14507_row2_col4\" class=\"data row2 col4\" >0.777000</td>\n",
       "                        <td id=\"T_14507_row2_col5\" class=\"data row2 col5\" >65.820000</td>\n",
       "                        <td id=\"T_14507_row2_col6\" class=\"data row2 col6\" >0.638000</td>\n",
       "                        <td id=\"T_14507_row2_col7\" class=\"data row2 col7\" >-0.067000</td>\n",
       "                        <td id=\"T_14507_row2_col8\" class=\"data row2 col8\" >0.896000</td>\n",
       "                        <td id=\"T_14507_row2_col9\" class=\"data row2 col9\" >Latin America and Caribbean</td>\n",
       "            </tr>\n",
       "            <tr>\n",
       "                        <th id=\"T_14507_level0_row3\" class=\"row_heading level0 row3\" >3</th>\n",
       "                        <td id=\"T_14507_row3_col0\" class=\"data row3 col0\" >Peru</td>\n",
       "                        <td id=\"T_14507_row3_col1\" class=\"data row3 col1\" >2009</td>\n",
       "                        <td id=\"T_14507_row3_col2\" class=\"data row3 col2\" >5.519000</td>\n",
       "                        <td id=\"T_14507_row3_col3\" class=\"data row3 col3\" >9.145000</td>\n",
       "                        <td id=\"T_14507_row3_col4\" class=\"data row3 col4\" >0.799000</td>\n",
       "                        <td id=\"T_14507_row3_col5\" class=\"data row3 col5\" >66.060000</td>\n",
       "                        <td id=\"T_14507_row3_col6\" class=\"data row3 col6\" >0.638000</td>\n",
       "                        <td id=\"T_14507_row3_col7\" class=\"data row3 col7\" >-0.079000</td>\n",
       "                        <td id=\"T_14507_row3_col8\" class=\"data row3 col8\" >0.880000</td>\n",
       "                        <td id=\"T_14507_row3_col9\" class=\"data row3 col9\" >Latin America and Caribbean</td>\n",
       "            </tr>\n",
       "            <tr>\n",
       "                        <th id=\"T_14507_level0_row4\" class=\"row_heading level0 row4\" >4</th>\n",
       "                        <td id=\"T_14507_row4_col0\" class=\"data row4 col0\" >Peru</td>\n",
       "                        <td id=\"T_14507_row4_col1\" class=\"data row4 col1\" >2010</td>\n",
       "                        <td id=\"T_14507_row4_col2\" class=\"data row4 col2\" >5.613000</td>\n",
       "                        <td id=\"T_14507_row4_col3\" class=\"data row4 col3\" >9.217000</td>\n",
       "                        <td id=\"T_14507_row4_col4\" class=\"data row4 col4\" >0.812000</td>\n",
       "                        <td id=\"T_14507_row4_col5\" class=\"data row4 col5\" >66.300000</td>\n",
       "                        <td id=\"T_14507_row4_col6\" class=\"data row4 col6\" >0.757000</td>\n",
       "                        <td id=\"T_14507_row4_col7\" class=\"data row4 col7\" >-0.060000</td>\n",
       "                        <td id=\"T_14507_row4_col8\" class=\"data row4 col8\" >0.881000</td>\n",
       "                        <td id=\"T_14507_row4_col9\" class=\"data row4 col9\" >Latin America and Caribbean</td>\n",
       "            </tr>\n",
       "            <tr>\n",
       "                        <th id=\"T_14507_level0_row5\" class=\"row_heading level0 row5\" >5</th>\n",
       "                        <td id=\"T_14507_row5_col0\" class=\"data row5 col0\" >Peru</td>\n",
       "                        <td id=\"T_14507_row5_col1\" class=\"data row5 col1\" >2011</td>\n",
       "                        <td id=\"T_14507_row5_col2\" class=\"data row5 col2\" >5.892000</td>\n",
       "                        <td id=\"T_14507_row5_col3\" class=\"data row5 col3\" >9.270000</td>\n",
       "                        <td id=\"T_14507_row5_col4\" class=\"data row5 col4\" >0.756000</td>\n",
       "                        <td id=\"T_14507_row5_col5\" class=\"data row5 col5\" >66.480000</td>\n",
       "                        <td id=\"T_14507_row5_col6\" class=\"data row5 col6\" >0.773000</td>\n",
       "                        <td id=\"T_14507_row5_col7\" class=\"data row5 col7\" >-0.123000</td>\n",
       "                        <td id=\"T_14507_row5_col8\" class=\"data row5 col8\" >0.824000</td>\n",
       "                        <td id=\"T_14507_row5_col9\" class=\"data row5 col9\" >Latin America and Caribbean</td>\n",
       "            </tr>\n",
       "            <tr>\n",
       "                        <th id=\"T_14507_level0_row6\" class=\"row_heading level0 row6\" >6</th>\n",
       "                        <td id=\"T_14507_row6_col0\" class=\"data row6 col0\" >Peru</td>\n",
       "                        <td id=\"T_14507_row6_col1\" class=\"data row6 col1\" >2012</td>\n",
       "                        <td id=\"T_14507_row6_col2\" class=\"data row6 col2\" >5.825000</td>\n",
       "                        <td id=\"T_14507_row6_col3\" class=\"data row6 col3\" >9.322000</td>\n",
       "                        <td id=\"T_14507_row6_col4\" class=\"data row6 col4\" >0.764000</td>\n",
       "                        <td id=\"T_14507_row6_col5\" class=\"data row6 col5\" >66.660000</td>\n",
       "                        <td id=\"T_14507_row6_col6\" class=\"data row6 col6\" >0.703000</td>\n",
       "                        <td id=\"T_14507_row6_col7\" class=\"data row6 col7\" >-0.079000</td>\n",
       "                        <td id=\"T_14507_row6_col8\" class=\"data row6 col8\" >0.867000</td>\n",
       "                        <td id=\"T_14507_row6_col9\" class=\"data row6 col9\" >Latin America and Caribbean</td>\n",
       "            </tr>\n",
       "            <tr>\n",
       "                        <th id=\"T_14507_level0_row7\" class=\"row_heading level0 row7\" >7</th>\n",
       "                        <td id=\"T_14507_row7_col0\" class=\"data row7 col0\" >Peru</td>\n",
       "                        <td id=\"T_14507_row7_col1\" class=\"data row7 col1\" >2013</td>\n",
       "                        <td id=\"T_14507_row7_col2\" class=\"data row7 col2\" >5.783000</td>\n",
       "                        <td id=\"T_14507_row7_col3\" class=\"data row7 col3\" >9.369000</td>\n",
       "                        <td id=\"T_14507_row7_col4\" class=\"data row7 col4\" >0.797000</td>\n",
       "                        <td id=\"T_14507_row7_col5\" class=\"data row7 col5\" >66.840000</td>\n",
       "                        <td id=\"T_14507_row7_col6\" class=\"data row7 col6\" >0.703000</td>\n",
       "                        <td id=\"T_14507_row7_col7\" class=\"data row7 col7\" >-0.066000</td>\n",
       "                        <td id=\"T_14507_row7_col8\" class=\"data row7 col8\" >0.870000</td>\n",
       "                        <td id=\"T_14507_row7_col9\" class=\"data row7 col9\" >Latin America and Caribbean</td>\n",
       "            </tr>\n",
       "            <tr>\n",
       "                        <th id=\"T_14507_level0_row8\" class=\"row_heading level0 row8\" >8</th>\n",
       "                        <td id=\"T_14507_row8_col0\" class=\"data row8 col0\" >Peru</td>\n",
       "                        <td id=\"T_14507_row8_col1\" class=\"data row8 col1\" >2014</td>\n",
       "                        <td id=\"T_14507_row8_col2\" class=\"data row8 col2\" >5.866000</td>\n",
       "                        <td id=\"T_14507_row8_col3\" class=\"data row8 col3\" >9.382000</td>\n",
       "                        <td id=\"T_14507_row8_col4\" class=\"data row8 col4\" >0.819000</td>\n",
       "                        <td id=\"T_14507_row8_col5\" class=\"data row8 col5\" >67.020000</td>\n",
       "                        <td id=\"T_14507_row8_col6\" class=\"data row8 col6\" >0.722000</td>\n",
       "                        <td id=\"T_14507_row8_col7\" class=\"data row8 col7\" >-0.136000</td>\n",
       "                        <td id=\"T_14507_row8_col8\" class=\"data row8 col8\" >0.878000</td>\n",
       "                        <td id=\"T_14507_row8_col9\" class=\"data row8 col9\" >Latin America and Caribbean</td>\n",
       "            </tr>\n",
       "            <tr>\n",
       "                        <th id=\"T_14507_level0_row9\" class=\"row_heading level0 row9\" >9</th>\n",
       "                        <td id=\"T_14507_row9_col0\" class=\"data row9 col0\" >Peru</td>\n",
       "                        <td id=\"T_14507_row9_col1\" class=\"data row9 col1\" >2015</td>\n",
       "                        <td id=\"T_14507_row9_col2\" class=\"data row9 col2\" >5.577000</td>\n",
       "                        <td id=\"T_14507_row9_col3\" class=\"data row9 col3\" >9.402000</td>\n",
       "                        <td id=\"T_14507_row9_col4\" class=\"data row9 col4\" >0.798000</td>\n",
       "                        <td id=\"T_14507_row9_col5\" class=\"data row9 col5\" >67.200000</td>\n",
       "                        <td id=\"T_14507_row9_col6\" class=\"data row9 col6\" >0.802000</td>\n",
       "                        <td id=\"T_14507_row9_col7\" class=\"data row9 col7\" >-0.090000</td>\n",
       "                        <td id=\"T_14507_row9_col8\" class=\"data row9 col8\" >0.884000</td>\n",
       "                        <td id=\"T_14507_row9_col9\" class=\"data row9 col9\" >Latin America and Caribbean</td>\n",
       "            </tr>\n",
       "            <tr>\n",
       "                        <th id=\"T_14507_level0_row10\" class=\"row_heading level0 row10\" >10</th>\n",
       "                        <td id=\"T_14507_row10_col0\" class=\"data row10 col0\" >Peru</td>\n",
       "                        <td id=\"T_14507_row10_col1\" class=\"data row10 col1\" >2016</td>\n",
       "                        <td id=\"T_14507_row10_col2\" class=\"data row10 col2\" >5.701000</td>\n",
       "                        <td id=\"T_14507_row10_col3\" class=\"data row10 col3\" >9.426000</td>\n",
       "                        <td id=\"T_14507_row10_col4\" class=\"data row10 col4\" >0.803000</td>\n",
       "                        <td id=\"T_14507_row10_col5\" class=\"data row10 col5\" >67.500000</td>\n",
       "                        <td id=\"T_14507_row10_col6\" class=\"data row10 col6\" >0.830000</td>\n",
       "                        <td id=\"T_14507_row10_col7\" class=\"data row10 col7\" >-0.134000</td>\n",
       "                        <td id=\"T_14507_row10_col8\" class=\"data row10 col8\" >0.866000</td>\n",
       "                        <td id=\"T_14507_row10_col9\" class=\"data row10 col9\" >Latin America and Caribbean</td>\n",
       "            </tr>\n",
       "            <tr>\n",
       "                        <th id=\"T_14507_level0_row11\" class=\"row_heading level0 row11\" >11</th>\n",
       "                        <td id=\"T_14507_row11_col0\" class=\"data row11 col0\" >Peru</td>\n",
       "                        <td id=\"T_14507_row11_col1\" class=\"data row11 col1\" >2017</td>\n",
       "                        <td id=\"T_14507_row11_col2\" class=\"data row11 col2\" >5.711000</td>\n",
       "                        <td id=\"T_14507_row11_col3\" class=\"data row11 col3\" >9.434000</td>\n",
       "                        <td id=\"T_14507_row11_col4\" class=\"data row11 col4\" >0.830000</td>\n",
       "                        <td id=\"T_14507_row11_col5\" class=\"data row11 col5\" >67.800000</td>\n",
       "                        <td id=\"T_14507_row11_col6\" class=\"data row11 col6\" >0.827000</td>\n",
       "                        <td id=\"T_14507_row11_col7\" class=\"data row11 col7\" >-0.154000</td>\n",
       "                        <td id=\"T_14507_row11_col8\" class=\"data row11 col8\" >0.895000</td>\n",
       "                        <td id=\"T_14507_row11_col9\" class=\"data row11 col9\" >Latin America and Caribbean</td>\n",
       "            </tr>\n",
       "            <tr>\n",
       "                        <th id=\"T_14507_level0_row12\" class=\"row_heading level0 row12\" >12</th>\n",
       "                        <td id=\"T_14507_row12_col0\" class=\"data row12 col0\" >Peru</td>\n",
       "                        <td id=\"T_14507_row12_col1\" class=\"data row12 col1\" >2018</td>\n",
       "                        <td id=\"T_14507_row12_col2\" class=\"data row12 col2\" >5.680000</td>\n",
       "                        <td id=\"T_14507_row12_col3\" class=\"data row12 col3\" >9.456000</td>\n",
       "                        <td id=\"T_14507_row12_col4\" class=\"data row12 col4\" >0.845000</td>\n",
       "                        <td id=\"T_14507_row12_col5\" class=\"data row12 col5\" >68.100000</td>\n",
       "                        <td id=\"T_14507_row12_col6\" class=\"data row12 col6\" >0.830000</td>\n",
       "                        <td id=\"T_14507_row12_col7\" class=\"data row12 col7\" >-0.178000</td>\n",
       "                        <td id=\"T_14507_row12_col8\" class=\"data row12 col8\" >0.906000</td>\n",
       "                        <td id=\"T_14507_row12_col9\" class=\"data row12 col9\" >Latin America and Caribbean</td>\n",
       "            </tr>\n",
       "            <tr>\n",
       "                        <th id=\"T_14507_level0_row13\" class=\"row_heading level0 row13\" >13</th>\n",
       "                        <td id=\"T_14507_row13_col0\" class=\"data row13 col0\" >Peru</td>\n",
       "                        <td id=\"T_14507_row13_col1\" class=\"data row13 col1\" >2019</td>\n",
       "                        <td id=\"T_14507_row13_col2\" class=\"data row13 col2\" >5.999000</td>\n",
       "                        <td id=\"T_14507_row13_col3\" class=\"data row13 col3\" >9.461000</td>\n",
       "                        <td id=\"T_14507_row13_col4\" class=\"data row13 col4\" >0.809000</td>\n",
       "                        <td id=\"T_14507_row13_col5\" class=\"data row13 col5\" >68.400000</td>\n",
       "                        <td id=\"T_14507_row13_col6\" class=\"data row13 col6\" >0.815000</td>\n",
       "                        <td id=\"T_14507_row13_col7\" class=\"data row13 col7\" >-0.130000</td>\n",
       "                        <td id=\"T_14507_row13_col8\" class=\"data row13 col8\" >0.874000</td>\n",
       "                        <td id=\"T_14507_row13_col9\" class=\"data row13 col9\" >Latin America and Caribbean</td>\n",
       "            </tr>\n",
       "            <tr>\n",
       "                        <th id=\"T_14507_level0_row14\" class=\"row_heading level0 row14\" >14</th>\n",
       "                        <td id=\"T_14507_row14_col0\" class=\"data row14 col0\" >Peru</td>\n",
       "                        <td id=\"T_14507_row14_col1\" class=\"data row14 col1\" >2021</td>\n",
       "                        <td id=\"T_14507_row14_col2\" class=\"data row14 col2\" >5.840000</td>\n",
       "                        <td id=\"T_14507_row14_col3\" class=\"data row14 col3\" >9.458000</td>\n",
       "                        <td id=\"T_14507_row14_col4\" class=\"data row14 col4\" >0.832000</td>\n",
       "                        <td id=\"T_14507_row14_col5\" class=\"data row14 col5\" >68.250000</td>\n",
       "                        <td id=\"T_14507_row14_col6\" class=\"data row14 col6\" >0.822000</td>\n",
       "                        <td id=\"T_14507_row14_col7\" class=\"data row14 col7\" >-0.154000</td>\n",
       "                        <td id=\"T_14507_row14_col8\" class=\"data row14 col8\" >0.891000</td>\n",
       "                        <td id=\"T_14507_row14_col9\" class=\"data row14 col9\" >Latin America and Caribbean</td>\n",
       "            </tr>\n",
       "    </tbody></table>"
      ],
      "text/plain": [
       "<pandas.io.formats.style.Styler at 0x206fc574550>"
      ]
     },
     "execution_count": 118,
     "metadata": {},
     "output_type": "execute_result"
    }
   ],
   "source": [
    "peru.style.background_gradient()"
   ]
  },
  {
   "cell_type": "markdown",
   "id": "032347cf",
   "metadata": {},
   "source": [
    "####  Cálculos y gráficos de interés"
   ]
  },
  {
   "cell_type": "code",
   "execution_count": 87,
   "id": "ce5aba73",
   "metadata": {},
   "outputs": [
    {
     "data": {
      "text/plain": [
       "Text(0.5, 1.0, 'Perú: Matriz de correlaciones. Indice de Felicidad 2006-2021')"
      ]
     },
     "execution_count": 87,
     "metadata": {},
     "output_type": "execute_result"
    },
    {
     "data": {
      "image/png": "[encoded data removed]",
      "text/plain": [
       "<Figure size 1296x360 with 2 Axes>"
      ]
     },
     "metadata": {},
     "output_type": "display_data"
    }
   ],
   "source": [
    "sns.set_style('darkgrid')\n",
    "plt.figure(figsize=(18, 5))\n",
    "sns.heatmap(peru.corr(), annot=True, cmap='RdYlGn_r',\n",
    "            mask=np.triu(np.ones_like(peru.corr())))\n",
    "plt.title('Perú: Matriz de correlaciones. Indice de Felicidad 2006-2021',\n",
    "          fontsize=20, fontweight='bold', pad=15)"
   ]
  },
  {
   "cell_type": "markdown",
   "id": "2d2bbec4",
   "metadata": {},
   "source": [
    "La matriz de correlaciones es un instrumento valioso para conocer que tan relacionadas están las variables asociadas (supuestamente explicativas) al Indice de Felicidad. Y lo que se tiene es que en el Perú el PBI percapita es la que tiene la mas alta correlación con la felicidad(0.83). ¿El dinero hace feliz a la gente?, al parecer sí. No obstante, es importante señalar que el PBI percápita no se distribuye de manera equitativa a toda la población, por lo que los felices no son todos. En segundo lugar, las expectativas de vida saludable tiene también una alta correlación con la felicidad (0.75), seguido un tamnto lejos por la Libertad de tomar decisones de vida (0.62). La Generosidad con -0.52 (signo contraio al esperado) pareciera indicar que en el Perú ser generosos nos hace \"infelices\".  El apoyo social con -0.2, tambien con signo contrario al esperado, indica que o es una variable irrelevante con especto a la felicidad, o el recibir ayuda nos hace infelices, algo que tendrían que evaluar nuestras autoridades con repecto a sus políticas sociales (¿Las tenenos?). Finalmente, es relevante que la percepción de corrupción tenga -0.55 de correlación con el Indice de Felicidad, ya que muestra la importancia de combatir ese flagelo en todas sus instancias a fin de tener un país más llevadero."
   ]
  },
  {
   "cell_type": "code",
   "execution_count": 97,
   "id": "bdc0b405",
   "metadata": {},
   "outputs": [
    {
     "data": {
      "image/png": "[encoded data removed]",
      "text/plain": [
       "<Figure size 720x432 with 1 Axes>"
      ]
     },
     "metadata": {},
     "output_type": "display_data"
    }
   ],
   "source": [
    "plt.figure(figsize=(10, 6))\n",
    "list_features = [\"Social support\", \"Freedom to make life choices\", \"Generosity\", \"Perceptions of corruption\"]\n",
    "sns.boxplot(data = peru.loc[:, list_features], orient = \"h\", palette = \"Set3\")\n",
    "plt.show()"
   ]
  },
  {
   "cell_type": "markdown",
   "id": "5e52990a",
   "metadata": {},
   "source": [
    "El gráfico anterior es una manera de ver que en el Perú hay mas consenso en cuanto a las percepciones de corrupción que a la libertad de tomar decisiones de vida, lo que podría ayudar a focalizar políticas."
   ]
  },
  {
   "cell_type": "code",
   "execution_count": 22,
   "id": "e5c63432",
   "metadata": {},
   "outputs": [
    {
     "data": {
      "text/html": [
       "<div>\n",
       "<style scoped>\n",
       "    .dataframe tbody tr th:only-of-type {\n",
       "        vertical-align: middle;\n",
       "    }\n",
       "\n",
       "    .dataframe tbody tr th {\n",
       "        vertical-align: top;\n",
       "    }\n",
       "\n",
       "    .dataframe thead th {\n",
       "        text-align: right;\n",
       "    }\n",
       "</style>\n",
       "<table border=\"1\" class=\"dataframe\">\n",
       "  <thead>\n",
       "    <tr style=\"text-align: right;\">\n",
       "      <th></th>\n",
       "      <th>year</th>\n",
       "      <th>Life Ladder</th>\n",
       "      <th>Log GDP per capita</th>\n",
       "      <th>Social support</th>\n",
       "      <th>Healthy life expectancy at birth</th>\n",
       "      <th>Freedom to make life choices</th>\n",
       "      <th>Generosity</th>\n",
       "      <th>Perceptions of corruption</th>\n",
       "    </tr>\n",
       "  </thead>\n",
       "  <tbody>\n",
       "    <tr>\n",
       "      <th>count</th>\n",
       "      <td>15.000000</td>\n",
       "      <td>15.000000</td>\n",
       "      <td>15.000000</td>\n",
       "      <td>15.000000</td>\n",
       "      <td>15.000000</td>\n",
       "      <td>15.000000</td>\n",
       "      <td>15.000000</td>\n",
       "      <td>15.000000</td>\n",
       "    </tr>\n",
       "    <tr>\n",
       "      <th>mean</th>\n",
       "      <td>2013.066667</td>\n",
       "      <td>5.610667</td>\n",
       "      <td>9.302400</td>\n",
       "      <td>0.804800</td>\n",
       "      <td>66.890000</td>\n",
       "      <td>0.744400</td>\n",
       "      <td>-0.106600</td>\n",
       "      <td>0.882533</td>\n",
       "    </tr>\n",
       "    <tr>\n",
       "      <th>std</th>\n",
       "      <td>4.589844</td>\n",
       "      <td>0.325661</td>\n",
       "      <td>0.156069</td>\n",
       "      <td>0.033311</td>\n",
       "      <td>0.979468</td>\n",
       "      <td>0.075832</td>\n",
       "      <td>0.039001</td>\n",
       "      <td>0.023400</td>\n",
       "    </tr>\n",
       "    <tr>\n",
       "      <th>min</th>\n",
       "      <td>2006.000000</td>\n",
       "      <td>4.811000</td>\n",
       "      <td>8.989000</td>\n",
       "      <td>0.756000</td>\n",
       "      <td>65.340000</td>\n",
       "      <td>0.638000</td>\n",
       "      <td>-0.178000</td>\n",
       "      <td>0.824000</td>\n",
       "    </tr>\n",
       "    <tr>\n",
       "      <th>25%</th>\n",
       "      <td>2009.500000</td>\n",
       "      <td>5.548000</td>\n",
       "      <td>9.181000</td>\n",
       "      <td>0.787000</td>\n",
       "      <td>66.180000</td>\n",
       "      <td>0.685500</td>\n",
       "      <td>-0.135000</td>\n",
       "      <td>0.872000</td>\n",
       "    </tr>\n",
       "    <tr>\n",
       "      <th>50%</th>\n",
       "      <td>2013.000000</td>\n",
       "      <td>5.701000</td>\n",
       "      <td>9.369000</td>\n",
       "      <td>0.803000</td>\n",
       "      <td>66.840000</td>\n",
       "      <td>0.757000</td>\n",
       "      <td>-0.090000</td>\n",
       "      <td>0.881000</td>\n",
       "    </tr>\n",
       "    <tr>\n",
       "      <th>75%</th>\n",
       "      <td>2016.500000</td>\n",
       "      <td>5.832500</td>\n",
       "      <td>9.430000</td>\n",
       "      <td>0.824500</td>\n",
       "      <td>67.650000</td>\n",
       "      <td>0.818500</td>\n",
       "      <td>-0.074500</td>\n",
       "      <td>0.895000</td>\n",
       "    </tr>\n",
       "    <tr>\n",
       "      <th>max</th>\n",
       "      <td>2021.000000</td>\n",
       "      <td>5.999000</td>\n",
       "      <td>9.461000</td>\n",
       "      <td>0.875000</td>\n",
       "      <td>68.400000</td>\n",
       "      <td>0.830000</td>\n",
       "      <td>-0.060000</td>\n",
       "      <td>0.931000</td>\n",
       "    </tr>\n",
       "  </tbody>\n",
       "</table>\n",
       "</div>"
      ],
      "text/plain": [
       "              year  Life Ladder  Log GDP per capita  Social support  \\\n",
       "count    15.000000    15.000000           15.000000       15.000000   \n",
       "mean   2013.066667     5.610667            9.302400        0.804800   \n",
       "std       4.589844     0.325661            0.156069        0.033311   \n",
       "min    2006.000000     4.811000            8.989000        0.756000   \n",
       "25%    2009.500000     5.548000            9.181000        0.787000   \n",
       "50%    2013.000000     5.701000            9.369000        0.803000   \n",
       "75%    2016.500000     5.832500            9.430000        0.824500   \n",
       "max    2021.000000     5.999000            9.461000        0.875000   \n",
       "\n",
       "       Healthy life expectancy at birth  Freedom to make life choices  \\\n",
       "count                         15.000000                     15.000000   \n",
       "mean                          66.890000                      0.744400   \n",
       "std                            0.979468                      0.075832   \n",
       "min                           65.340000                      0.638000   \n",
       "25%                           66.180000                      0.685500   \n",
       "50%                           66.840000                      0.757000   \n",
       "75%                           67.650000                      0.818500   \n",
       "max                           68.400000                      0.830000   \n",
       "\n",
       "       Generosity  Perceptions of corruption  \n",
       "count   15.000000                  15.000000  \n",
       "mean    -0.106600                   0.882533  \n",
       "std      0.039001                   0.023400  \n",
       "min     -0.178000                   0.824000  \n",
       "25%     -0.135000                   0.872000  \n",
       "50%     -0.090000                   0.881000  \n",
       "75%     -0.074500                   0.895000  \n",
       "max     -0.060000                   0.931000  "
      ]
     },
     "execution_count": 22,
     "metadata": {},
     "output_type": "execute_result"
    }
   ],
   "source": [
    "peru.describe()"
   ]
  },
  {
   "cell_type": "code",
   "execution_count": null,
   "id": "a8e86e4f",
   "metadata": {},
   "outputs": [],
   "source": [
    "plt.figure(figsize=(20, 7))\n",
    "\n",
    "sns.set_style('whitegrid')\n",
    "boxplot = sns.boxplot(x='sector', y='loan_amount_log', data=philippines)\n",
    "boxplot.set(xlabel='', ylabel='')\n",
    "plt.title(\"Total loaned in Philippines' sectors :\", fontsize=20)\n",
    "plt.xticks(rotation=60, fontsize=17)\n",
    "plt.yticks(fontsize=17)\n",
    "plt.show()"
   ]
  },
  {
   "cell_type": "code",
   "execution_count": 23,
   "id": "358fd217",
   "metadata": {},
   "outputs": [
    {
     "data": {
      "image/png": "[encoded data removed]",
      "text/plain": [
       "<Figure size 1440x576 with 1 Axes>"
      ]
     },
     "metadata": {},
     "output_type": "display_data"
    }
   ],
   "source": [
    "plt.figure(figsize=(20,8))\n",
    "peru1 = peru.sort_values(by=\"year\")\n",
    "sns.lineplot(data=peru, x=\"year\", y=\"Life Ladder\");\n",
    "plt.title('Perú: Indice de Felicidad 2006-2021', fontsize=20, fontweight='bold', pad=15);"
   ]
  },
  {
   "cell_type": "markdown",
   "id": "2d14e47e",
   "metadata": {},
   "source": [
    "El Indice de Felicidad en el Perú en el último quindenio. Nuestro peor momento el periodo 2006-2008 (herencia de Toledo y García), hubo una mejora hasta el 2011, un retroceso hasta el 2015 (cortesía Humala) y luego un repunte hasta el 2019 (PPK-Vizcarra), con la Pandemia vuelve a caer el score de felicidad."
   ]
  },
  {
   "cell_type": "code",
   "execution_count": 121,
   "id": "7cded312",
   "metadata": {},
   "outputs": [
    {
     "name": "stderr",
     "output_type": "stream",
     "text": [
      "No handles with labels found to put in legend.\n"
     ]
    },
    {
     "data": {
      "image/png": "[encoded data removed]",
      "text/plain": [
       "<Figure size 1296x576 with 1 Axes>"
      ]
     },
     "metadata": {},
     "output_type": "display_data"
    }
   ],
   "source": [
    "###### sns.set_style(\"darkgrid\")\n",
    "plt.figure(figsize=(18, 8))\n",
    "sns.scatterplot(x=\"Log GDP per capita\", y=\"Life Ladder\", data=peru)\n",
    "plt.legend(loc = 2, bbox_to_anchor = (1,1))\n",
    "plt.title('Perú: Indice de felicidad vs PBI percapita - 2006 2021', fontsize=20, fontweight='bold', pad=15);"
   ]
  },
  {
   "cell_type": "code",
   "execution_count": 122,
   "id": "992aa6b1",
   "metadata": {},
   "outputs": [
    {
     "name": "stderr",
     "output_type": "stream",
     "text": [
      "No handles with labels found to put in legend.\n"
     ]
    },
    {
     "data": {
      "image/png": "[encoded data removed]",
      "text/plain": [
       "<Figure size 1296x576 with 1 Axes>"
      ]
     },
     "metadata": {},
     "output_type": "display_data"
    }
   ],
   "source": [
    "plt.figure(figsize=(18, 8))\n",
    "sns.scatterplot(x=\"Social support\", y=\"Life Ladder\", data=peru)\n",
    "plt.legend(loc = 2, bbox_to_anchor = (1,1))\n",
    "plt.title('Perú: Indice de felicidad vs Apoyo Social - 2006 2021', fontsize=20, fontweight='bold', pad=15);"
   ]
  },
  {
   "cell_type": "code",
   "execution_count": 123,
   "id": "0228df2e",
   "metadata": {},
   "outputs": [
    {
     "name": "stderr",
     "output_type": "stream",
     "text": [
      "No handles with labels found to put in legend.\n"
     ]
    },
    {
     "data": {
      "image/png": "[encoded data removed]",
      "text/plain": [
       "<Figure size 1296x576 with 1 Axes>"
      ]
     },
     "metadata": {},
     "output_type": "display_data"
    }
   ],
   "source": [
    "plt.figure(figsize=(18, 8))\n",
    "sns.scatterplot(x=\"Healthy life expectancy at birth\", y=\"Life Ladder\", data=peru)\n",
    "plt.legend(loc = 2, bbox_to_anchor = (1,1))\n",
    "plt.title('Perú: Indice de felicidad vs Expectativa de vida saludable al nacer  - 2006 2021', fontsize=20, fontweight='bold', pad=15);"
   ]
  },
  {
   "cell_type": "code",
   "execution_count": 126,
   "id": "c2dcf0f5",
   "metadata": {},
   "outputs": [
    {
     "name": "stderr",
     "output_type": "stream",
     "text": [
      "No handles with labels found to put in legend.\n"
     ]
    },
    {
     "data": {
      "image/png": "[encoded data removed]",
      "text/plain": [
       "<Figure size 1296x576 with 1 Axes>"
      ]
     },
     "metadata": {},
     "output_type": "display_data"
    }
   ],
   "source": [
    "plt.figure(figsize=(18, 8))\n",
    "sns.scatterplot(x=\"Freedom to make life choices\", y=\"Life Ladder\", data=peru)\n",
    "plt.legend(loc = 2, bbox_to_anchor = (1,1))\n",
    "plt.title('Perú: Indice de felicidad vs Libertad de tomar decisones de vida - 2006 2021', fontsize=20, fontweight='bold', pad=15);"
   ]
  },
  {
   "cell_type": "code",
   "execution_count": 124,
   "id": "0adc0c13",
   "metadata": {},
   "outputs": [
    {
     "name": "stderr",
     "output_type": "stream",
     "text": [
      "No handles with labels found to put in legend.\n"
     ]
    },
    {
     "data": {
      "image/png": "[encoded data removed]",
      "text/plain": [
       "<Figure size 1296x576 with 1 Axes>"
      ]
     },
     "metadata": {},
     "output_type": "display_data"
    }
   ],
   "source": [
    "plt.figure(figsize=(18, 8))\n",
    "sns.scatterplot(x=\"Generosity\", y=\"Life Ladder\", data=peru)\n",
    "plt.legend(loc = 2, bbox_to_anchor = (1,1))\n",
    "plt.title('Perú: Indice de felicidad vs Generosidad - 2006 2021', fontsize=20, fontweight='bold', pad=15);"
   ]
  },
  {
   "cell_type": "code",
   "execution_count": 125,
   "id": "119e79a1",
   "metadata": {},
   "outputs": [
    {
     "name": "stderr",
     "output_type": "stream",
     "text": [
      "No handles with labels found to put in legend.\n"
     ]
    },
    {
     "data": {
      "image/png": "[encoded data removed]",
      "text/plain": [
       "<Figure size 1296x576 with 1 Axes>"
      ]
     },
     "metadata": {},
     "output_type": "display_data"
    }
   ],
   "source": [
    "plt.figure(figsize=(18, 8))\n",
    "sns.scatterplot(x=\"Perceptions of corruption\", y=\"Life Ladder\", data=peru)\n",
    "plt.legend(loc = 2, bbox_to_anchor = (1,1))\n",
    "plt.title('Perú: Indice de felicidad vs Percepciones de corrupción - 2006 2021', fontsize=20, fontweight='bold', pad=15);"
   ]
  },
  {
   "cell_type": "markdown",
   "id": "530f0508",
   "metadata": {},
   "source": [
    "## 5. Bonus: Trabajando con Formato Ancho - Mapa de Calor del Indice de Felicidad "
   ]
  },
  {
   "cell_type": "markdown",
   "id": "0c399e44",
   "metadata": {},
   "source": [
    "<div class =\" alert alert-danger \"> Transformando el dataframe LAC de formato largo a formato ancho. Ejemplo: Mapa de Calor del Indice de Felicidad en Sudamerica por paises</div> "
   ]
  },
  {
   "cell_type": "code",
   "execution_count": 32,
   "id": "b2d77f3d",
   "metadata": {},
   "outputs": [
    {
     "data": {
      "text/html": [
       "<div>\n",
       "<style scoped>\n",
       "    .dataframe tbody tr th:only-of-type {\n",
       "        vertical-align: middle;\n",
       "    }\n",
       "\n",
       "    .dataframe tbody tr th {\n",
       "        vertical-align: top;\n",
       "    }\n",
       "\n",
       "    .dataframe thead th {\n",
       "        text-align: right;\n",
       "    }\n",
       "</style>\n",
       "<table border=\"1\" class=\"dataframe\">\n",
       "  <thead>\n",
       "    <tr style=\"text-align: right;\">\n",
       "      <th></th>\n",
       "      <th>Country name</th>\n",
       "      <th>year</th>\n",
       "      <th>Life Ladder</th>\n",
       "    </tr>\n",
       "  </thead>\n",
       "  <tbody>\n",
       "    <tr>\n",
       "      <th>37</th>\n",
       "      <td>Argentina</td>\n",
       "      <td>2006</td>\n",
       "      <td>6.313</td>\n",
       "    </tr>\n",
       "    <tr>\n",
       "      <th>38</th>\n",
       "      <td>Argentina</td>\n",
       "      <td>2007</td>\n",
       "      <td>6.073</td>\n",
       "    </tr>\n",
       "    <tr>\n",
       "      <th>39</th>\n",
       "      <td>Argentina</td>\n",
       "      <td>2008</td>\n",
       "      <td>5.961</td>\n",
       "    </tr>\n",
       "    <tr>\n",
       "      <th>40</th>\n",
       "      <td>Argentina</td>\n",
       "      <td>2009</td>\n",
       "      <td>6.424</td>\n",
       "    </tr>\n",
       "    <tr>\n",
       "      <th>41</th>\n",
       "      <td>Argentina</td>\n",
       "      <td>2010</td>\n",
       "      <td>6.441</td>\n",
       "    </tr>\n",
       "    <tr>\n",
       "      <th>42</th>\n",
       "      <td>Argentina</td>\n",
       "      <td>2011</td>\n",
       "      <td>6.776</td>\n",
       "    </tr>\n",
       "    <tr>\n",
       "      <th>43</th>\n",
       "      <td>Argentina</td>\n",
       "      <td>2012</td>\n",
       "      <td>6.468</td>\n",
       "    </tr>\n",
       "    <tr>\n",
       "      <th>44</th>\n",
       "      <td>Argentina</td>\n",
       "      <td>2013</td>\n",
       "      <td>6.582</td>\n",
       "    </tr>\n",
       "    <tr>\n",
       "      <th>45</th>\n",
       "      <td>Argentina</td>\n",
       "      <td>2014</td>\n",
       "      <td>6.671</td>\n",
       "    </tr>\n",
       "    <tr>\n",
       "      <th>46</th>\n",
       "      <td>Argentina</td>\n",
       "      <td>2015</td>\n",
       "      <td>6.697</td>\n",
       "    </tr>\n",
       "    <tr>\n",
       "      <th>47</th>\n",
       "      <td>Argentina</td>\n",
       "      <td>2016</td>\n",
       "      <td>6.427</td>\n",
       "    </tr>\n",
       "    <tr>\n",
       "      <th>48</th>\n",
       "      <td>Argentina</td>\n",
       "      <td>2017</td>\n",
       "      <td>6.039</td>\n",
       "    </tr>\n",
       "    <tr>\n",
       "      <th>49</th>\n",
       "      <td>Argentina</td>\n",
       "      <td>2018</td>\n",
       "      <td>5.793</td>\n",
       "    </tr>\n",
       "    <tr>\n",
       "      <th>50</th>\n",
       "      <td>Argentina</td>\n",
       "      <td>2019</td>\n",
       "      <td>6.086</td>\n",
       "    </tr>\n",
       "    <tr>\n",
       "      <th>51</th>\n",
       "      <td>Argentina</td>\n",
       "      <td>2020</td>\n",
       "      <td>5.901</td>\n",
       "    </tr>\n",
       "    <tr>\n",
       "      <th>1992</th>\n",
       "      <td>Argentina</td>\n",
       "      <td>2021</td>\n",
       "      <td>5.929</td>\n",
       "    </tr>\n",
       "    <tr>\n",
       "      <th>178</th>\n",
       "      <td>Bolivia</td>\n",
       "      <td>2006</td>\n",
       "      <td>5.374</td>\n",
       "    </tr>\n",
       "    <tr>\n",
       "      <th>179</th>\n",
       "      <td>Bolivia</td>\n",
       "      <td>2007</td>\n",
       "      <td>5.628</td>\n",
       "    </tr>\n",
       "    <tr>\n",
       "      <th>180</th>\n",
       "      <td>Bolivia</td>\n",
       "      <td>2008</td>\n",
       "      <td>5.298</td>\n",
       "    </tr>\n",
       "    <tr>\n",
       "      <th>181</th>\n",
       "      <td>Bolivia</td>\n",
       "      <td>2009</td>\n",
       "      <td>6.086</td>\n",
       "    </tr>\n",
       "  </tbody>\n",
       "</table>\n",
       "</div>"
      ],
      "text/plain": [
       "     Country name  year  Life Ladder\n",
       "37      Argentina  2006        6.313\n",
       "38      Argentina  2007        6.073\n",
       "39      Argentina  2008        5.961\n",
       "40      Argentina  2009        6.424\n",
       "41      Argentina  2010        6.441\n",
       "42      Argentina  2011        6.776\n",
       "43      Argentina  2012        6.468\n",
       "44      Argentina  2013        6.582\n",
       "45      Argentina  2014        6.671\n",
       "46      Argentina  2015        6.697\n",
       "47      Argentina  2016        6.427\n",
       "48      Argentina  2017        6.039\n",
       "49      Argentina  2018        5.793\n",
       "50      Argentina  2019        6.086\n",
       "51      Argentina  2020        5.901\n",
       "1992    Argentina  2021        5.929\n",
       "178       Bolivia  2006        5.374\n",
       "179       Bolivia  2007        5.628\n",
       "180       Bolivia  2008        5.298\n",
       "181       Bolivia  2009        6.086"
      ]
     },
     "execution_count": 32,
     "metadata": {},
     "output_type": "execute_result"
    }
   ],
   "source": [
    "# Reduciendo el datafame a solo tres variables con fines de ejemplo.\n",
    "LACW = LAC[['Country name','year', 'Life Ladder']]\n",
    "LACW.head(20)"
   ]
  },
  {
   "cell_type": "code",
   "execution_count": 104,
   "id": "df819439",
   "metadata": {},
   "outputs": [
    {
     "data": {
      "text/html": [
       "<div>\n",
       "<style scoped>\n",
       "    .dataframe tbody tr th:only-of-type {\n",
       "        vertical-align: middle;\n",
       "    }\n",
       "\n",
       "    .dataframe tbody tr th {\n",
       "        vertical-align: top;\n",
       "    }\n",
       "\n",
       "    .dataframe thead th {\n",
       "        text-align: right;\n",
       "    }\n",
       "</style>\n",
       "<table border=\"1\" class=\"dataframe\">\n",
       "  <thead>\n",
       "    <tr style=\"text-align: right;\">\n",
       "      <th></th>\n",
       "      <th>Country name</th>\n",
       "      <th>year</th>\n",
       "      <th>Life Ladder</th>\n",
       "    </tr>\n",
       "  </thead>\n",
       "  <tbody>\n",
       "    <tr>\n",
       "      <th>0</th>\n",
       "      <td>Argentina</td>\n",
       "      <td>2006</td>\n",
       "      <td>6.313</td>\n",
       "    </tr>\n",
       "    <tr>\n",
       "      <th>1</th>\n",
       "      <td>Argentina</td>\n",
       "      <td>2007</td>\n",
       "      <td>6.073</td>\n",
       "    </tr>\n",
       "    <tr>\n",
       "      <th>2</th>\n",
       "      <td>Argentina</td>\n",
       "      <td>2008</td>\n",
       "      <td>5.961</td>\n",
       "    </tr>\n",
       "    <tr>\n",
       "      <th>3</th>\n",
       "      <td>Argentina</td>\n",
       "      <td>2009</td>\n",
       "      <td>6.424</td>\n",
       "    </tr>\n",
       "    <tr>\n",
       "      <th>4</th>\n",
       "      <td>Argentina</td>\n",
       "      <td>2010</td>\n",
       "      <td>6.441</td>\n",
       "    </tr>\n",
       "  </tbody>\n",
       "</table>\n",
       "</div>"
      ],
      "text/plain": [
       "  Country name  year  Life Ladder\n",
       "0    Argentina  2006        6.313\n",
       "1    Argentina  2007        6.073\n",
       "2    Argentina  2008        5.961\n",
       "3    Argentina  2009        6.424\n",
       "4    Argentina  2010        6.441"
      ]
     },
     "execution_count": 104,
     "metadata": {},
     "output_type": "execute_result"
    }
   ],
   "source": [
    "LACW1 = LACW.reset_index(drop = True)\n",
    "LACW1.head()"
   ]
  },
  {
   "cell_type": "code",
   "execution_count": 113,
   "id": "1f20350b",
   "metadata": {},
   "outputs": [
    {
     "data": {
      "text/html": [
       "<style  type=\"text/css\" >\n",
       "#T_45486_row0_col0,#T_45486_row1_col0,#T_45486_row2_col1,#T_45486_row3_col0,#T_45486_row4_col0,#T_45486_row5_col0,#T_45486_row6_col0,#T_45486_row6_col13,#T_45486_row6_col15,#T_45486_row7_col0,#T_45486_row7_col15,#T_45486_row8_col0,#T_45486_row9_col2{\n",
       "            background-color:  #000000;\n",
       "            color:  #f1f1f1;\n",
       "        }#T_45486_row0_col1{\n",
       "            background-color:  #04588a;\n",
       "            color:  #f1f1f1;\n",
       "        }#T_45486_row0_col2{\n",
       "            background-color:  #04649e;\n",
       "            color:  #f1f1f1;\n",
       "        }#T_45486_row0_col3{\n",
       "            background-color:  #63a2cb;\n",
       "            color:  #000000;\n",
       "        }#T_45486_row0_col4{\n",
       "            background-color:  #60a1ca;\n",
       "            color:  #000000;\n",
       "        }#T_45486_row0_col5,#T_45486_row4_col7,#T_45486_row5_col9{\n",
       "            background-color:  #8bb2d4;\n",
       "            color:  #000000;\n",
       "        }#T_45486_row0_col6{\n",
       "            background-color:  #0566a0;\n",
       "            color:  #f1f1f1;\n",
       "        }#T_45486_row0_col7{\n",
       "            background-color:  #69a5cc;\n",
       "            color:  #000000;\n",
       "        }#T_45486_row0_col8{\n",
       "            background-color:  #4697c4;\n",
       "            color:  #000000;\n",
       "        }#T_45486_row0_col9,#T_45486_row4_col14{\n",
       "            background-color:  #046198;\n",
       "            color:  #f1f1f1;\n",
       "        }#T_45486_row0_col10,#T_45486_row2_col2,#T_45486_row2_col3,#T_45486_row2_col6,#T_45486_row2_col8,#T_45486_row2_col9,#T_45486_row2_col12,#T_45486_row3_col11,#T_45486_row3_col13,#T_45486_row8_col12,#T_45486_row8_col14,#T_45486_row8_col15,#T_45486_row8_col16,#T_45486_row9_col0,#T_45486_row9_col1,#T_45486_row9_col4,#T_45486_row9_col5,#T_45486_row9_col7{\n",
       "            background-color:  #023858;\n",
       "            color:  #f1f1f1;\n",
       "        }#T_45486_row0_col11,#T_45486_row8_col10{\n",
       "            background-color:  #034871;\n",
       "            color:  #f1f1f1;\n",
       "        }#T_45486_row0_col12,#T_45486_row0_col15{\n",
       "            background-color:  #056dac;\n",
       "            color:  #f1f1f1;\n",
       "        }#T_45486_row0_col13,#T_45486_row3_col5{\n",
       "            background-color:  #5c9fc9;\n",
       "            color:  #000000;\n",
       "        }#T_45486_row0_col14,#T_45486_row9_col6{\n",
       "            background-color:  #2786bb;\n",
       "            color:  #000000;\n",
       "        }#T_45486_row0_col16,#T_45486_row2_col7{\n",
       "            background-color:  #2383ba;\n",
       "            color:  #000000;\n",
       "        }#T_45486_row1_col1{\n",
       "            background-color:  #acc0dd;\n",
       "            color:  #000000;\n",
       "        }#T_45486_row1_col2,#T_45486_row5_col14{\n",
       "            background-color:  #7dacd1;\n",
       "            color:  #000000;\n",
       "        }#T_45486_row1_col3,#T_45486_row5_col3{\n",
       "            background-color:  #efe9f3;\n",
       "            color:  #000000;\n",
       "        }#T_45486_row1_col4{\n",
       "            background-color:  #b3c3de;\n",
       "            color:  #000000;\n",
       "        }#T_45486_row1_col5{\n",
       "            background-color:  #f1ebf5;\n",
       "            color:  #000000;\n",
       "        }#T_45486_row1_col6{\n",
       "            background-color:  #f4edf6;\n",
       "            color:  #000000;\n",
       "        }#T_45486_row1_col7,#T_45486_row7_col6{\n",
       "            background-color:  #e5e1ef;\n",
       "            color:  #000000;\n",
       "        }#T_45486_row1_col8,#T_45486_row2_col0,#T_45486_row5_col2,#T_45486_row6_col1,#T_45486_row6_col6,#T_45486_row6_col7,#T_45486_row6_col9,#T_45486_row6_col10,#T_45486_row7_col3,#T_45486_row7_col4,#T_45486_row7_col5,#T_45486_row9_col11,#T_45486_row9_col12,#T_45486_row9_col13,#T_45486_row9_col14,#T_45486_row9_col15,#T_45486_row9_col16{\n",
       "            background-color:  #fff7fb;\n",
       "            color:  #000000;\n",
       "        }#T_45486_row1_col9,#T_45486_row7_col9{\n",
       "            background-color:  #9cb9d9;\n",
       "            color:  #000000;\n",
       "        }#T_45486_row1_col10,#T_45486_row8_col5{\n",
       "            background-color:  #d2d3e7;\n",
       "            color:  #000000;\n",
       "        }#T_45486_row1_col11{\n",
       "            background-color:  #2081b9;\n",
       "            color:  #000000;\n",
       "        }#T_45486_row1_col12{\n",
       "            background-color:  #84b0d3;\n",
       "            color:  #000000;\n",
       "        }#T_45486_row1_col13{\n",
       "            background-color:  #328dbf;\n",
       "            color:  #000000;\n",
       "        }#T_45486_row1_col14{\n",
       "            background-color:  #a1bbda;\n",
       "            color:  #000000;\n",
       "        }#T_45486_row1_col15,#T_45486_row3_col14,#T_45486_row5_col16{\n",
       "            background-color:  #529bc7;\n",
       "            color:  #000000;\n",
       "        }#T_45486_row1_col16{\n",
       "            background-color:  #62a2cb;\n",
       "            color:  #000000;\n",
       "        }#T_45486_row2_col4{\n",
       "            background-color:  #045687;\n",
       "            color:  #f1f1f1;\n",
       "        }#T_45486_row2_col5{\n",
       "            background-color:  #2987bc;\n",
       "            color:  #000000;\n",
       "        }#T_45486_row2_col10{\n",
       "            background-color:  #045b8e;\n",
       "            color:  #f1f1f1;\n",
       "        }#T_45486_row2_col11{\n",
       "            background-color:  #034d79;\n",
       "            color:  #f1f1f1;\n",
       "        }#T_45486_row2_col13,#T_45486_row3_col16{\n",
       "            background-color:  #046299;\n",
       "            color:  #f1f1f1;\n",
       "        }#T_45486_row2_col14{\n",
       "            background-color:  #045382;\n",
       "            color:  #f1f1f1;\n",
       "        }#T_45486_row2_col15{\n",
       "            background-color:  #045788;\n",
       "            color:  #f1f1f1;\n",
       "        }#T_45486_row2_col16{\n",
       "            background-color:  #034973;\n",
       "            color:  #f1f1f1;\n",
       "        }#T_45486_row3_col1{\n",
       "            background-color:  #0771b1;\n",
       "            color:  #f1f1f1;\n",
       "        }#T_45486_row3_col2{\n",
       "            background-color:  #65a3cb;\n",
       "            color:  #000000;\n",
       "        }#T_45486_row3_col3{\n",
       "            background-color:  #93b5d6;\n",
       "            color:  #000000;\n",
       "        }#T_45486_row3_col4{\n",
       "            background-color:  #4a98c5;\n",
       "            color:  #000000;\n",
       "        }#T_45486_row3_col6,#T_45486_row3_col7{\n",
       "            background-color:  #3790c0;\n",
       "            color:  #000000;\n",
       "        }#T_45486_row3_col8{\n",
       "            background-color:  #157ab5;\n",
       "            color:  #000000;\n",
       "        }#T_45486_row3_col9{\n",
       "            background-color:  #034b76;\n",
       "            color:  #f1f1f1;\n",
       "        }#T_45486_row3_col10,#T_45486_row4_col12{\n",
       "            background-color:  #045d92;\n",
       "            color:  #f1f1f1;\n",
       "        }#T_45486_row3_col12{\n",
       "            background-color:  #023b5d;\n",
       "            color:  #f1f1f1;\n",
       "        }#T_45486_row3_col15{\n",
       "            background-color:  #03517e;\n",
       "            color:  #f1f1f1;\n",
       "        }#T_45486_row4_col1{\n",
       "            background-color:  #1077b4;\n",
       "            color:  #f1f1f1;\n",
       "        }#T_45486_row4_col2{\n",
       "            background-color:  #045c90;\n",
       "            color:  #f1f1f1;\n",
       "        }#T_45486_row4_col3{\n",
       "            background-color:  #2685bb;\n",
       "            color:  #000000;\n",
       "        }#T_45486_row4_col4,#T_45486_row5_col15{\n",
       "            background-color:  #88b1d4;\n",
       "            color:  #000000;\n",
       "        }#T_45486_row4_col5{\n",
       "            background-color:  #91b5d6;\n",
       "            color:  #000000;\n",
       "        }#T_45486_row4_col6{\n",
       "            background-color:  #4c99c5;\n",
       "            color:  #000000;\n",
       "        }#T_45486_row4_col8{\n",
       "            background-color:  #3d93c2;\n",
       "            color:  #000000;\n",
       "        }#T_45486_row4_col9{\n",
       "            background-color:  #1379b5;\n",
       "            color:  #f1f1f1;\n",
       "        }#T_45486_row4_col10,#T_45486_row4_col16{\n",
       "            background-color:  #0d75b3;\n",
       "            color:  #f1f1f1;\n",
       "        }#T_45486_row4_col11{\n",
       "            background-color:  #045b8f;\n",
       "            color:  #f1f1f1;\n",
       "        }#T_45486_row4_col13{\n",
       "            background-color:  #1e80b8;\n",
       "            color:  #000000;\n",
       "        }#T_45486_row4_col15,#T_45486_row7_col11{\n",
       "            background-color:  #2a88bc;\n",
       "            color:  #000000;\n",
       "        }#T_45486_row5_col1{\n",
       "            background-color:  #e4e1ef;\n",
       "            color:  #000000;\n",
       "        }#T_45486_row5_col4{\n",
       "            background-color:  #bfc9e1;\n",
       "            color:  #000000;\n",
       "        }#T_45486_row5_col5{\n",
       "            background-color:  #ede8f3;\n",
       "            color:  #000000;\n",
       "        }#T_45486_row5_col6{\n",
       "            background-color:  #f2ecf5;\n",
       "            color:  #000000;\n",
       "        }#T_45486_row5_col7{\n",
       "            background-color:  #eee9f3;\n",
       "            color:  #000000;\n",
       "        }#T_45486_row5_col8{\n",
       "            background-color:  #e0dded;\n",
       "            color:  #000000;\n",
       "        }#T_45486_row5_col10{\n",
       "            background-color:  #adc1dd;\n",
       "            color:  #000000;\n",
       "        }#T_45486_row5_col11{\n",
       "            background-color:  #04649d;\n",
       "            color:  #f1f1f1;\n",
       "        }#T_45486_row5_col12{\n",
       "            background-color:  #3f93c2;\n",
       "            color:  #000000;\n",
       "        }#T_45486_row5_col13{\n",
       "            background-color:  #056aa6;\n",
       "            color:  #f1f1f1;\n",
       "        }#T_45486_row6_col2{\n",
       "            background-color:  #d9d8ea;\n",
       "            color:  #000000;\n",
       "        }#T_45486_row6_col3{\n",
       "            background-color:  #c5cce3;\n",
       "            color:  #000000;\n",
       "        }#T_45486_row6_col4{\n",
       "            background-color:  #faf3f9;\n",
       "            color:  #000000;\n",
       "        }#T_45486_row6_col5,#T_45486_row6_col8{\n",
       "            background-color:  #ede7f2;\n",
       "            color:  #000000;\n",
       "        }#T_45486_row6_col11{\n",
       "            background-color:  #1b7eb7;\n",
       "            color:  #000000;\n",
       "        }#T_45486_row6_col12,#T_45486_row7_col12,#T_45486_row8_col7{\n",
       "            background-color:  #71a8ce;\n",
       "            color:  #000000;\n",
       "        }#T_45486_row6_col14{\n",
       "            background-color:  #a5bddb;\n",
       "            color:  #000000;\n",
       "        }#T_45486_row6_col16,#T_45486_row8_col8{\n",
       "            background-color:  #76aad0;\n",
       "            color:  #000000;\n",
       "        }#T_45486_row7_col1{\n",
       "            background-color:  #f8f1f8;\n",
       "            color:  #000000;\n",
       "        }#T_45486_row7_col2{\n",
       "            background-color:  #e3e0ee;\n",
       "            color:  #000000;\n",
       "        }#T_45486_row7_col7{\n",
       "            background-color:  #fef6fb;\n",
       "            color:  #000000;\n",
       "        }#T_45486_row7_col8,#T_45486_row9_col10{\n",
       "            background-color:  #fef6fa;\n",
       "            color:  #000000;\n",
       "        }#T_45486_row7_col10{\n",
       "            background-color:  #fdf5fa;\n",
       "            color:  #000000;\n",
       "        }#T_45486_row7_col13{\n",
       "            background-color:  #80aed2;\n",
       "            color:  #000000;\n",
       "        }#T_45486_row7_col14{\n",
       "            background-color:  #4094c3;\n",
       "            color:  #000000;\n",
       "        }#T_45486_row7_col16{\n",
       "            background-color:  #3b92c1;\n",
       "            color:  #000000;\n",
       "        }#T_45486_row8_col1{\n",
       "            background-color:  #4897c4;\n",
       "            color:  #000000;\n",
       "        }#T_45486_row8_col2{\n",
       "            background-color:  #67a4cc;\n",
       "            color:  #000000;\n",
       "        }#T_45486_row8_col3{\n",
       "            background-color:  #b1c2de;\n",
       "            color:  #000000;\n",
       "        }#T_45486_row8_col4{\n",
       "            background-color:  #81aed2;\n",
       "            color:  #000000;\n",
       "        }#T_45486_row8_col6{\n",
       "            background-color:  #2f8bbe;\n",
       "            color:  #000000;\n",
       "        }#T_45486_row8_col9{\n",
       "            background-color:  #056ba9;\n",
       "            color:  #f1f1f1;\n",
       "        }#T_45486_row8_col11{\n",
       "            background-color:  #046097;\n",
       "            color:  #f1f1f1;\n",
       "        }#T_45486_row8_col13{\n",
       "            background-color:  #03446a;\n",
       "            color:  #f1f1f1;\n",
       "        }#T_45486_row9_col3{\n",
       "            background-color:  #0f76b3;\n",
       "            color:  #f1f1f1;\n",
       "        }#T_45486_row9_col8{\n",
       "            background-color:  #509ac6;\n",
       "            color:  #000000;\n",
       "        }#T_45486_row9_col9{\n",
       "            background-color:  #5ea0ca;\n",
       "            color:  #000000;\n",
       "        }</style><table id=\"T_45486_\" ><thead>    <tr>        <th class=\"index_name level0\" >year</th>        <th class=\"col_heading level0 col0\" >2005</th>        <th class=\"col_heading level0 col1\" >2006</th>        <th class=\"col_heading level0 col2\" >2007</th>        <th class=\"col_heading level0 col3\" >2008</th>        <th class=\"col_heading level0 col4\" >2009</th>        <th class=\"col_heading level0 col5\" >2010</th>        <th class=\"col_heading level0 col6\" >2011</th>        <th class=\"col_heading level0 col7\" >2012</th>        <th class=\"col_heading level0 col8\" >2013</th>        <th class=\"col_heading level0 col9\" >2014</th>        <th class=\"col_heading level0 col10\" >2015</th>        <th class=\"col_heading level0 col11\" >2016</th>        <th class=\"col_heading level0 col12\" >2017</th>        <th class=\"col_heading level0 col13\" >2018</th>        <th class=\"col_heading level0 col14\" >2019</th>        <th class=\"col_heading level0 col15\" >2020</th>        <th class=\"col_heading level0 col16\" >2021</th>    </tr>    <tr>        <th class=\"index_name level0\" >Country name</th>        <th class=\"blank\" ></th>        <th class=\"blank\" ></th>        <th class=\"blank\" ></th>        <th class=\"blank\" ></th>        <th class=\"blank\" ></th>        <th class=\"blank\" ></th>        <th class=\"blank\" ></th>        <th class=\"blank\" ></th>        <th class=\"blank\" ></th>        <th class=\"blank\" ></th>        <th class=\"blank\" ></th>        <th class=\"blank\" ></th>        <th class=\"blank\" ></th>        <th class=\"blank\" ></th>        <th class=\"blank\" ></th>        <th class=\"blank\" ></th>        <th class=\"blank\" ></th>    </tr></thead><tbody>\n",
       "                <tr>\n",
       "                        <th id=\"T_45486_level0_row0\" class=\"row_heading level0 row0\" >Argentina</th>\n",
       "                        <td id=\"T_45486_row0_col0\" class=\"data row0 col0\" >nan</td>\n",
       "                        <td id=\"T_45486_row0_col1\" class=\"data row0 col1\" >6.313000</td>\n",
       "                        <td id=\"T_45486_row0_col2\" class=\"data row0 col2\" >6.073000</td>\n",
       "                        <td id=\"T_45486_row0_col3\" class=\"data row0 col3\" >5.961000</td>\n",
       "                        <td id=\"T_45486_row0_col4\" class=\"data row0 col4\" >6.424000</td>\n",
       "                        <td id=\"T_45486_row0_col5\" class=\"data row0 col5\" >6.441000</td>\n",
       "                        <td id=\"T_45486_row0_col6\" class=\"data row0 col6\" >6.776000</td>\n",
       "                        <td id=\"T_45486_row0_col7\" class=\"data row0 col7\" >6.468000</td>\n",
       "                        <td id=\"T_45486_row0_col8\" class=\"data row0 col8\" >6.582000</td>\n",
       "                        <td id=\"T_45486_row0_col9\" class=\"data row0 col9\" >6.671000</td>\n",
       "                        <td id=\"T_45486_row0_col10\" class=\"data row0 col10\" >6.697000</td>\n",
       "                        <td id=\"T_45486_row0_col11\" class=\"data row0 col11\" >6.427000</td>\n",
       "                        <td id=\"T_45486_row0_col12\" class=\"data row0 col12\" >6.039000</td>\n",
       "                        <td id=\"T_45486_row0_col13\" class=\"data row0 col13\" >5.793000</td>\n",
       "                        <td id=\"T_45486_row0_col14\" class=\"data row0 col14\" >6.086000</td>\n",
       "                        <td id=\"T_45486_row0_col15\" class=\"data row0 col15\" >5.901000</td>\n",
       "                        <td id=\"T_45486_row0_col16\" class=\"data row0 col16\" >5.929000</td>\n",
       "            </tr>\n",
       "            <tr>\n",
       "                        <th id=\"T_45486_level0_row1\" class=\"row_heading level0 row1\" >Bolivia</th>\n",
       "                        <td id=\"T_45486_row1_col0\" class=\"data row1 col0\" >nan</td>\n",
       "                        <td id=\"T_45486_row1_col1\" class=\"data row1 col1\" >5.374000</td>\n",
       "                        <td id=\"T_45486_row1_col2\" class=\"data row1 col2\" >5.628000</td>\n",
       "                        <td id=\"T_45486_row1_col3\" class=\"data row1 col3\" >5.298000</td>\n",
       "                        <td id=\"T_45486_row1_col4\" class=\"data row1 col4\" >6.086000</td>\n",
       "                        <td id=\"T_45486_row1_col5\" class=\"data row1 col5\" >5.781000</td>\n",
       "                        <td id=\"T_45486_row1_col6\" class=\"data row1 col6\" >5.779000</td>\n",
       "                        <td id=\"T_45486_row1_col7\" class=\"data row1 col7\" >6.019000</td>\n",
       "                        <td id=\"T_45486_row1_col8\" class=\"data row1 col8\" >5.767000</td>\n",
       "                        <td id=\"T_45486_row1_col9\" class=\"data row1 col9\" >5.865000</td>\n",
       "                        <td id=\"T_45486_row1_col10\" class=\"data row1 col10\" >5.834000</td>\n",
       "                        <td id=\"T_45486_row1_col11\" class=\"data row1 col11\" >5.770000</td>\n",
       "                        <td id=\"T_45486_row1_col12\" class=\"data row1 col12\" >5.651000</td>\n",
       "                        <td id=\"T_45486_row1_col13\" class=\"data row1 col13\" >5.916000</td>\n",
       "                        <td id=\"T_45486_row1_col14\" class=\"data row1 col14\" >5.674000</td>\n",
       "                        <td id=\"T_45486_row1_col15\" class=\"data row1 col15\" >5.559000</td>\n",
       "                        <td id=\"T_45486_row1_col16\" class=\"data row1 col16\" >5.716000</td>\n",
       "            </tr>\n",
       "            <tr>\n",
       "                        <th id=\"T_45486_level0_row2\" class=\"row_heading level0 row2\" >Brazil</th>\n",
       "                        <td id=\"T_45486_row2_col0\" class=\"data row2 col0\" >6.637000</td>\n",
       "                        <td id=\"T_45486_row2_col1\" class=\"data row2 col1\" >nan</td>\n",
       "                        <td id=\"T_45486_row2_col2\" class=\"data row2 col2\" >6.321000</td>\n",
       "                        <td id=\"T_45486_row2_col3\" class=\"data row2 col3\" >6.691000</td>\n",
       "                        <td id=\"T_45486_row2_col4\" class=\"data row2 col4\" >7.001000</td>\n",
       "                        <td id=\"T_45486_row2_col5\" class=\"data row2 col5\" >6.837000</td>\n",
       "                        <td id=\"T_45486_row2_col6\" class=\"data row2 col6\" >7.038000</td>\n",
       "                        <td id=\"T_45486_row2_col7\" class=\"data row2 col7\" >6.660000</td>\n",
       "                        <td id=\"T_45486_row2_col8\" class=\"data row2 col8\" >7.140000</td>\n",
       "                        <td id=\"T_45486_row2_col9\" class=\"data row2 col9\" >6.981000</td>\n",
       "                        <td id=\"T_45486_row2_col10\" class=\"data row2 col10\" >6.547000</td>\n",
       "                        <td id=\"T_45486_row2_col11\" class=\"data row2 col11\" >6.375000</td>\n",
       "                        <td id=\"T_45486_row2_col12\" class=\"data row2 col12\" >6.333000</td>\n",
       "                        <td id=\"T_45486_row2_col13\" class=\"data row2 col13\" >6.191000</td>\n",
       "                        <td id=\"T_45486_row2_col14\" class=\"data row2 col14\" >6.451000</td>\n",
       "                        <td id=\"T_45486_row2_col15\" class=\"data row2 col15\" >6.110000</td>\n",
       "                        <td id=\"T_45486_row2_col16\" class=\"data row2 col16\" >6.330000</td>\n",
       "            </tr>\n",
       "            <tr>\n",
       "                        <th id=\"T_45486_level0_row3\" class=\"row_heading level0 row3\" >Chile</th>\n",
       "                        <td id=\"T_45486_row3_col0\" class=\"data row3 col0\" >nan</td>\n",
       "                        <td id=\"T_45486_row3_col1\" class=\"data row3 col1\" >6.063000</td>\n",
       "                        <td id=\"T_45486_row3_col2\" class=\"data row3 col2\" >5.698000</td>\n",
       "                        <td id=\"T_45486_row3_col3\" class=\"data row3 col3\" >5.789000</td>\n",
       "                        <td id=\"T_45486_row3_col4\" class=\"data row3 col4\" >6.494000</td>\n",
       "                        <td id=\"T_45486_row3_col5\" class=\"data row3 col5\" >6.636000</td>\n",
       "                        <td id=\"T_45486_row3_col6\" class=\"data row3 col6\" >6.526000</td>\n",
       "                        <td id=\"T_45486_row3_col7\" class=\"data row3 col7\" >6.599000</td>\n",
       "                        <td id=\"T_45486_row3_col8\" class=\"data row3 col8\" >6.740000</td>\n",
       "                        <td id=\"T_45486_row3_col9\" class=\"data row3 col9\" >6.844000</td>\n",
       "                        <td id=\"T_45486_row3_col10\" class=\"data row3 col10\" >6.533000</td>\n",
       "                        <td id=\"T_45486_row3_col11\" class=\"data row3 col11\" >6.579000</td>\n",
       "                        <td id=\"T_45486_row3_col12\" class=\"data row3 col12\" >6.320000</td>\n",
       "                        <td id=\"T_45486_row3_col13\" class=\"data row3 col13\" >6.436000</td>\n",
       "                        <td id=\"T_45486_row3_col14\" class=\"data row3 col14\" >5.942000</td>\n",
       "                        <td id=\"T_45486_row3_col15\" class=\"data row3 col15\" >6.151000</td>\n",
       "                        <td id=\"T_45486_row3_col16\" class=\"data row3 col16\" >6.172000</td>\n",
       "            </tr>\n",
       "            <tr>\n",
       "                        <th id=\"T_45486_level0_row4\" class=\"row_heading level0 row4\" >Colombia</th>\n",
       "                        <td id=\"T_45486_row4_col0\" class=\"data row4 col0\" >nan</td>\n",
       "                        <td id=\"T_45486_row4_col1\" class=\"data row4 col1\" >6.025000</td>\n",
       "                        <td id=\"T_45486_row4_col2\" class=\"data row4 col2\" >6.138000</td>\n",
       "                        <td id=\"T_45486_row4_col3\" class=\"data row4 col3\" >6.168000</td>\n",
       "                        <td id=\"T_45486_row4_col4\" class=\"data row4 col4\" >6.272000</td>\n",
       "                        <td id=\"T_45486_row4_col5\" class=\"data row4 col5\" >6.408000</td>\n",
       "                        <td id=\"T_45486_row4_col6\" class=\"data row4 col6\" >6.464000</td>\n",
       "                        <td id=\"T_45486_row4_col7\" class=\"data row4 col7\" >6.375000</td>\n",
       "                        <td id=\"T_45486_row4_col8\" class=\"data row4 col8\" >6.607000</td>\n",
       "                        <td id=\"T_45486_row4_col9\" class=\"data row4 col9\" >6.449000</td>\n",
       "                        <td id=\"T_45486_row4_col10\" class=\"data row4 col10\" >6.388000</td>\n",
       "                        <td id=\"T_45486_row4_col11\" class=\"data row4 col11\" >6.234000</td>\n",
       "                        <td id=\"T_45486_row4_col12\" class=\"data row4 col12\" >6.157000</td>\n",
       "                        <td id=\"T_45486_row4_col13\" class=\"data row4 col13\" >5.984000</td>\n",
       "                        <td id=\"T_45486_row4_col14\" class=\"data row4 col14\" >6.350000</td>\n",
       "                        <td id=\"T_45486_row4_col15\" class=\"data row4 col15\" >5.709000</td>\n",
       "                        <td id=\"T_45486_row4_col16\" class=\"data row4 col16\" >6.012000</td>\n",
       "            </tr>\n",
       "            <tr>\n",
       "                        <th id=\"T_45486_level0_row5\" class=\"row_heading level0 row5\" >Ecuador</th>\n",
       "                        <td id=\"T_45486_row5_col0\" class=\"data row5 col0\" >nan</td>\n",
       "                        <td id=\"T_45486_row5_col1\" class=\"data row5 col1\" >5.024000</td>\n",
       "                        <td id=\"T_45486_row5_col2\" class=\"data row5 col2\" >4.996000</td>\n",
       "                        <td id=\"T_45486_row5_col3\" class=\"data row5 col3\" >5.297000</td>\n",
       "                        <td id=\"T_45486_row5_col4\" class=\"data row5 col4\" >6.022000</td>\n",
       "                        <td id=\"T_45486_row5_col5\" class=\"data row5 col5\" >5.838000</td>\n",
       "                        <td id=\"T_45486_row5_col6\" class=\"data row5 col6\" >5.795000</td>\n",
       "                        <td id=\"T_45486_row5_col7\" class=\"data row5 col7\" >5.961000</td>\n",
       "                        <td id=\"T_45486_row5_col8\" class=\"data row5 col8\" >6.019000</td>\n",
       "                        <td id=\"T_45486_row5_col9\" class=\"data row5 col9\" >5.946000</td>\n",
       "                        <td id=\"T_45486_row5_col10\" class=\"data row5 col10\" >5.964000</td>\n",
       "                        <td id=\"T_45486_row5_col11\" class=\"data row5 col11\" >6.115000</td>\n",
       "                        <td id=\"T_45486_row5_col12\" class=\"data row5 col12\" >5.840000</td>\n",
       "                        <td id=\"T_45486_row5_col13\" class=\"data row5 col13\" >6.128000</td>\n",
       "                        <td id=\"T_45486_row5_col14\" class=\"data row5 col14\" >5.809000</td>\n",
       "                        <td id=\"T_45486_row5_col15\" class=\"data row5 col15\" >5.354000</td>\n",
       "                        <td id=\"T_45486_row5_col16\" class=\"data row5 col16\" >5.764000</td>\n",
       "            </tr>\n",
       "            <tr>\n",
       "                        <th id=\"T_45486_level0_row6\" class=\"row_heading level0 row6\" >Paraguay</th>\n",
       "                        <td id=\"T_45486_row6_col0\" class=\"data row6 col0\" >nan</td>\n",
       "                        <td id=\"T_45486_row6_col1\" class=\"data row6 col1\" >4.730000</td>\n",
       "                        <td id=\"T_45486_row6_col2\" class=\"data row6 col2\" >5.272000</td>\n",
       "                        <td id=\"T_45486_row6_col3\" class=\"data row6 col3\" >5.570000</td>\n",
       "                        <td id=\"T_45486_row6_col4\" class=\"data row6 col4\" >5.576000</td>\n",
       "                        <td id=\"T_45486_row6_col5\" class=\"data row6 col5\" >5.841000</td>\n",
       "                        <td id=\"T_45486_row6_col6\" class=\"data row6 col6\" >5.677000</td>\n",
       "                        <td id=\"T_45486_row6_col7\" class=\"data row6 col7\" >5.820000</td>\n",
       "                        <td id=\"T_45486_row6_col8\" class=\"data row6 col8\" >5.936000</td>\n",
       "                        <td id=\"T_45486_row6_col9\" class=\"data row6 col9\" >5.119000</td>\n",
       "                        <td id=\"T_45486_row6_col10\" class=\"data row6 col10\" >5.560000</td>\n",
       "                        <td id=\"T_45486_row6_col11\" class=\"data row6 col11\" >5.801000</td>\n",
       "                        <td id=\"T_45486_row6_col12\" class=\"data row6 col12\" >5.713000</td>\n",
       "                        <td id=\"T_45486_row6_col13\" class=\"data row6 col13\" >nan</td>\n",
       "                        <td id=\"T_45486_row6_col14\" class=\"data row6 col14\" >5.653000</td>\n",
       "                        <td id=\"T_45486_row6_col15\" class=\"data row6 col15\" >nan</td>\n",
       "                        <td id=\"T_45486_row6_col16\" class=\"data row6 col16\" >5.653000</td>\n",
       "            </tr>\n",
       "            <tr>\n",
       "                        <th id=\"T_45486_level0_row7\" class=\"row_heading level0 row7\" >Peru</th>\n",
       "                        <td id=\"T_45486_row7_col0\" class=\"data row7 col0\" >nan</td>\n",
       "                        <td id=\"T_45486_row7_col1\" class=\"data row7 col1\" >4.811000</td>\n",
       "                        <td id=\"T_45486_row7_col2\" class=\"data row7 col2\" >5.214000</td>\n",
       "                        <td id=\"T_45486_row7_col3\" class=\"data row7 col3\" >5.129000</td>\n",
       "                        <td id=\"T_45486_row7_col4\" class=\"data row7 col4\" >5.519000</td>\n",
       "                        <td id=\"T_45486_row7_col5\" class=\"data row7 col5\" >5.613000</td>\n",
       "                        <td id=\"T_45486_row7_col6\" class=\"data row7 col6\" >5.892000</td>\n",
       "                        <td id=\"T_45486_row7_col7\" class=\"data row7 col7\" >5.825000</td>\n",
       "                        <td id=\"T_45486_row7_col8\" class=\"data row7 col8\" >5.783000</td>\n",
       "                        <td id=\"T_45486_row7_col9\" class=\"data row7 col9\" >5.866000</td>\n",
       "                        <td id=\"T_45486_row7_col10\" class=\"data row7 col10\" >5.577000</td>\n",
       "                        <td id=\"T_45486_row7_col11\" class=\"data row7 col11\" >5.701000</td>\n",
       "                        <td id=\"T_45486_row7_col12\" class=\"data row7 col12\" >5.711000</td>\n",
       "                        <td id=\"T_45486_row7_col13\" class=\"data row7 col13\" >5.680000</td>\n",
       "                        <td id=\"T_45486_row7_col14\" class=\"data row7 col14\" >5.999000</td>\n",
       "                        <td id=\"T_45486_row7_col15\" class=\"data row7 col15\" >nan</td>\n",
       "                        <td id=\"T_45486_row7_col16\" class=\"data row7 col16\" >5.840000</td>\n",
       "            </tr>\n",
       "            <tr>\n",
       "                        <th id=\"T_45486_level0_row8\" class=\"row_heading level0 row8\" >Uruguay</th>\n",
       "                        <td id=\"T_45486_row8_col0\" class=\"data row8 col0\" >nan</td>\n",
       "                        <td id=\"T_45486_row8_col1\" class=\"data row8 col1\" >5.786000</td>\n",
       "                        <td id=\"T_45486_row8_col2\" class=\"data row8 col2\" >5.694000</td>\n",
       "                        <td id=\"T_45486_row8_col3\" class=\"data row8 col3\" >5.664000</td>\n",
       "                        <td id=\"T_45486_row8_col4\" class=\"data row8 col4\" >6.296000</td>\n",
       "                        <td id=\"T_45486_row8_col5\" class=\"data row8 col5\" >6.062000</td>\n",
       "                        <td id=\"T_45486_row8_col6\" class=\"data row8 col6\" >6.554000</td>\n",
       "                        <td id=\"T_45486_row8_col7\" class=\"data row8 col7\" >6.450000</td>\n",
       "                        <td id=\"T_45486_row8_col8\" class=\"data row8 col8\" >6.444000</td>\n",
       "                        <td id=\"T_45486_row8_col9\" class=\"data row8 col9\" >6.561000</td>\n",
       "                        <td id=\"T_45486_row8_col10\" class=\"data row8 col10\" >6.628000</td>\n",
       "                        <td id=\"T_45486_row8_col11\" class=\"data row8 col11\" >6.171000</td>\n",
       "                        <td id=\"T_45486_row8_col12\" class=\"data row8 col12\" >6.336000</td>\n",
       "                        <td id=\"T_45486_row8_col13\" class=\"data row8 col13\" >6.372000</td>\n",
       "                        <td id=\"T_45486_row8_col14\" class=\"data row8 col14\" >6.600000</td>\n",
       "                        <td id=\"T_45486_row8_col15\" class=\"data row8 col15\" >6.310000</td>\n",
       "                        <td id=\"T_45486_row8_col16\" class=\"data row8 col16\" >6.431000</td>\n",
       "            </tr>\n",
       "            <tr>\n",
       "                        <th id=\"T_45486_level0_row9\" class=\"row_heading level0 row9\" >Venezuela</th>\n",
       "                        <td id=\"T_45486_row9_col0\" class=\"data row9 col0\" >7.170000</td>\n",
       "                        <td id=\"T_45486_row9_col1\" class=\"data row9 col1\" >6.525000</td>\n",
       "                        <td id=\"T_45486_row9_col2\" class=\"data row9 col2\" >nan</td>\n",
       "                        <td id=\"T_45486_row9_col3\" class=\"data row9 col3\" >6.258000</td>\n",
       "                        <td id=\"T_45486_row9_col4\" class=\"data row9 col4\" >7.189000</td>\n",
       "                        <td id=\"T_45486_row9_col5\" class=\"data row9 col5\" >7.478000</td>\n",
       "                        <td id=\"T_45486_row9_col6\" class=\"data row9 col6\" >6.580000</td>\n",
       "                        <td id=\"T_45486_row9_col7\" class=\"data row9 col7\" >7.067000</td>\n",
       "                        <td id=\"T_45486_row9_col8\" class=\"data row9 col8\" >6.553000</td>\n",
       "                        <td id=\"T_45486_row9_col9\" class=\"data row9 col9\" >6.136000</td>\n",
       "                        <td id=\"T_45486_row9_col10\" class=\"data row9 col10\" >5.569000</td>\n",
       "                        <td id=\"T_45486_row9_col11\" class=\"data row9 col11\" >4.041000</td>\n",
       "                        <td id=\"T_45486_row9_col12\" class=\"data row9 col12\" >5.071000</td>\n",
       "                        <td id=\"T_45486_row9_col13\" class=\"data row9 col13\" >5.006000</td>\n",
       "                        <td id=\"T_45486_row9_col14\" class=\"data row9 col14\" >5.081000</td>\n",
       "                        <td id=\"T_45486_row9_col15\" class=\"data row9 col15\" >4.574000</td>\n",
       "                        <td id=\"T_45486_row9_col16\" class=\"data row9 col16\" >4.892000</td>\n",
       "            </tr>\n",
       "    </tbody></table>"
      ],
      "text/plain": [
       "<pandas.io.formats.style.Styler at 0x206fd7d92b0>"
      ]
     },
     "execution_count": 113,
     "metadata": {},
     "output_type": "execute_result"
    }
   ],
   "source": [
    "LACW2 = pd.pivot_table(LACW1,values='Life Ladder',index='Country name',columns='year')\n",
    "LACW2.style.background_gradient()"
   ]
  },
  {
   "cell_type": "markdown",
   "id": "f982b19f",
   "metadata": {},
   "source": [
    "#### Mapa de Calor del Indice de Felicidad en Sudamerica por paises 2005-2021"
   ]
  },
  {
   "cell_type": "code",
   "execution_count": 114,
   "id": "f91cc209",
   "metadata": {},
   "outputs": [
    {
     "data": {
      "image/png": "[encoded data removed]",
      "text/plain": [
       "<Figure size 1080x1080 with 2 Axes>"
      ]
     },
     "metadata": {},
     "output_type": "display_data"
    }
   ],
   "source": [
    "fig, ax = plt.subplots(figsize = (15, 15))\n",
    "sns.heatmap(LACW2,ax=ax);"
   ]
  },
  {
   "cell_type": "markdown",
   "id": "20e0c65c",
   "metadata": {},
   "source": [
    "El Mapa de calir del Indice de felicidad por paises en el periodo 2006-2021 es otra manera de ver la evolución de dicho indicador en el tiempo. A más oscuridad menor índice. Así venos por ejemplo que paises Perú, Paraguay, Ecuador y Bolivia  tuvieron sus peores años al inicio del quindenio, mientras que Venezuela empieza a caer desde el 2015, paises como Brasil tienen una claridad envidiable."
   ]
  },
  {
   "cell_type": "markdown",
   "id": "0895645a",
   "metadata": {},
   "source": [
    "## 6. Principales Hallazgos "
   ]
  },
  {
   "cell_type": "markdown",
   "id": "94a1270e",
   "metadata": {},
   "source": [
    "1.\tEl primer año de pandemia afectó en el Índice de Felicidad a todos los países en Sudamérica excepto Chile. En el segundo año todos, excepto Perú, mostraron recuperación.\n",
    "2.\tAl inicio del periodo de análisis la diferencia en el Índice de felicidad entre los países era más alta (entre el mayor y el menor), brecha que se ha venido reduciendo en el tiempo.\n",
    "3.\tEn los últimos 15 años, medido por la media anual del Índice de felicidad, queda claro que Brasil es el país más “feliz” en Sudamérica (6.6), seguido por Chile (6.35), Argentina (6.29) y Uruguay (6.27). En el extremo opuesto están Perú (5.61) y Paraguay (5.57). Venezuela (5.95) se mantiene a mitad de tabla debido a sus buenos años iniciales, y con una caída estrepitosa desde el 2015.\n",
    "4.\tEn Sudamérica las cifras muestran que los países con mayores índices de felicidad son también aquellos en donde este indicador presenta mayores fluctuaciones (intervalo mayor), tal es el caso de Brasil, Chile, Argentina y Uruguay. Y lo opuesto sucede con Perú, Paraguay y Bolivia los países con menor score y a la vez menor diferencia del índice durante el periodo. \n",
    "5.\tMás dinero, mayor expectativa de vida, mayor libertad de tomar decisiones de vida y menor corrupción (en ese orden), es lo que está más asociado a la felicidad en el Perú. La generosidad y el apoyo social tendrían más bien el efecto contario. Interesantes temas para focalizar acciones, así como el hecho de que los datos soportan la idea de que habría más consenso en cuanto a las percepciones de corrupción que a las libertades de tomar decisiones (dato para los políticos y gobernantes).\n",
    "6.\tSi queremos identificar a la felicidad en el Perú según sus gobernantes, diríamos que nuestro peor momento fue el periodo 2006-2008 (herencia de Toledo y García), hubo una mejora hasta el 2011, un retroceso hasta el 2015 (cortesía de Humala) y luego un repunte hasta el 2019 (PPK-Vizcarra), con la Pandemia vuelve a caer el score de felicidad.\n",
    "7. En la etapa de pandemia (estudio anterior), la variable de mayor correlación con el Indice de Felicidad era el porcentaje de población con dos vacunas, el PBI ocupaba el segundo lugar. \n"
   ]
  }
 ],
 "metadata": {
  "hide_input": false,
  "kernelspec": {
   "display_name": "Python 3 (ipykernel)",
   "language": "python",
   "name": "python3"
  },
  "language_info": {
   "codemirror_mode": {
    "name": "ipython",
    "version": 3
   },
   "file_extension": ".py",
   "mimetype": "text/x-python",
   "name": "python",
   "nbconvert_exporter": "python",
   "pygments_lexer": "ipython3",
   "version": "3.8.5"
  },
  "nbTranslate": {
   "displayLangs": [
    "*"
   ],
   "hotkey": "alt-t",
   "langInMainMenu": true,
   "sourceLang": "en",
   "targetLang": "fr",
   "useGoogleTranslate": true
  },
  "toc": {
   "base_numbering": 1,
   "nav_menu": {},
   "number_sections": true,
   "sideBar": false,
   "skip_h1_title": false,
   "title_cell": "Table of Contents",
   "title_sidebar": "Contents",
   "toc_cell": true,
   "toc_position": {
    "height": "47.7px",
    "left": "24px",
    "top": "87.2px",
    "width": "212px"
   },
   "toc_section_display": true,
   "toc_window_display": false
  },
  "varInspector": {
   "cols": {
    "lenName": 16,
    "lenType": 16,
    "lenVar": 40
   },
   "kernels_config": {
    "python": {
     "delete_cmd_postfix": "",
     "delete_cmd_prefix": "del ",
     "library": "var_list.py",
     "varRefreshCmd": "print(var_dic_list())"
    },
    "r": {
     "delete_cmd_postfix": ") ",
     "delete_cmd_prefix": "rm(",
     "library": "var_list.r",
     "varRefreshCmd": "cat(var_dic_list()) "
    }
   },
   "types_to_exclude": [
    "module",
    "function",
    "builtin_function_or_method",
    "instance",
    "_Feature"
   ],
   "window_display": false
  }
 },
 "nbformat": 4,
 "nbformat_minor": 5
}
